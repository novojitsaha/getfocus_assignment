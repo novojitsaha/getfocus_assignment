{
 "cells": [
  {
   "cell_type": "code",
   "execution_count": 16,
   "id": "110a448d-74b9-45ea-bf7a-6bf949cc539d",
   "metadata": {
    "tags": []
   },
   "outputs": [],
   "source": [
    "import torch\n",
    "from transformers import pipeline\n",
    "import pandas as pd\n",
    "import time"
   ]
  },
  {
   "cell_type": "code",
   "execution_count": 12,
   "id": "1e7e6206-ed67-4973-90e4-938a4b1d3f6c",
   "metadata": {
    "tags": []
   },
   "outputs": [],
   "source": [
    "# load data\n",
    "df = pd.read_csv('./abstracts_2.csv')\n",
    "abstracts = df['abstract'].tolist()"
   ]
  },
  {
   "cell_type": "code",
   "execution_count": 9,
   "id": "4dc18b57-1c02-4c03-a5cc-4eed3c071040",
   "metadata": {
    "tags": []
   },
   "outputs": [
    {
     "data": {
      "application/vnd.jupyter.widget-view+json": {
       "model_id": "3e4a23294f4041949ebbe7dc8f9ee3d5",
       "version_major": 2,
       "version_minor": 0
      },
      "text/plain": [
       "Loading checkpoint shards:   0%|          | 0/2 [00:00<?, ?it/s]"
      ]
     },
     "metadata": {},
     "output_type": "display_data"
    }
   ],
   "source": [
    "pipe = pipeline(\n",
    "    \"text-generation\",\n",
    "    model=\"google/gemma-2-2b-it\",\n",
    "    model_kwargs={\"torch_dtype\": torch.bfloat16},\n",
    "    device=\"cuda\",  # replace with \"mps\" to run on a Mac device\n",
    ")"
   ]
  },
  {
   "cell_type": "code",
   "execution_count": 19,
   "id": "fb6c1d64-61c1-4304-a446-f9583f2d56d3",
   "metadata": {
    "tags": []
   },
   "outputs": [
    {
     "name": "stdout",
     "output_type": "stream",
     "text": [
      "0 :  <Hydraulic System>,<Regenerative Braking>,<Hybrid Vehicle>,<Energy Efficiency>\n",
      "1 :  <Automotive Engineering>, <Hybrid Powertrain>, <Clutch Mechanism>\n",
      "2 :  Traction Control, Vehicle Dynamics, Wheel Drive, Torque Differential\n",
      "3 :  <Driving System>, <Hybrid Power>, <Transmission Mechanism>\n",
      "4 :  Hybrid Transmission, Planetary Gear Sets, Electrical Machines, Kinematics\n",
      "5 :  Hybrid Vehicle Control, Fuel Economy, Battery Temperature Sensor, Engine Control Unit\n",
      "6 :  Engine Control, Vehicle Drivetrain, Flywheel System\n",
      "7 :  <Engine Design>,<Hybrid Vehicle Technology>,<Power Management System>\n",
      "8 :  Connection Device, Hybrid Cable, Fiber Tube Connector, Power Cable Connector\n",
      "9 :  Vehicle Holding Control, Power Consumption Minimization, Hill Hold System, Motor Control\n",
      "10 :  <Power Assembly>,<Hybrid Electric Vehicle>,<Coupling Mechanism>\n",
      "11 :  <Power Transmission>, <Rotating Electrical Machine>, <Internal Combustion Engine>\n",
      "12 :  Hybrid Power System, Vehicle Control, Powertrain Design, Efficiency\n",
      "13 :  <Machine Design>,<Drive System>,<Operating Modes>\n",
      "14 :  Hybrid Power System, ISG Mechanism, Power Control, Vehicle Control System\n",
      "15 :  - Mechanical Transmission\n",
      "- Power Synthesis\n",
      "- Driving\n",
      "16 :  Hybrid Vehicles, Density Sensing, Motor Output\n",
      "17 :  <Integrated Power Driving Module>, <Structural Optimization>, <Engine Module>, <Transmission System Module>\n",
      "18 :  Hybrid Electric Vehicle, Fuel Efficiency, Engine Control, Battery Management\n",
      "19 :  - Powertrain Control\n",
      "- Engine Control\n",
      "- Electric Machine Control\n",
      "20 :  Hybrid Power System, Vehicle, Clutch, Speed Changer, Motor, Operating Mode\n",
      "21 :  energy recycling, vehicle efficiency, engine energy recovery, mechanical energy regeneration\n",
      "22 :  <Drive Train>, <Energy Conversion>, <Interface Design>\n",
      "23 :  Motor Drive Controller, Hybrid Vehicle, Operating Range, Starting Characteristics\n",
      "24 :  Hybrid Vehicle Control, Stuttering Prevention, Engine Start/Stop Control, Automatic Transmission Control, Lag Reduction, Fuel Consumption\n",
      "25 :  Hybrid Mode, Portable Electronic Device, Functionality Control\n",
      "26 :  Electric Vehicle, Air Turbine, Battery Charging\n",
      "27 :  <Power Transmission>, <Hybrid Electric Vehicle>, <Torque Conversion>\n",
      "28 :  - Vehicle Transmission\n",
      "- Hybrid Vehicle Components\n",
      "- Drive Mechanism\n",
      "29 :  <Vehicle Drive System>,<Rotating Electrical Machine>,<Transmission>\n",
      "30 :  Fail-safe, Vehicular Controller, Self-Control, Comparison, Damage Detection\n",
      "31 :  <Diesel Engine>,<Electric Motors>,<Particle Filter>,<Regeneration>,<Braking System>\n",
      "32 :  <Hydraulic Coupling>, <Electric Machine>, <Drive System>\n",
      "33 :  Electric Drive, Cardan Mechanism, Vehicle Propulsion\n",
      "34 :  Engine Shutdown, Vapor Management Valve, EGR Valve, Emission Control System\n",
      "35 :  Hybrid Vehicle Engine Start, Internal Combustion Engine, Electric Machine, Starting Mechanism\n",
      "36 :  Energy Regeneration, Vehicle Drive System, Generator Structure\n",
      "37 :  <In-wheel Motor>, <All-Wheel Drive>, <Power Transmission>\n",
      "38 :  -1\n",
      "39 :  <Hybrid Power Transmission>, <Power Split Mechanism>, <Double-Motor Design>\n",
      "40 :  -1\n",
      "41 :  <Electric Vehicle>,<Hybrid Power>,<Mechanical Components>,<Noise Reduction>\n",
      "42 :  Control Device, Electric Vehicle, Rotating Electric Machine\n",
      "43 :  Vehicle Propulsion, Gas Turbine, Transmission, Axles\n",
      "44 :  Engine-Energy Storage, Clutch Mechanism, Power Unit Design\n",
      "45 :  Hybrid Vehicle Components, Engine and Transmission, Oil Pump Mechanism, Crankshaft and Cam Chain\n",
      "46 :  Mechanical Systems, Energy Amplification, Efficiency, Transmission, Planetary Gears\n",
      "47 :  Engine Start Control, Hybrid Transmission, Vibration Damper\n",
      "48 :  <Switching Unit>,<Planetary Gear>,<Speed-Dependent Switching>\n",
      "49 :  Power Transmission, Torque Converter, Electric Drive\n",
      "Time to process 50 docs:  47.01655673980713\n"
     ]
    }
   ],
   "source": [
    "start = time.time()\n",
    "counter = 0\n",
    "for doc in abstracts:\n",
    "    prompt = f'''Do topic modelling for the following document and generate an appropriate number of short topic labels. If the document\n",
    "    does not contain enough information, return -1. Make sure the topic labels highly suit the document. The document is as follows:\n",
    "\n",
    "    {doc}\n",
    "\n",
    "    Output only the topic labels in the following format: <topic label 1>, <topic label 2>, ...'''\n",
    "    \n",
    "    messages = [\n",
    "        {\"role\": \"user\", \"content\": f\"{prompt}\"},\n",
    "    ]\n",
    "\n",
    "    outputs = pipe(messages, max_new_tokens=256)\n",
    "    assistant_response = outputs[0][\"generated_text\"][-1][\"content\"].strip()\n",
    "    print(counter, ': ', assistant_response)\n",
    "    counter += 1\n",
    "    \n",
    "end = time.time()\n",
    "print('Time to process 50 docs: ', end - start)"
   ]
  }
 ],
 "metadata": {
  "kernelspec": {
   "display_name": "Python",
   "language": "python",
   "name": "python3"
  },
  "language_info": {
   "codemirror_mode": {
    "name": "ipython",
    "version": 3
   },
   "file_extension": ".py",
   "mimetype": "text/x-python",
   "name": "python",
   "nbconvert_exporter": "python",
   "pygments_lexer": "ipython3",
   "version": "3.8.10"
  }
 },
 "nbformat": 4,
 "nbformat_minor": 5
}
