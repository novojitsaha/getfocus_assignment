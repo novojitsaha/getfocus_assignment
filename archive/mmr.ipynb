{
 "cells": [
  {
   "cell_type": "markdown",
   "metadata": {},
   "source": [
    "#### Imports"
   ]
  },
  {
   "cell_type": "code",
   "execution_count": 1,
   "metadata": {},
   "outputs": [
    {
     "name": "stderr",
     "output_type": "stream",
     "text": [
      "c:\\dev\\getfocus_assignment\\venv\\Lib\\site-packages\\tqdm\\auto.py:21: TqdmWarning: IProgress not found. Please update jupyter and ipywidgets. See https://ipywidgets.readthedocs.io/en/stable/user_install.html\n",
      "  from .autonotebook import tqdm as notebook_tqdm\n"
     ]
    }
   ],
   "source": [
    "import pandas as pd\n",
    "from bertopic import BERTopic\n",
    "from sklearn.feature_extraction.text import CountVectorizer\n",
    "from bertopic.representation import MaximalMarginalRelevance"
   ]
  },
  {
   "cell_type": "markdown",
   "metadata": {},
   "source": [
    "#### Load Data"
   ]
  },
  {
   "cell_type": "code",
   "execution_count": 2,
   "metadata": {},
   "outputs": [],
   "source": [
    "df = pd.read_csv('./output_data/modified_case_data.csv')\n",
    "abstracts = df['abstract'].tolist()"
   ]
  },
  {
   "cell_type": "markdown",
   "metadata": {},
   "source": [
    "#### Load Embeddings"
   ]
  },
  {
   "cell_type": "markdown",
   "metadata": {},
   "source": [
    "##### Embedding model: all-MiniLM-L6-v2"
   ]
  },
  {
   "cell_type": "code",
   "execution_count": 3,
   "metadata": {},
   "outputs": [],
   "source": [
    "# Load the DataFrame from the CSV file\n",
    "embeddings_0 = pd.read_csv('./embeddings/all-MiniLM-L6-v2.csv')\n",
    "\n",
    "# Extract embeddings and document IDs\n",
    "document_ids = embeddings_0['ucid'].values\n",
    "embeddings_0_loaded = embeddings_0.drop('ucid', axis=1).values"
   ]
  },
  {
   "cell_type": "markdown",
   "metadata": {},
   "source": [
    "##### Embedding model: stella_en_400M_v5 (MTEB Clustering Category rank 4)"
   ]
  },
  {
   "cell_type": "code",
   "execution_count": 3,
   "metadata": {},
   "outputs": [],
   "source": [
    "# Load the DataFrame from the CSV file\n",
    "embeddings_1 = pd.read_csv('./embeddings/stella_en_400M_v5.csv')\n",
    "\n",
    "# Extract embeddings\n",
    "embeddings_1_loaded = embeddings_1.drop('ucid', axis=1).values"
   ]
  },
  {
   "cell_type": "markdown",
   "metadata": {},
   "source": [
    "#### Initialize Vectorizer"
   ]
  },
  {
   "cell_type": "code",
   "execution_count": 112,
   "metadata": {},
   "outputs": [],
   "source": [
    "vec_model = CountVectorizer(stop_words='english')"
   ]
  },
  {
   "cell_type": "markdown",
   "metadata": {},
   "source": [
    "#### Initialize Representation Model"
   ]
  },
  {
   "cell_type": "code",
   "execution_count": 172,
   "metadata": {},
   "outputs": [
    {
     "ename": "ValueError",
     "evalue": "The truth value of an array with more than one element is ambiguous. Use a.any() or a.all()",
     "output_type": "error",
     "traceback": [
      "\u001b[1;31m---------------------------------------------------------------------------\u001b[0m",
      "\u001b[1;31mValueError\u001b[0m                                Traceback (most recent call last)",
      "Cell \u001b[1;32mIn[172], line 6\u001b[0m\n\u001b[0;32m      4\u001b[0m \u001b[38;5;66;03m# Use the representation model in BERTopic on top of the default pipeline\u001b[39;00m\n\u001b[0;32m      5\u001b[0m topic_model_0 \u001b[38;5;241m=\u001b[39m BERTopic(representation_model\u001b[38;5;241m=\u001b[39mrepresentation_model)\n\u001b[1;32m----> 6\u001b[0m topic_model_1 \u001b[38;5;241m=\u001b[39m \u001b[43mBERTopic\u001b[49m\u001b[43m(\u001b[49m\u001b[43mrepresentation_model\u001b[49m\u001b[38;5;241;43m=\u001b[39;49m\u001b[43mrepresentation_model\u001b[49m\u001b[43m,\u001b[49m\u001b[43m \u001b[49m\u001b[43mvectorizer_model\u001b[49m\u001b[38;5;241;43m=\u001b[39;49m\u001b[43mvec_model\u001b[49m\u001b[43m,\u001b[49m\u001b[43m \u001b[49m\u001b[43membedding_model\u001b[49m\u001b[38;5;241;43m=\u001b[39;49m\u001b[43membeddings_1_loaded\u001b[49m\u001b[43m)\u001b[49m\n",
      "File \u001b[1;32mc:\\dev\\getfocus_assignment\\venv\\Lib\\site-packages\\bertopic\\_bertopic.py:238\u001b[0m, in \u001b[0;36mBERTopic.__init__\u001b[1;34m(self, language, top_n_words, n_gram_range, min_topic_size, nr_topics, low_memory, calculate_probabilities, seed_topic_list, zeroshot_topic_list, zeroshot_min_similarity, embedding_model, umap_model, hdbscan_model, vectorizer_model, ctfidf_model, representation_model, verbose)\u001b[0m\n\u001b[0;32m    235\u001b[0m \u001b[38;5;28mself\u001b[39m\u001b[38;5;241m.\u001b[39mzeroshot_min_similarity \u001b[38;5;241m=\u001b[39m zeroshot_min_similarity\n\u001b[0;32m    237\u001b[0m \u001b[38;5;66;03m# Embedding model\u001b[39;00m\n\u001b[1;32m--> 238\u001b[0m \u001b[38;5;28mself\u001b[39m\u001b[38;5;241m.\u001b[39mlanguage \u001b[38;5;241m=\u001b[39m language \u001b[38;5;28;01mif\u001b[39;00m \u001b[38;5;129;01mnot\u001b[39;00m embedding_model \u001b[38;5;28;01melse\u001b[39;00m \u001b[38;5;28;01mNone\u001b[39;00m\n\u001b[0;32m    239\u001b[0m \u001b[38;5;28mself\u001b[39m\u001b[38;5;241m.\u001b[39membedding_model \u001b[38;5;241m=\u001b[39m embedding_model\n\u001b[0;32m    241\u001b[0m \u001b[38;5;66;03m# Vectorizer\u001b[39;00m\n",
      "\u001b[1;31mValueError\u001b[0m: The truth value of an array with more than one element is ambiguous. Use a.any() or a.all()"
     ]
    }
   ],
   "source": [
    "# Create your representation model\n",
    "representation_model = MaximalMarginalRelevance(diversity=0.4)\n",
    "\n",
    "# Use the representation model in BERTopic on top of the default pipeline\n",
    "topic_model_0 = BERTopic(representation_model=representation_model)\n",
    "topic_model_1 = BERTopic(representation_model=representation_model, vectorizer_model=vec_model, embedding_model=embeddings_1_loaded)"
   ]
  },
  {
   "cell_type": "markdown",
   "metadata": {},
   "source": [
    "### Calculate topics (embedding: all-MiniLM-L6-v2.csv)"
   ]
  },
  {
   "cell_type": "code",
   "execution_count": 13,
   "metadata": {},
   "outputs": [],
   "source": [
    "topics_0, probs_0 = topic_model_0.fit_transform(abstracts, embeddings=embeddings_0_loaded)"
   ]
  },
  {
   "cell_type": "markdown",
   "metadata": {},
   "source": [
    "#### Update Topic Model"
   ]
  },
  {
   "cell_type": "code",
   "execution_count": null,
   "metadata": {},
   "outputs": [],
   "source": [
    "topic_model_0.update_topics(abstracts, vectorizer_model=vec_model)"
   ]
  },
  {
   "cell_type": "markdown",
   "metadata": {},
   "source": [
    "#### Get topic info"
   ]
  },
  {
   "cell_type": "code",
   "execution_count": 14,
   "metadata": {},
   "outputs": [
    {
     "data": {
      "text/html": [
       "<div>\n",
       "<style scoped>\n",
       "    .dataframe tbody tr th:only-of-type {\n",
       "        vertical-align: middle;\n",
       "    }\n",
       "\n",
       "    .dataframe tbody tr th {\n",
       "        vertical-align: top;\n",
       "    }\n",
       "\n",
       "    .dataframe thead th {\n",
       "        text-align: right;\n",
       "    }\n",
       "</style>\n",
       "<table border=\"1\" class=\"dataframe\">\n",
       "  <thead>\n",
       "    <tr style=\"text-align: right;\">\n",
       "      <th></th>\n",
       "      <th>Topic</th>\n",
       "      <th>Count</th>\n",
       "      <th>Name</th>\n",
       "      <th>Representation</th>\n",
       "      <th>Representative_Docs</th>\n",
       "    </tr>\n",
       "  </thead>\n",
       "  <tbody>\n",
       "    <tr>\n",
       "      <th>0</th>\n",
       "      <td>-1</td>\n",
       "      <td>26808</td>\n",
       "      <td>-1_engine_power_motor_vehicle</td>\n",
       "      <td>[engine, power, motor, vehicle, electric, cont...</td>\n",
       "      <td>[Restart control device applied to a vehicle (...</td>\n",
       "    </tr>\n",
       "    <tr>\n",
       "      <th>1</th>\n",
       "      <td>0</td>\n",
       "      <td>880</td>\n",
       "      <td>0_oil_oil pump_pump_lubricating</td>\n",
       "      <td>[oil, oil pump, pump, lubricating, electric oi...</td>\n",
       "      <td>[According to the present invention, when both...</td>\n",
       "    </tr>\n",
       "    <tr>\n",
       "      <th>2</th>\n",
       "      <td>1</td>\n",
       "      <td>683</td>\n",
       "      <td>1_utility model_utility_model_input shaft</td>\n",
       "      <td>[utility model, utility, model, input shaft, s...</td>\n",
       "      <td>[The utility model provides a hybrid power dev...</td>\n",
       "    </tr>\n",
       "    <tr>\n",
       "      <th>3</th>\n",
       "      <td>2</td>\n",
       "      <td>658</td>\n",
       "      <td>2_braking_regenerative_braking force_regenerat...</td>\n",
       "      <td>[braking, regenerative, braking force, regener...</td>\n",
       "      <td>[PROBLEM TO BE SOLVED: To prevent regenerative...</td>\n",
       "    </tr>\n",
       "    <tr>\n",
       "      <th>4</th>\n",
       "      <td>3</td>\n",
       "      <td>624</td>\n",
       "      <td>3_cooling_water_cooling water_radiator</td>\n",
       "      <td>[cooling, water, cooling water, radiator, heat...</td>\n",
       "      <td>[A vehicle capable of efficiently recovering r...</td>\n",
       "    </tr>\n",
       "    <tr>\n",
       "      <th>...</th>\n",
       "      <td>...</td>\n",
       "      <td>...</td>\n",
       "      <td>...</td>\n",
       "      <td>...</td>\n",
       "      <td>...</td>\n",
       "    </tr>\n",
       "    <tr>\n",
       "      <th>403</th>\n",
       "      <td>402</td>\n",
       "      <td>10</td>\n",
       "      <td>402_vehicle engine driven_port power_vehicle e...</td>\n",
       "      <td>[vehicle engine driven, port power, vehicle en...</td>\n",
       "      <td>[The present invention relates to a modular po...</td>\n",
       "    </tr>\n",
       "    <tr>\n",
       "      <th>404</th>\n",
       "      <td>403</td>\n",
       "      <td>10</td>\n",
       "      <td>403_ecu_cs mode_causes engine_ecu causes</td>\n",
       "      <td>[ecu, cs mode, causes engine, ecu causes, cs, ...</td>\n",
       "      <td>[A vehicle provided with a motor generator as ...</td>\n",
       "    </tr>\n",
       "    <tr>\n",
       "      <th>405</th>\n",
       "      <td>404</td>\n",
       "      <td>10</td>\n",
       "      <td>404_abnormality diagnosis_abnormality_diagnosi...</td>\n",
       "      <td>[abnormality diagnosis, abnormality, diagnosis...</td>\n",
       "      <td>[The present invention makes it easier to secu...</td>\n",
       "    </tr>\n",
       "    <tr>\n",
       "      <th>406</th>\n",
       "      <td>405</td>\n",
       "      <td>10</td>\n",
       "      <td>405_pumping_automobile chassis_concrete_leg</td>\n",
       "      <td>[pumping, automobile chassis, concrete, leg, s...</td>\n",
       "      <td>[The invention discloses a kind of tandem type...</td>\n",
       "    </tr>\n",
       "    <tr>\n",
       "      <th>407</th>\n",
       "      <td>406</td>\n",
       "      <td>10</td>\n",
       "      <td>406_electric motor 13_control means 40_motor 1...</td>\n",
       "      <td>[electric motor 13, control means 40, motor 13...</td>\n",
       "      <td>[PROBLEM TO BE SOLVED: To effectively suppress...</td>\n",
       "    </tr>\n",
       "  </tbody>\n",
       "</table>\n",
       "<p>408 rows × 5 columns</p>\n",
       "</div>"
      ],
      "text/plain": [
       "     Topic  Count                                               Name  \\\n",
       "0       -1  26808                      -1_engine_power_motor_vehicle   \n",
       "1        0    880                    0_oil_oil pump_pump_lubricating   \n",
       "2        1    683          1_utility model_utility_model_input shaft   \n",
       "3        2    658  2_braking_regenerative_braking force_regenerat...   \n",
       "4        3    624             3_cooling_water_cooling water_radiator   \n",
       "..     ...    ...                                                ...   \n",
       "403    402     10  402_vehicle engine driven_port power_vehicle e...   \n",
       "404    403     10           403_ecu_cs mode_causes engine_ecu causes   \n",
       "405    404     10  404_abnormality diagnosis_abnormality_diagnosi...   \n",
       "406    405     10        405_pumping_automobile chassis_concrete_leg   \n",
       "407    406     10  406_electric motor 13_control means 40_motor 1...   \n",
       "\n",
       "                                        Representation  \\\n",
       "0    [engine, power, motor, vehicle, electric, cont...   \n",
       "1    [oil, oil pump, pump, lubricating, electric oi...   \n",
       "2    [utility model, utility, model, input shaft, s...   \n",
       "3    [braking, regenerative, braking force, regener...   \n",
       "4    [cooling, water, cooling water, radiator, heat...   \n",
       "..                                                 ...   \n",
       "403  [vehicle engine driven, port power, vehicle en...   \n",
       "404  [ecu, cs mode, causes engine, ecu causes, cs, ...   \n",
       "405  [abnormality diagnosis, abnormality, diagnosis...   \n",
       "406  [pumping, automobile chassis, concrete, leg, s...   \n",
       "407  [electric motor 13, control means 40, motor 13...   \n",
       "\n",
       "                                   Representative_Docs  \n",
       "0    [Restart control device applied to a vehicle (...  \n",
       "1    [According to the present invention, when both...  \n",
       "2    [The utility model provides a hybrid power dev...  \n",
       "3    [PROBLEM TO BE SOLVED: To prevent regenerative...  \n",
       "4    [A vehicle capable of efficiently recovering r...  \n",
       "..                                                 ...  \n",
       "403  [The present invention relates to a modular po...  \n",
       "404  [A vehicle provided with a motor generator as ...  \n",
       "405  [The present invention makes it easier to secu...  \n",
       "406  [The invention discloses a kind of tandem type...  \n",
       "407  [PROBLEM TO BE SOLVED: To effectively suppress...  \n",
       "\n",
       "[408 rows x 5 columns]"
      ]
     },
     "execution_count": 14,
     "metadata": {},
     "output_type": "execute_result"
    }
   ],
   "source": [
    "topic_model_0.get_topic_info()"
   ]
  },
  {
   "cell_type": "markdown",
   "metadata": {},
   "source": [
    "#### Visualize topics"
   ]
  },
  {
   "cell_type": "code",
   "execution_count": 11,
   "metadata": {},
   "outputs": [],
   "source": []
  },
  {
   "cell_type": "markdown",
   "metadata": {},
   "source": [
    "### Calculate topics (embedding: stella_en_400M_v5)"
   ]
  },
  {
   "cell_type": "code",
   "execution_count": 169,
   "metadata": {},
   "outputs": [],
   "source": [
    "topics_1, probs_1 = topic_model_1.fit_transform(abstracts, embeddings=embeddings_1_loaded)"
   ]
  },
  {
   "cell_type": "markdown",
   "metadata": {},
   "source": [
    "#### Update topic model"
   ]
  },
  {
   "cell_type": "code",
   "execution_count": 127,
   "metadata": {},
   "outputs": [],
   "source": [
    "topic_model_1.update_topics(abstracts, vectorizer_model=vec_model)"
   ]
  },
  {
   "cell_type": "markdown",
   "metadata": {},
   "source": [
    "#### Get topic info "
   ]
  },
  {
   "cell_type": "code",
   "execution_count": 154,
   "metadata": {},
   "outputs": [
    {
     "data": {
      "text/html": [
       "<div>\n",
       "<style scoped>\n",
       "    .dataframe tbody tr th:only-of-type {\n",
       "        vertical-align: middle;\n",
       "    }\n",
       "\n",
       "    .dataframe tbody tr th {\n",
       "        vertical-align: top;\n",
       "    }\n",
       "\n",
       "    .dataframe thead th {\n",
       "        text-align: right;\n",
       "    }\n",
       "</style>\n",
       "<table border=\"1\" class=\"dataframe\">\n",
       "  <thead>\n",
       "    <tr style=\"text-align: right;\">\n",
       "      <th></th>\n",
       "      <th>Topic</th>\n",
       "      <th>Count</th>\n",
       "      <th>Name</th>\n",
       "      <th>Representation</th>\n",
       "      <th>Representative_Docs</th>\n",
       "    </tr>\n",
       "  </thead>\n",
       "  <tbody>\n",
       "    <tr>\n",
       "      <th>0</th>\n",
       "      <td>11</td>\n",
       "      <td>261</td>\n",
       "      <td>11_countershaft_input_shafts_shaft</td>\n",
       "      <td>[countershaft, input, shafts, shaft, stage, id...</td>\n",
       "      <td>[The invention relates to a transmission (4) c...</td>\n",
       "    </tr>\n",
       "  </tbody>\n",
       "</table>\n",
       "</div>"
      ],
      "text/plain": [
       "   Topic  Count                                Name  \\\n",
       "0     11    261  11_countershaft_input_shafts_shaft   \n",
       "\n",
       "                                      Representation  \\\n",
       "0  [countershaft, input, shafts, shaft, stage, id...   \n",
       "\n",
       "                                 Representative_Docs  \n",
       "0  [The invention relates to a transmission (4) c...  "
      ]
     },
     "execution_count": 154,
     "metadata": {},
     "output_type": "execute_result"
    }
   ],
   "source": [
    "topic_model_1.get_topic_info(11)"
   ]
  },
  {
   "cell_type": "markdown",
   "metadata": {},
   "source": [
    "#### Visualize topics"
   ]
  },
  {
   "cell_type": "code",
   "execution_count": 167,
   "metadata": {},
   "outputs": [
    {
     "data": {
      "text/plain": [
       "[('management', 0.032912736097917915),\n",
       " ('energy', 0.031042564774208),\n",
       " ('storage', 0.0194806694369169),\n",
       " ('circuitry', 0.016666779398388322),\n",
       " ('units', 0.013748793209901898),\n",
       " ('benefit', 0.011798993127112403),\n",
       " ('manager', 0.010679930114374072),\n",
       " ('converters', 0.008804514514363445),\n",
       " ('cost', 0.00856065287632451),\n",
       " ('charge', 0.008189341647966275)]"
      ]
     },
     "execution_count": 167,
     "metadata": {},
     "output_type": "execute_result"
    }
   ],
   "source": [
    "topic_model_1.get_topic(300)"
   ]
  },
  {
   "cell_type": "code",
   "execution_count": 178,
   "metadata": {},
   "outputs": [
    {
     "data": {
      "text/html": [
       "<div>\n",
       "<style scoped>\n",
       "    .dataframe tbody tr th:only-of-type {\n",
       "        vertical-align: middle;\n",
       "    }\n",
       "\n",
       "    .dataframe tbody tr th {\n",
       "        vertical-align: top;\n",
       "    }\n",
       "\n",
       "    .dataframe thead th {\n",
       "        text-align: right;\n",
       "    }\n",
       "</style>\n",
       "<table border=\"1\" class=\"dataframe\">\n",
       "  <thead>\n",
       "    <tr style=\"text-align: right;\">\n",
       "      <th></th>\n",
       "      <th>Topic</th>\n",
       "      <th>Count</th>\n",
       "      <th>Name</th>\n",
       "      <th>Representation</th>\n",
       "      <th>Representative_Docs</th>\n",
       "    </tr>\n",
       "  </thead>\n",
       "  <tbody>\n",
       "    <tr>\n",
       "      <th>0</th>\n",
       "      <td>-1</td>\n",
       "      <td>24677</td>\n",
       "      <td>-1_power_engine_motor_vehicle</td>\n",
       "      <td>[power, engine, motor, vehicle, battery, gener...</td>\n",
       "      <td>[The invention relates to a power coupling tra...</td>\n",
       "    </tr>\n",
       "    <tr>\n",
       "      <th>1</th>\n",
       "      <td>0</td>\n",
       "      <td>1005</td>\n",
       "      <td>0_oil_pump_lubricating_passage</td>\n",
       "      <td>[oil, pump, lubricating, passage, lubrication,...</td>\n",
       "      <td>[The present invention relates to a method of ...</td>\n",
       "    </tr>\n",
       "    <tr>\n",
       "      <th>2</th>\n",
       "      <td>1</td>\n",
       "      <td>648</td>\n",
       "      <td>1_machine_subtransmission_partial_internal</td>\n",
       "      <td>[machine, subtransmission, partial, internal, ...</td>\n",
       "      <td>[Hybrid drive train for a hybrid-driven vehicl...</td>\n",
       "    </tr>\n",
       "    <tr>\n",
       "      <th>3</th>\n",
       "      <td>2</td>\n",
       "      <td>572</td>\n",
       "      <td>2_hydraulic_accumulator_fluid_pressure</td>\n",
       "      <td>[hydraulic, accumulator, fluid, pressure, hydr...</td>\n",
       "      <td>[A hydrostatic hybrid drive system for road ve...</td>\n",
       "    </tr>\n",
       "    <tr>\n",
       "      <th>4</th>\n",
       "      <td>3</td>\n",
       "      <td>499</td>\n",
       "      <td>3_braking_regenerative_brake_force</td>\n",
       "      <td>[braking, regenerative, brake, force, regenera...</td>\n",
       "      <td>[An engine and a second power generating devic...</td>\n",
       "    </tr>\n",
       "    <tr>\n",
       "      <th>...</th>\n",
       "      <td>...</td>\n",
       "      <td>...</td>\n",
       "      <td>...</td>\n",
       "      <td>...</td>\n",
       "      <td>...</td>\n",
       "    </tr>\n",
       "    <tr>\n",
       "      <th>451</th>\n",
       "      <td>450</td>\n",
       "      <td>10</td>\n",
       "      <td>450_module_multipart_subcomponents_subsystems</td>\n",
       "      <td>[module, multipart, subcomponents, subsystems,...</td>\n",
       "      <td>[The invention relates to a method, apparatus ...</td>\n",
       "    </tr>\n",
       "    <tr>\n",
       "      <th>452</th>\n",
       "      <td>451</td>\n",
       "      <td>10</td>\n",
       "      <td>451_rearguard_b1_b2_lawiener</td>\n",
       "      <td>[rearguard, b1, b2, lawiener, em1, em2, c2, lo...</td>\n",
       "      <td>[A transmission for a longitudinal front-drive...</td>\n",
       "    </tr>\n",
       "    <tr>\n",
       "      <th>453</th>\n",
       "      <td>452</td>\n",
       "      <td>10</td>\n",
       "      <td>452_44s_45s_4s_distributor</td>\n",
       "      <td>[44s, 45s, 4s, distributor, 44c, 45c, 5s, 5c, ...</td>\n",
       "      <td>[A power transmission apparatus of a hybrid el...</td>\n",
       "    </tr>\n",
       "    <tr>\n",
       "      <th>454</th>\n",
       "      <td>453</td>\n",
       "      <td>10</td>\n",
       "      <td>453_winterizing_dewinterizing_lowvoltage_phase</td>\n",
       "      <td>[winterizing, dewinterizing, lowvoltage, phase...</td>\n",
       "      <td>[PROBLEM TO BE SOLVED: To provide a heating de...</td>\n",
       "    </tr>\n",
       "    <tr>\n",
       "      <th>455</th>\n",
       "      <td>454</td>\n",
       "      <td>10</td>\n",
       "      <td>454_heating_water_grille_temperature</td>\n",
       "      <td>[heating, water, grille, temperature, referenc...</td>\n",
       "      <td>[PROBLEM TO BE SOLVED: To suppress freezing of...</td>\n",
       "    </tr>\n",
       "  </tbody>\n",
       "</table>\n",
       "<p>456 rows × 5 columns</p>\n",
       "</div>"
      ],
      "text/plain": [
       "     Topic  Count                                            Name  \\\n",
       "0       -1  24677                   -1_power_engine_motor_vehicle   \n",
       "1        0   1005                  0_oil_pump_lubricating_passage   \n",
       "2        1    648      1_machine_subtransmission_partial_internal   \n",
       "3        2    572          2_hydraulic_accumulator_fluid_pressure   \n",
       "4        3    499              3_braking_regenerative_brake_force   \n",
       "..     ...    ...                                             ...   \n",
       "451    450     10   450_module_multipart_subcomponents_subsystems   \n",
       "452    451     10                    451_rearguard_b1_b2_lawiener   \n",
       "453    452     10                      452_44s_45s_4s_distributor   \n",
       "454    453     10  453_winterizing_dewinterizing_lowvoltage_phase   \n",
       "455    454     10            454_heating_water_grille_temperature   \n",
       "\n",
       "                                        Representation  \\\n",
       "0    [power, engine, motor, vehicle, battery, gener...   \n",
       "1    [oil, pump, lubricating, passage, lubrication,...   \n",
       "2    [machine, subtransmission, partial, internal, ...   \n",
       "3    [hydraulic, accumulator, fluid, pressure, hydr...   \n",
       "4    [braking, regenerative, brake, force, regenera...   \n",
       "..                                                 ...   \n",
       "451  [module, multipart, subcomponents, subsystems,...   \n",
       "452  [rearguard, b1, b2, lawiener, em1, em2, c2, lo...   \n",
       "453  [44s, 45s, 4s, distributor, 44c, 45c, 5s, 5c, ...   \n",
       "454  [winterizing, dewinterizing, lowvoltage, phase...   \n",
       "455  [heating, water, grille, temperature, referenc...   \n",
       "\n",
       "                                   Representative_Docs  \n",
       "0    [The invention relates to a power coupling tra...  \n",
       "1    [The present invention relates to a method of ...  \n",
       "2    [Hybrid drive train for a hybrid-driven vehicl...  \n",
       "3    [A hydrostatic hybrid drive system for road ve...  \n",
       "4    [An engine and a second power generating devic...  \n",
       "..                                                 ...  \n",
       "451  [The invention relates to a method, apparatus ...  \n",
       "452  [A transmission for a longitudinal front-drive...  \n",
       "453  [A power transmission apparatus of a hybrid el...  \n",
       "454  [PROBLEM TO BE SOLVED: To provide a heating de...  \n",
       "455  [PROBLEM TO BE SOLVED: To suppress freezing of...  \n",
       "\n",
       "[456 rows x 5 columns]"
      ]
     },
     "execution_count": 178,
     "metadata": {},
     "output_type": "execute_result"
    }
   ],
   "source": [
    "topic_model_1.get_topic_info()"
   ]
  },
  {
   "cell_type": "code",
   "execution_count": null,
   "metadata": {},
   "outputs": [],
   "source": [
    "# Use the \"c-TF-IDF\" strategy with a threshold\n",
    "new_topics = topic_model_1.reduce_outliers(abstracts, topics_1 , strategy=\"embeddings\")\n",
    "\n",
    "# Reduce all outliers that are left with the \"distributions\" strategy\n",
    "# new_topics = topic_model_1.reduce_outliers(abstracts, new_topics, strategy=\"distributions\")\n"
   ]
  },
  {
   "cell_type": "code",
   "execution_count": 174,
   "metadata": {},
   "outputs": [],
   "source": [
    "topic_distr, _ = topic_model_1.approximate_distribution(abstracts)\n"
   ]
  },
  {
   "cell_type": "code",
   "execution_count": 184,
   "metadata": {},
   "outputs": [
    {
     "data": {
      "application/vnd.plotly.v1+json": {
       "config": {
        "plotlyServerURL": "https://plot.ly"
       },
       "data": [
        {
         "marker": {
          "color": "#C8D2D7",
          "line": {
           "color": "#6E8484",
           "width": 1
          }
         },
         "orientation": "h",
         "type": "bar",
         "x": [
          0.015293436922633283,
          0.05114699646087546,
          0.018021111783923602,
          0.0166841069801202,
          0.02197750402570404,
          0.02092783405685139,
          0.017027751804897653,
          0.016024939209580112,
          0.03911198598464624,
          0.03981929302562989,
          0.01711978650715343,
          0.04875163870256601,
          0.041831172022419275,
          0.018418488766683474
         ],
         "y": [
          "<b>Topic 14</b>: target_accelerator_open...",
          "<b>Topic 26</b>: flywheel_kinetic_energy...",
          "<b>Topic 47</b>: stop_restart_idling_idl...",
          "<b>Topic 72</b>: start_starting_started_...",
          "<b>Topic 116</b>: starting_method_ice_co...",
          "<b>Topic 119</b>: accelerator_opening_ac...",
          "<b>Topic 143</b>: auxiliary_machines_aux...",
          "<b>Topic 163</b>: deceleration_accelerat...",
          "<b>Topic 177</b>: flywheel_gimbal_vacuum...",
          "<b>Topic 189</b>: flywheel_iv_mover_infi...",
          "<b>Topic 214</b>: startergenerator_journ...",
          "<b>Topic 238</b>: flywheel_clfw_regenera...",
          "<b>Topic 280</b>: flywheel_motorelectric...",
          "<b>Topic 296</b>: starter_rim_starting_i..."
         ]
        }
       ],
       "layout": {
        "height": 600,
        "hoverlabel": {
         "bgcolor": "white",
         "font": {
          "family": "Rockwell",
          "size": 16
         }
        },
        "template": {
         "data": {
          "bar": [
           {
            "error_x": {
             "color": "rgb(36,36,36)"
            },
            "error_y": {
             "color": "rgb(36,36,36)"
            },
            "marker": {
             "line": {
              "color": "white",
              "width": 0.5
             },
             "pattern": {
              "fillmode": "overlay",
              "size": 10,
              "solidity": 0.2
             }
            },
            "type": "bar"
           }
          ],
          "barpolar": [
           {
            "marker": {
             "line": {
              "color": "white",
              "width": 0.5
             },
             "pattern": {
              "fillmode": "overlay",
              "size": 10,
              "solidity": 0.2
             }
            },
            "type": "barpolar"
           }
          ],
          "carpet": [
           {
            "aaxis": {
             "endlinecolor": "rgb(36,36,36)",
             "gridcolor": "white",
             "linecolor": "white",
             "minorgridcolor": "white",
             "startlinecolor": "rgb(36,36,36)"
            },
            "baxis": {
             "endlinecolor": "rgb(36,36,36)",
             "gridcolor": "white",
             "linecolor": "white",
             "minorgridcolor": "white",
             "startlinecolor": "rgb(36,36,36)"
            },
            "type": "carpet"
           }
          ],
          "choropleth": [
           {
            "colorbar": {
             "outlinewidth": 1,
             "tickcolor": "rgb(36,36,36)",
             "ticks": "outside"
            },
            "type": "choropleth"
           }
          ],
          "contour": [
           {
            "colorbar": {
             "outlinewidth": 1,
             "tickcolor": "rgb(36,36,36)",
             "ticks": "outside"
            },
            "colorscale": [
             [
              0,
              "#440154"
             ],
             [
              0.1111111111111111,
              "#482878"
             ],
             [
              0.2222222222222222,
              "#3e4989"
             ],
             [
              0.3333333333333333,
              "#31688e"
             ],
             [
              0.4444444444444444,
              "#26828e"
             ],
             [
              0.5555555555555556,
              "#1f9e89"
             ],
             [
              0.6666666666666666,
              "#35b779"
             ],
             [
              0.7777777777777778,
              "#6ece58"
             ],
             [
              0.8888888888888888,
              "#b5de2b"
             ],
             [
              1,
              "#fde725"
             ]
            ],
            "type": "contour"
           }
          ],
          "contourcarpet": [
           {
            "colorbar": {
             "outlinewidth": 1,
             "tickcolor": "rgb(36,36,36)",
             "ticks": "outside"
            },
            "type": "contourcarpet"
           }
          ],
          "heatmap": [
           {
            "colorbar": {
             "outlinewidth": 1,
             "tickcolor": "rgb(36,36,36)",
             "ticks": "outside"
            },
            "colorscale": [
             [
              0,
              "#440154"
             ],
             [
              0.1111111111111111,
              "#482878"
             ],
             [
              0.2222222222222222,
              "#3e4989"
             ],
             [
              0.3333333333333333,
              "#31688e"
             ],
             [
              0.4444444444444444,
              "#26828e"
             ],
             [
              0.5555555555555556,
              "#1f9e89"
             ],
             [
              0.6666666666666666,
              "#35b779"
             ],
             [
              0.7777777777777778,
              "#6ece58"
             ],
             [
              0.8888888888888888,
              "#b5de2b"
             ],
             [
              1,
              "#fde725"
             ]
            ],
            "type": "heatmap"
           }
          ],
          "heatmapgl": [
           {
            "colorbar": {
             "outlinewidth": 1,
             "tickcolor": "rgb(36,36,36)",
             "ticks": "outside"
            },
            "colorscale": [
             [
              0,
              "#440154"
             ],
             [
              0.1111111111111111,
              "#482878"
             ],
             [
              0.2222222222222222,
              "#3e4989"
             ],
             [
              0.3333333333333333,
              "#31688e"
             ],
             [
              0.4444444444444444,
              "#26828e"
             ],
             [
              0.5555555555555556,
              "#1f9e89"
             ],
             [
              0.6666666666666666,
              "#35b779"
             ],
             [
              0.7777777777777778,
              "#6ece58"
             ],
             [
              0.8888888888888888,
              "#b5de2b"
             ],
             [
              1,
              "#fde725"
             ]
            ],
            "type": "heatmapgl"
           }
          ],
          "histogram": [
           {
            "marker": {
             "line": {
              "color": "white",
              "width": 0.6
             }
            },
            "type": "histogram"
           }
          ],
          "histogram2d": [
           {
            "colorbar": {
             "outlinewidth": 1,
             "tickcolor": "rgb(36,36,36)",
             "ticks": "outside"
            },
            "colorscale": [
             [
              0,
              "#440154"
             ],
             [
              0.1111111111111111,
              "#482878"
             ],
             [
              0.2222222222222222,
              "#3e4989"
             ],
             [
              0.3333333333333333,
              "#31688e"
             ],
             [
              0.4444444444444444,
              "#26828e"
             ],
             [
              0.5555555555555556,
              "#1f9e89"
             ],
             [
              0.6666666666666666,
              "#35b779"
             ],
             [
              0.7777777777777778,
              "#6ece58"
             ],
             [
              0.8888888888888888,
              "#b5de2b"
             ],
             [
              1,
              "#fde725"
             ]
            ],
            "type": "histogram2d"
           }
          ],
          "histogram2dcontour": [
           {
            "colorbar": {
             "outlinewidth": 1,
             "tickcolor": "rgb(36,36,36)",
             "ticks": "outside"
            },
            "colorscale": [
             [
              0,
              "#440154"
             ],
             [
              0.1111111111111111,
              "#482878"
             ],
             [
              0.2222222222222222,
              "#3e4989"
             ],
             [
              0.3333333333333333,
              "#31688e"
             ],
             [
              0.4444444444444444,
              "#26828e"
             ],
             [
              0.5555555555555556,
              "#1f9e89"
             ],
             [
              0.6666666666666666,
              "#35b779"
             ],
             [
              0.7777777777777778,
              "#6ece58"
             ],
             [
              0.8888888888888888,
              "#b5de2b"
             ],
             [
              1,
              "#fde725"
             ]
            ],
            "type": "histogram2dcontour"
           }
          ],
          "mesh3d": [
           {
            "colorbar": {
             "outlinewidth": 1,
             "tickcolor": "rgb(36,36,36)",
             "ticks": "outside"
            },
            "type": "mesh3d"
           }
          ],
          "parcoords": [
           {
            "line": {
             "colorbar": {
              "outlinewidth": 1,
              "tickcolor": "rgb(36,36,36)",
              "ticks": "outside"
             }
            },
            "type": "parcoords"
           }
          ],
          "pie": [
           {
            "automargin": true,
            "type": "pie"
           }
          ],
          "scatter": [
           {
            "fillpattern": {
             "fillmode": "overlay",
             "size": 10,
             "solidity": 0.2
            },
            "type": "scatter"
           }
          ],
          "scatter3d": [
           {
            "line": {
             "colorbar": {
              "outlinewidth": 1,
              "tickcolor": "rgb(36,36,36)",
              "ticks": "outside"
             }
            },
            "marker": {
             "colorbar": {
              "outlinewidth": 1,
              "tickcolor": "rgb(36,36,36)",
              "ticks": "outside"
             }
            },
            "type": "scatter3d"
           }
          ],
          "scattercarpet": [
           {
            "marker": {
             "colorbar": {
              "outlinewidth": 1,
              "tickcolor": "rgb(36,36,36)",
              "ticks": "outside"
             }
            },
            "type": "scattercarpet"
           }
          ],
          "scattergeo": [
           {
            "marker": {
             "colorbar": {
              "outlinewidth": 1,
              "tickcolor": "rgb(36,36,36)",
              "ticks": "outside"
             }
            },
            "type": "scattergeo"
           }
          ],
          "scattergl": [
           {
            "marker": {
             "colorbar": {
              "outlinewidth": 1,
              "tickcolor": "rgb(36,36,36)",
              "ticks": "outside"
             }
            },
            "type": "scattergl"
           }
          ],
          "scattermapbox": [
           {
            "marker": {
             "colorbar": {
              "outlinewidth": 1,
              "tickcolor": "rgb(36,36,36)",
              "ticks": "outside"
             }
            },
            "type": "scattermapbox"
           }
          ],
          "scatterpolar": [
           {
            "marker": {
             "colorbar": {
              "outlinewidth": 1,
              "tickcolor": "rgb(36,36,36)",
              "ticks": "outside"
             }
            },
            "type": "scatterpolar"
           }
          ],
          "scatterpolargl": [
           {
            "marker": {
             "colorbar": {
              "outlinewidth": 1,
              "tickcolor": "rgb(36,36,36)",
              "ticks": "outside"
             }
            },
            "type": "scatterpolargl"
           }
          ],
          "scatterternary": [
           {
            "marker": {
             "colorbar": {
              "outlinewidth": 1,
              "tickcolor": "rgb(36,36,36)",
              "ticks": "outside"
             }
            },
            "type": "scatterternary"
           }
          ],
          "surface": [
           {
            "colorbar": {
             "outlinewidth": 1,
             "tickcolor": "rgb(36,36,36)",
             "ticks": "outside"
            },
            "colorscale": [
             [
              0,
              "#440154"
             ],
             [
              0.1111111111111111,
              "#482878"
             ],
             [
              0.2222222222222222,
              "#3e4989"
             ],
             [
              0.3333333333333333,
              "#31688e"
             ],
             [
              0.4444444444444444,
              "#26828e"
             ],
             [
              0.5555555555555556,
              "#1f9e89"
             ],
             [
              0.6666666666666666,
              "#35b779"
             ],
             [
              0.7777777777777778,
              "#6ece58"
             ],
             [
              0.8888888888888888,
              "#b5de2b"
             ],
             [
              1,
              "#fde725"
             ]
            ],
            "type": "surface"
           }
          ],
          "table": [
           {
            "cells": {
             "fill": {
              "color": "rgb(237,237,237)"
             },
             "line": {
              "color": "white"
             }
            },
            "header": {
             "fill": {
              "color": "rgb(217,217,217)"
             },
             "line": {
              "color": "white"
             }
            },
            "type": "table"
           }
          ]
         },
         "layout": {
          "annotationdefaults": {
           "arrowhead": 0,
           "arrowwidth": 1
          },
          "autotypenumbers": "strict",
          "coloraxis": {
           "colorbar": {
            "outlinewidth": 1,
            "tickcolor": "rgb(36,36,36)",
            "ticks": "outside"
           }
          },
          "colorscale": {
           "diverging": [
            [
             0,
             "rgb(103,0,31)"
            ],
            [
             0.1,
             "rgb(178,24,43)"
            ],
            [
             0.2,
             "rgb(214,96,77)"
            ],
            [
             0.3,
             "rgb(244,165,130)"
            ],
            [
             0.4,
             "rgb(253,219,199)"
            ],
            [
             0.5,
             "rgb(247,247,247)"
            ],
            [
             0.6,
             "rgb(209,229,240)"
            ],
            [
             0.7,
             "rgb(146,197,222)"
            ],
            [
             0.8,
             "rgb(67,147,195)"
            ],
            [
             0.9,
             "rgb(33,102,172)"
            ],
            [
             1,
             "rgb(5,48,97)"
            ]
           ],
           "sequential": [
            [
             0,
             "#440154"
            ],
            [
             0.1111111111111111,
             "#482878"
            ],
            [
             0.2222222222222222,
             "#3e4989"
            ],
            [
             0.3333333333333333,
             "#31688e"
            ],
            [
             0.4444444444444444,
             "#26828e"
            ],
            [
             0.5555555555555556,
             "#1f9e89"
            ],
            [
             0.6666666666666666,
             "#35b779"
            ],
            [
             0.7777777777777778,
             "#6ece58"
            ],
            [
             0.8888888888888888,
             "#b5de2b"
            ],
            [
             1,
             "#fde725"
            ]
           ],
           "sequentialminus": [
            [
             0,
             "#440154"
            ],
            [
             0.1111111111111111,
             "#482878"
            ],
            [
             0.2222222222222222,
             "#3e4989"
            ],
            [
             0.3333333333333333,
             "#31688e"
            ],
            [
             0.4444444444444444,
             "#26828e"
            ],
            [
             0.5555555555555556,
             "#1f9e89"
            ],
            [
             0.6666666666666666,
             "#35b779"
            ],
            [
             0.7777777777777778,
             "#6ece58"
            ],
            [
             0.8888888888888888,
             "#b5de2b"
            ],
            [
             1,
             "#fde725"
            ]
           ]
          },
          "colorway": [
           "#1F77B4",
           "#FF7F0E",
           "#2CA02C",
           "#D62728",
           "#9467BD",
           "#8C564B",
           "#E377C2",
           "#7F7F7F",
           "#BCBD22",
           "#17BECF"
          ],
          "font": {
           "color": "rgb(36,36,36)"
          },
          "geo": {
           "bgcolor": "white",
           "lakecolor": "white",
           "landcolor": "white",
           "showlakes": true,
           "showland": true,
           "subunitcolor": "white"
          },
          "hoverlabel": {
           "align": "left"
          },
          "hovermode": "closest",
          "mapbox": {
           "style": "light"
          },
          "paper_bgcolor": "white",
          "plot_bgcolor": "white",
          "polar": {
           "angularaxis": {
            "gridcolor": "rgb(232,232,232)",
            "linecolor": "rgb(36,36,36)",
            "showgrid": false,
            "showline": true,
            "ticks": "outside"
           },
           "bgcolor": "white",
           "radialaxis": {
            "gridcolor": "rgb(232,232,232)",
            "linecolor": "rgb(36,36,36)",
            "showgrid": false,
            "showline": true,
            "ticks": "outside"
           }
          },
          "scene": {
           "xaxis": {
            "backgroundcolor": "white",
            "gridcolor": "rgb(232,232,232)",
            "gridwidth": 2,
            "linecolor": "rgb(36,36,36)",
            "showbackground": true,
            "showgrid": false,
            "showline": true,
            "ticks": "outside",
            "zeroline": false,
            "zerolinecolor": "rgb(36,36,36)"
           },
           "yaxis": {
            "backgroundcolor": "white",
            "gridcolor": "rgb(232,232,232)",
            "gridwidth": 2,
            "linecolor": "rgb(36,36,36)",
            "showbackground": true,
            "showgrid": false,
            "showline": true,
            "ticks": "outside",
            "zeroline": false,
            "zerolinecolor": "rgb(36,36,36)"
           },
           "zaxis": {
            "backgroundcolor": "white",
            "gridcolor": "rgb(232,232,232)",
            "gridwidth": 2,
            "linecolor": "rgb(36,36,36)",
            "showbackground": true,
            "showgrid": false,
            "showline": true,
            "ticks": "outside",
            "zeroline": false,
            "zerolinecolor": "rgb(36,36,36)"
           }
          },
          "shapedefaults": {
           "fillcolor": "black",
           "line": {
            "width": 0
           },
           "opacity": 0.3
          },
          "ternary": {
           "aaxis": {
            "gridcolor": "rgb(232,232,232)",
            "linecolor": "rgb(36,36,36)",
            "showgrid": false,
            "showline": true,
            "ticks": "outside"
           },
           "baxis": {
            "gridcolor": "rgb(232,232,232)",
            "linecolor": "rgb(36,36,36)",
            "showgrid": false,
            "showline": true,
            "ticks": "outside"
           },
           "bgcolor": "white",
           "caxis": {
            "gridcolor": "rgb(232,232,232)",
            "linecolor": "rgb(36,36,36)",
            "showgrid": false,
            "showline": true,
            "ticks": "outside"
           }
          },
          "title": {
           "x": 0.05
          },
          "xaxis": {
           "automargin": true,
           "gridcolor": "rgb(232,232,232)",
           "linecolor": "rgb(36,36,36)",
           "showgrid": false,
           "showline": true,
           "ticks": "outside",
           "title": {
            "standoff": 15
           },
           "zeroline": false,
           "zerolinecolor": "rgb(36,36,36)"
          },
          "yaxis": {
           "automargin": true,
           "gridcolor": "rgb(232,232,232)",
           "linecolor": "rgb(36,36,36)",
           "showgrid": false,
           "showline": true,
           "ticks": "outside",
           "title": {
            "standoff": 15
           },
           "zeroline": false,
           "zerolinecolor": "rgb(36,36,36)"
          }
         }
        },
        "title": {
         "font": {
          "color": "Black",
          "size": 22
         },
         "text": "<b>Topic Probability Distribution</b>",
         "x": 0.5,
         "xanchor": "center",
         "y": 0.95,
         "yanchor": "top"
        },
        "width": 800,
        "xaxis": {
         "title": {
          "text": "Probability"
         }
        }
       }
      }
     },
     "metadata": {},
     "output_type": "display_data"
    }
   ],
   "source": [
    "topic_model_1.visualize_distribution(topic_distr[6])\n"
   ]
  },
  {
   "cell_type": "code",
   "execution_count": null,
   "metadata": {},
   "outputs": [],
   "source": [
    "for doc_index, topic_probs in enumerate(topic_distr):\n",
    "    print(doc_index, topic_probs)"
   ]
  },
  {
   "cell_type": "markdown",
   "metadata": {},
   "source": []
  }
 ],
 "metadata": {
  "kernelspec": {
   "display_name": "venv",
   "language": "python",
   "name": "python3"
  },
  "language_info": {
   "codemirror_mode": {
    "name": "ipython",
    "version": 3
   },
   "file_extension": ".py",
   "mimetype": "text/x-python",
   "name": "python",
   "nbconvert_exporter": "python",
   "pygments_lexer": "ipython3",
   "version": "3.12.3"
  }
 },
 "nbformat": 4,
 "nbformat_minor": 2
}
