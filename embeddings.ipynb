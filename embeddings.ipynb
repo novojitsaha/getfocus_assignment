{
 "cells": [
  {
   "cell_type": "markdown",
   "metadata": {},
   "source": [
    "#### Imports"
   ]
  },
  {
   "cell_type": "code",
   "execution_count": 41,
   "metadata": {},
   "outputs": [],
   "source": [
    "import pandas as pd\n",
    "from sentence_transformers import SentenceTransformer"
   ]
  },
  {
   "cell_type": "markdown",
   "metadata": {},
   "source": [
    "#### Load Data"
   ]
  },
  {
   "cell_type": "code",
   "execution_count": 43,
   "metadata": {},
   "outputs": [],
   "source": [
    "df = pd.read_csv('./output_data/modified_case_data.csv')\n",
    "abstracts = df['abstract']\n",
    "ucids = df['ucid']\n",
    "abstracts_list = abstracts.tolist()"
   ]
  },
  {
   "cell_type": "markdown",
   "metadata": {},
   "source": [
    "#### Pre-calculate embeddings"
   ]
  },
  {
   "cell_type": "markdown",
   "metadata": {},
   "source": [
    "##### Model: all-MiniLM-L6-v2"
   ]
  },
  {
   "cell_type": "code",
   "execution_count": null,
   "metadata": {},
   "outputs": [],
   "source": [
    "# Calculate embedding\n",
    "embedding_model_0 = SentenceTransformer(\"all-MiniLM-L6-v2\")\n",
    "embeddings_0 = embedding_model_0.encode(abstracts_list, show_progress_bar=True)"
   ]
  },
  {
   "cell_type": "code",
   "execution_count": null,
   "metadata": {},
   "outputs": [],
   "source": [
    "# Save the embedding to a CSV file\n",
    "\n",
    "# Convert embeddings to a DataFrame\n",
    "embeddings_df_0 = pd.DataFrame(embeddings_0)\n",
    "\n",
    "# Add document IDs to the DataFrame\n",
    "embeddings_df_0['ucid'] = ucids\n",
    "\n",
    "# Save the DataFrame to a CSV file\n",
    "embeddings_df_0.to_csv('./embeddings/all-MiniLM-L6-v2.csv', index=False)"
   ]
  },
  {
   "cell_type": "markdown",
   "metadata": {},
   "source": [
    "##### Model: dunzhang/stella_en_400M_v5 (MTEB Clustering Category Rank 4)"
   ]
  },
  {
   "cell_type": "code",
   "execution_count": null,
   "metadata": {},
   "outputs": [],
   "source": [
    "# Calculate embedding\n",
    "embedding_model_1 = SentenceTransformer(\"dunzhang/stella_en_400M_v5\", trust_remote_code=True)\n",
    "embeddings_1 = embedding_model_1.encode(abstracts_list, show_progress_bar=True)"
   ]
  },
  {
   "cell_type": "code",
   "execution_count": null,
   "metadata": {},
   "outputs": [],
   "source": [
    "# Save the embedding to a CSV file\n",
    "\n",
    "# Convert embeddings to a DataFrame\n",
    "embeddings_df_1 = pd.DataFrame(embeddings_1)\n",
    "\n",
    "# Add document IDs to the DataFrame\n",
    "embeddings_df_1['ucid'] = ucids\n",
    "\n",
    "# Save the DataFrame to a CSV file\n",
    "embeddings_df_1.to_csv('./embeddings/stella_en_400M_v5.csv', index=False)"
   ]
  }
 ],
 "metadata": {
  "kernelspec": {
   "display_name": "venv",
   "language": "python",
   "name": "python3"
  },
  "language_info": {
   "codemirror_mode": {
    "name": "ipython",
    "version": 3
   },
   "file_extension": ".py",
   "mimetype": "text/x-python",
   "name": "python",
   "nbconvert_exporter": "python",
   "pygments_lexer": "ipython3",
   "version": "3.12.3"
  }
 },
 "nbformat": 4,
 "nbformat_minor": 2
}
