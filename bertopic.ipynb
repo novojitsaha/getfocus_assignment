{
 "cells": [
  {
   "cell_type": "code",
   "execution_count": 123,
   "metadata": {},
   "outputs": [],
   "source": [
    "import csv\n",
    "from bertopic import BERTopic\n",
    "from sentence_transformers import SentenceTransformer\n",
    "from sklearn.feature_extraction.text import CountVectorizer\n",
    "from bertopic.representation import MaximalMarginalRelevance, KeyBERTInspired\n",
    "\n",
    "\n"
   ]
  },
  {
   "cell_type": "code",
   "execution_count": 13,
   "metadata": {},
   "outputs": [],
   "source": [
    "texts = []\n",
    "with open('./output_data/abstracts_2.csv', newline='') as csv_output:\n",
    "    reader = csv.reader(csv_output, delimiter='\\n')\n",
    "    for row in reader:\n",
    "        texts.extend(row)\n"
   ]
  },
  {
   "cell_type": "code",
   "execution_count": 14,
   "metadata": {},
   "outputs": [
    {
     "name": "stdout",
     "output_type": "stream",
     "text": [
      "['A hydraulic regenerative braking and power support device for the hybrid vehicle is provided to improve the total efficiency of the hybrid vehicle since the unavailable energy generated in the internal combustion engine is utilized in order to maintain the isothermal condition in the compression and expansion of the compressed air. A hydraulic regenerative braking and power support device for the hybrid vehicle comprises a high pressure storage tank(10) in which the compressed air is charged on the top of the tank inside, and the working fluid is stored in the lower part of the tank inside, a heat exchanger which heat-exchanges he compressed air(11) on the top of the inside of the high pressure storage tank, a fluid compressor which raises the pressure of the working fluid flowed in from the low pressure storage tank, and transfers and stores the working fluid to the high pressure storage tank. The risen temperature of the compressed air is cooled by the heat exchanger in the working fluid storage at the high pressure storage tank.', 'Higher, the lower planet row plug-in hybrid-power automobile of oil consumption dynamical system that the invention discloses a kind of efficiency, it is characterised in thatï¼šOuter shaftï¼ˆ5ï¼‰Further include second clutch for hollow shaftï¼ˆ3ï¼‰, inner shaftï¼ˆ10ï¼‰And its second sun gearï¼ˆ11ï¼‰Positioned at planet carrierï¼ˆ13ï¼‰Within, the second planetary gearï¼ˆ12ï¼‰It is rotatably installed on planet carrierï¼ˆ13ï¼‰Planet axisï¼ˆ131ï¼‰On the second planet row, the second clutchï¼ˆ3ï¼‰External drum and first clutchï¼ˆ4ï¼‰External drum connect firmly and and input shaftï¼ˆ2ï¼‰Right end be connected, the inner shaftï¼ˆ10ï¼‰Left and right end stretch out in outer shaft respectivelyï¼ˆ5ï¼‰Left and right end, right end and the second sun gearï¼ˆ11ï¼‰It connects firmly, left end and second clutchï¼ˆ3ï¼‰Interior hub be connected, the first planetary gear of first planet rowï¼ˆ7ï¼‰With the second planetary gear of the second planet rowï¼ˆ12ï¼‰It connects firmly and left and right is installed on planet axis side by sideï¼ˆ131ï¼‰On.', 'The traction arrangement comprises one or more individually driven wheels (26) on opposed sides of the vehicle. A torque differential is supplied by motors (16) via propellor shafts (22) which are substantially perpendicular to the drive shafts (24), this results in a reaction against which the wheels (26) move relative to a suspended part of the vehicle. The arrangement incorporates a displacement prop (100) in which the relative movement is sustained after removal of the torque differential. Typically, the displacement prop (100) comprises a piston (103) and cylinder (102) arrangement in which the piston (103) is moved freely in order to accommodate the relative movement, whilst return is either prevented or is at a much reduced rate in order to sustain the relative movement and therefore weight distribution, for improved traction control.', 'A dual-motor hybrid power driving system comprises a driving system box body, an engine, a first motor, a differential mechanism, an input shaft, an intermediate shaft, a first transmission shaft and a second transmission shaft, wherein the input shaft, the intermediate shaft, the first transmission shaft and the second transmission shaft are supported in the driving system box body in parallel; the input shaft and the intermediate shaft are respectively connected through a first gear pair of the engine and a second gear pair of the engine, and a first synchronizer for gear shifting is arranged between the first gear pair of the engine and the second gear pair of the engine; a first-gear driving gear of the motor and a second-gear driving gear of the motor are fixedly arranged on the first transmission shaft, a first-gear driven gear of the motor and a second-gear driven gear of the motor are respectively arranged on the second transmission shaft in a free sleeve mode, and a second synchronizer used for shifting gears is arranged between the first-gear driven gear of the motor and the second-gear driven gear of the motor.', 'FIELD: transport.SUBSTANCE: hybrid transmission comprises two planetary gear sets. Planetary gear set elements are coupled with drive engine via two all-purpose electrical machines and, via output links, with torque. Controlled friction couplings couple links of planetary gear sets with housing and between them. First universal electrical machine engages with crown gear of the first planetary gear set and, via first controlled coupling, with input shaft while, via second controlled coupling, it is engaged with pinion frame of secondary planetary gear set. Second planetary gear set crown gear is engaged via third controlled coupling with housing. Second all-purpose electrical machine is directly engaged with sun gear of both planetary gear sets and, via fourth controlled coupling, with housing.EFFECT: improved kinematics.8 dwg', '<P>PROBLEM TO BE SOLVED: To provide a control device for a hybrid vehicle, improving fuel economy.  <P>SOLUTION: A parallel hybrid vehicle is provided with a battery temperature sensor S8 and an HVECU 35 which detect the condition of a battery 3, a vehicle speed sensor S1, an engine speed sensor S2 and an accelerator pedal opening sensor S5 which detect the condition of a vehicle, and an FI/AT/MGECU36 changing required values of an engine E and a motor M based on an accelerator pedal opening, and also determining whether or not fuel supply to the engine E is stopped according to the condition of the vehicle. When the vehicle is decelerating and the accelerator pedal opening is at the predetermined opening or below, a fuel cutting condition is maintained, and also a target torque found out based on the accelerator pedal opening is controlled by an MOTECU33 until the accelerator pedal is increased to the predetermined opening.  <P>COPYRIGHT: (C)2006,JPO&NCIPI  ', 'An improved drive unit for a vehicle having an internal combustion engine, an automatic transmission and a clutch comprising a servo-powered mechanical coupling part and a fluid coupling part is disclosed. The fluid coupling part serves as the flywheel for the engine. An auxiliary starting motor rotates the flywheel to a speed sufficient to start the internal combustion engine when the accelerator pedal is depressed, thereby closing the mechanical coupling part and connecting the flywheel with the engine crankshaft. When the accelerator pedal is released the mechanical coupling part opens to stop the engine in all engine-braking phases, thereby maximizing fuel conservation.', 'The utility model discloses a kind of special engine based on coaxial parallel-connection plug-in hybrid passenger car, including integrated structure, engine power administrative unit and engine intelligent control unit, engine power administrative unit and engine intelligent control unit are all connected with entire car controllerï¼›Integrated structure includes engine, and flywheel shell of engine is integrated in one with automatic clutch shellï¼›The stator of permanent-magnet synchronous drive motor is rigidly connected with multi gear AMT mechanical automatic gearbox housings, and the input shaft of the rotor and multi gear AMT mechanical automatic gearboxes of permanent-magnet synchronous drive motor is rigidly connectedï¼›Permanent-magnet synchronous drive motor is rigidly connected with automatic clutch housing, and the input shaft of permanent-magnet synchronous drive motor is connected with engine.Engine intelligent management system carries out intelligent control according to vehicle energy distribution condition, throttle opening, instantaneous distributive value to engine etc., realizes engine torque closed-loop control, reaches discharge and oil consumption optimizes.', 'A connection device for connecting a first optical and electric hybrid cable and a second optical and electric hybrid cable is disclosed. The first optical and electric hybrid cable has a first power cable and a first fiber tube for receiving a fiber therein, and the second optical and electric hybrid cable has a second power cable and a second fiber tube for receiving the fiber therein. The connection device comprises a fiber tube connector for coupling the first fiber tube with the second fiber tube, and a power cable conne ctor for electrically connecting the first power cable and the second power cable. The fiber is inserted into the first fiber tube and the second fiber tube after the first fiber tube and the second fiber tube have been coupled together. An optical connection of two optical and electric hybrid cables is achieved in a convenient and quick manner only using the fiber tube connector, instead of using a fiber connection box having fiber connector, fiber adapter, fiber-arranging tray, fiber-coiling tray, shrinkable tube, etc., therefore, the disclosed connection device is very simple in structure.', 'PROBLEM TO BE SOLVED: To provide a vehicle holding control device and a vehicle holding control method that can minimize power consumption of a motor.SOLUTION: The vehicle holding control device that includes: an oil pressure hill holding means that gradually releases the brake oil pressure, after holding it, when detecting an uphill state of the vehicle and an off-state of a brake pedal 17; a front motor 4, and a rear motor 6 that can supply the driving force; and motor ECUs 11 and 12 that control driving force of each motor, includes an engine ECU 13 that derives necessary vehicle holding power necessary for preventing sliding down of the vehicle 1 in the uphill state based on the road surface gradient and the vehicle weight. The motor ECUs 11 and 12 supplement the vehicle holding power that runs short with the torque of the front motor 4 and the rear motor 6 when the vehicle holding power that decreases gradually by release of the oil pressure by the oil pressure hill holding means becomes less than the necessary vehicle holding force derived by the engine ECU 13.', 'The invention discloses a coupling mechanism for a power assembly of a hybrid electric vehicle. The coupling mechanism comprises an engine, a motor and a speed changer which are connected in sequence, wherein an input shaft of the motor is coupled with an output shaft of the engine through a gear ring arranged on the front end of the input shaft of the motor; the front end of the gear ring is threaded to the front end of the output shaft of the engine; the output shaft of the engine and the input shaft of the motor are helically driven; the back end of the input shaft of the motor is in spline connection with the back end of the gear ring; and an opening for sealing and conveniently disassembling and maintaining is arranged on an outer shell of an motor cover. In the invention, the front end of the gear ring and the output shaft of the engine are kept threaded and the magnetic field coupling way is adopted, therefore achieving good smooth joint and high coupling efficiency. A clutch which is arranged between the engine and the motor in the prior art is eliminated, therefore simplifying the structure and lightening the weight. The coupling mechanism of the invention can be applied on the hybrid electric vehicle as the coupling mechanism of the power assembly.', 'Abstract of the Disclosure A power transmission apparatus, which is disposed on a power transmission path from an output shaft of an internal combustion engine to a transmission in a vehicle, is provided with a rotating electrical machine including a rotor and a stator. The rotor is coupled to a synchronous rotating member that rotates synchronously with the output shaft of the internal combustion engine, and takes a central axis of the output shaft of the internal combustion engine as a rotating shaft. The stator is fixed to a fixing member on a non-rotating side with respect to the synchronous rotating member, and faces the rotor with a first gap therebetween.', 'A PHEV power system and a control method thereof comprise the following steps: parallel shaft type gearbox and the pure electric power part, hybrid part, vehicle control unit and the on-vehicle sensor that link to each other with it respectively, wherein: the vehicle controller sends working instructions to the parallel shaft type gearbox, the pure electric power part and the hybrid power part according to the vehicle speed, the accelerator opening and the battery residual capacity information of the whole vehicle collected by the vehicle-mounted sensor so as to determine the working mode of the vehicle controller; the invention has the advantages of more compact arrangement structure and lower cost by the parallel shaft type gearbox and the selection of the motor and the engine with proper power. The dynamic property and the economical efficiency of the hybrid power system are ensured by controlling the motor and the engine, and the utilization rate of the engine in the whole life cycle of the vehicle is improved.', 'A working machine comprising: a ground engaging structure with a first and second axle, each mounting two wheels; a body supported on the ground engaging structure, a working arm mounted to the body; and a drive arrangement for moving the ground engaging structure to propel the working machine, the drive arrangement including a prime mover and transmission. The transmission comprises a hydraulic pump driven by the prime mover, a first high speed hydraulic motor to drive the first axle to permit the working machine to be drive at relatively high speeds in a first two-wheel drive operating mode, and a second low speed motor a first high speed hydraulic motor to be supplied with hydraulic fluid from the hydraulic pump to drive the second axle at relatively low speeds and configured to be driven in conjunction with the first motor in a second four-wheel drive operating mode.', 'The invention discloses a kind of ISG gently to mix hybrid power system and its power-control method, includingï¼šFirst accumulator, DC/DC converters, the second accumulator, Engine ECU, engine, ISG motors, ISG electric machine controllers, the entire car controller increased income, load simulation motor, load simulation electric machine controller, bi-directional power AFE, AC380V, first accumulator is that ISG electric machine controllers and ISG motors are powered, and ISG electric machine controllers control the operating status of ISG motorsï¼›The operating status of engine ECU controls engineï¼›Bi-directional power AFE is used to power for load simulation electric machine controller and load simulation motorï¼›The power output axis connection that the output shaft of ISG motors passes through transmission device and engine so that ISG motors can drive power output shaft to rotateï¼›Power output shaft inputs axis connection with load simulation motor, to drive load simulation motor to rotate.The configuration of the present invention is simple, it is little to the change of former automobile chassis, it is easier to realize on existing automobile.', 'The invention relates to a power synthesis transmission device, belonging to the technical field of mechanical transmission, in particular to the technical field of power synthesis driving.', ' DC60 (13/09/55) Hybrid vehicles include engines, motors of which the engine and motor are the driving sources. First drive model In which the vehicle is driven using the engine output And a second drive scheme in which the vehicle is driven based on the motor output by That caused the engine to stop working Hybrid vehicles, including to next, the density sensing section The air that has been created for detecting the air tightness of the surroundings in which the vehicle Driven under that environment and in case the sensed air density decreases Compared with standard air density The motor output in the second driving scheme is obtained. Reduction in relation to the motor output in standard air density to provide the thrust of Vehicles in a second driving pattern, when switching between propulsion styles, are approaching thrust. Of vehicles in the first driving style Hybrid vehicles include engines, motors of which the engine and motor are the driving sources. First drive model In which the vehicle is driven using the engine output And a second drive scheme in which the vehicle is driven based on the motor output by That caused the engine to stop working Hybrid vehicles, including to next, the density sensing section The air that has been created for detecting the air tightness of the surroundings in which the vehicle Driven under that environment and in case the sensed air density decreases Compared with standard air density The motor output in the second driving scheme is obtained. Reduction in relation to the motor output in standard air density to provide the thrust of Vehicles in a second driving pattern, when switching between propulsion styles, are approaching thrust. Of vehicles in the first driving style', 'The utility model discloses an integrated range-extending power driving module based on structural optimization, which comprises an engine module, an integrated power module and a transmission system module; the integrated power module comprises a generator, a motor and a transmission; the mounting method comprises the steps of mounting a generator, mounting a motor, mounting a transmission and fixing the integrated range-extended power driving module with the engine; the two-gear speed change can be met, the transmission power loss is reduced, the space utilization rate is improved, the overhauling and maintenance are convenient, the stress structure is optimized, the available space is saved, and the stress stability of the whole structure is met.', 'A fuel use limiter-equipped hybrid electric car has a battery unit chargeable by an external charger, an electric drive motor capable of driving wheels by electric power from the battery unit, an internal combustion engine for driving a generator to supply electric power to the electric drive motor, and a controller for controlling operations of the electric drive motor and internal combustion engine. The hybrid electric car is further provided with a fuel-use-state detector for detecting a change in a parameter, which change corresponds to a quantity of fuel used by the internal combustion engine since charging of the battery unit by the external charger. The controller limits at least one of an output of the electric drive motor and that of internal combustion engine when from results of a detection by the fuel-use-state detector, the change in the parameter is found to have reached a predetermined value.', 'A method for controlling a powertrain includes executing a shift, determining a plurality of input acceleration profiles for controlling an engine and an electric machine, determining an input speed profile, and controlling operation of the engine and the electric machine based upon the input speed profile.', 'The present invention provides a kind of hybrid power system and vehicle based on double clutch speed-changings.System includes engine, motor, first clutch, second clutch and speed changer, the input terminal of first clutch and the output axis connection of engine, the input terminal of second clutch and the output axis connection of engineï¼›Speed changer includes the first gear group input shaft and the second gear group input shaft, and the output end of the first gear group input shaft and first clutch connects, and the output end of the second gear group input shaft and second clutch connects, and motor is connect with the second gear group input shaftï¼›The first gear group in speed changer is odd number gear, and the second gear group in speed changer is even number gear and reverse gear shift.Motor is connect with the second gear group input shaft, motor is highly integrated, reduces the complexity of hybrid power system, saves cost.The operating mode that system can be realized is more, switches flexibly between operating mode, ensure that the adaptation of the operating condition to various differentiation.', 'A hydraulic carrier energy recycling application system can recycle the abundant power in low load of engine and recycle the brake and vibration energy of vehicle, with high efficiency and complete function, to regenerate the mechanical energy via building one heat reflux circulation from engine left heat, to reduce fuel consumption of vehicle.', 'The invention relates to a vehicle having a drive train, which comprises at least one first engine and a wheel, wherein a torque can be transmitted from the first engine to the wheel by the drive train, and wherein at least one first unit of the drive train is connected to an interface, by which rapid and simple replaceability of said unit is possible, wherein the interface is designed to be connected to a second unit, which is different from the first unit, wherein both units are designed to store electricity, to convert chemically bound energy into energy of rotation and/or to convert electricity into energy of rotation and/or to convert rotation energy of rotation into electricity.', 'PROBLEM TO BE SOLVED: To provide a motor drive controller for hybrid vehicle, capable of concurrently achieving output characteristics of a motor within an operating range in assisting vehicle drive and output characteristics of the motor in starting an internal combustion engine, in spite of a simple and low-cost configuration, thus achieving good output characteristics of the motor in starting and within a wide operating range.SOLUTION: The motor drive controller for hybrid vehicle, which is a drive controller of a motor 2 for a hybrid vehicle with an internal combustion engine 1 and the motor 2 as a drive source, switches connecting states of field windings 2C1-2C3, 2C4-2C6, 2C7-2C9 of a plurality of motors 2 provided for each phase (U-phase, V-phase, W-phase) between serial connection and parallel connection according to operating states.', ' DC60 (18/01/56) machines and control methods for hybrid vehicle control are provided for stuttering protection and to have the least negative effects on lag and fuel consumption. When requested One control of engine start / stop control and shift control. Automatic transmission gear While another control takes place Controllers, including engines, motors / generators First clutch Automatic transmission unit Integrated controller, AT controller, and engine / transmission coordination control When requesting control at Two have been formed during control one. Engine / transmission coordination control Is about to initiate a second control at the requested time. When there is no condition that makes the stimulation more Acceptable level And initiate the second control at the later schedule When there is a condition that causes the spasm Is more than acceptable level If the second control has been initiated at the requested time ------ 04/04/2018 ------ (OCR) page 1 of the number 1 page summary of invention The machines and control methods for handling hybrid vehicles have been touted to prevent stuttering and to have the least negative effects on lag and fuel consumption. When requested One control of engine start / stop control and shift control. Automatic transmission gear While another control takes place Controllers, including engines, motors / generators First clutch Automatic transmission unit Integrated controller, AT controller, and engine / transmission coordination control When requesting control at Two have been formed during control one. Engine / transmission coordination control Is about to initiate a second control at the time requested. When there is no condition that causes the shock to be over Acceptable level And begin mastering the second control at a later time When there is a condition that causes the spasm Is more than acceptable level If a second control has been initiated at the time requested ------------ The engine and control method for controlling the hybrid vehicle are provided for anti-jerk. And has the least negative effects on lag and fuel consumption. When requested One control of engine start / stop control and shift control. About the automatic transmission unit While another control takes place Controllers, including engines, motors / generators First clutch Automatic transmission unit Integrated controller, AT controller, and engine / power coordination control When requesting control at Two have been formed during control one. Engine / transmission coordination control Is about to initiate a second control at the requested time. When there is no condition that makes the stimulation more Acceptable level And initiate the second control at the later schedule When there is a condition that causes the spasm Is more than acceptable level If that second control was initiated at the requested time', 'Embodiments of the present disclosure relates to systems and methods for enabling and disabling hybrid mode of operation on a  portable electronic device. The system for enabling and disabling hybrid mode of operation on portable electronic device includes a  hybrid mode command receive module configured to receive a hybrid mode activation command comprising of any or combination of  a user issued hybrid mode activation command, a location based auto triggered hybrid mode activation command, a schedule based  auto triggered hybrid mode activation command, and a supervisor issued hybrid mode activation command, and a hybrid mode  activation module configured to active hybrid mode of operation on the portable electronic device as per a specified policy rules by  disabling one or more restricted functionalities of the portable electronic device and keeping other essential functionalities active, on  receipt of the hybrid mode activation signal.', 'A battery powered automobile includes an air operated turbine fed by front and side air scoops for providing both charging current to the batteries and driving power for the automobile. An auxiliary internal combustion engine is included for use when necessary. Deceleration and wind sensitive controls operate door structure on the front air scoop so that it opens, increasing drag, only under predetermined conditions. Braking energy is utilized to help charge the batteries.', 'A power transmitting apparatus of a hybrid electric vehicle includes an input device including four input shafts disposed with several input gears, torque converting device including a planetary gear set having rotation elements connected with the input shafts, and a shifting output device for shifting torques received from the input shafts and outputting the shifted torque.', ' DC60 (04/06/57) A drive device for hybrid vehicles consisting of a transmission mechanism (10) which is connected to the engine (1) and transmits engine rotation, fast-reverse mechanism (20). It connects the transmission mechanism to the drive wheels (32) and the switching device (CL1, BK1), which changes the speed of the transmission mechanism. It consists of the first rotary element (24) which is connected to the transmission element (13) of the transmission mechanism, the second rotating element (21) which is connected to the rotating electrical machinery at Two (MG2) and drive wheels, and by which the rotation of the transmission element of the transmission mechanism will Bounded by the switching device', '<P>PROBLEM TO BE SOLVED: To provide a driving device for a vehicle having a rotating electrical machine of high speed operation, and combined with various types of engines and transmissions.  <P>SOLUTION: The driving device 100 for the vehicle includes an engine 1 for outputting rotational power for driving the vehicle, a transmission 5 having an input shaft A2 that can be jointed to an output shaft A1 of the engine 1 and changing rotation speed of the input shaft A2 to transmit to an output member 7, the rotating electrical machine 2 having a rotational shaft 21 having an axis different from the axis of the input shaft A2 of the transmission 5, and a speed reducer 4 reducing the rotation speed of the rotational shaft 21 of the rotating electrical machine 2 to transmit to the input shaft A2 of the transmission 5.  <P>COPYRIGHT: (C)2010,JPO&INPIT  ', 'PROBLEM TO BE SOLVED: To improve fail-safe function by comparing a self-calculating result with a calculated result of a self-function that is carried out in the other device, in a vehicular controller for carrying out self-control calculation and control calculation of the other controller. SOLUTION: In an overall control device 20, a calculation result in a CPU 33 of an engine controller 30 is received by an interior communication circuit 27. In the engine controller 30, a calculation result in a CPU 23 of the overall controller 20 is received by an interior communication circuit 37. A data received by the interior communication circuit 27 is compared with the calculated result in the CPU 23, and a data received by the interior communication circuit 37 is compared with the calculated result in the CPU 33. In the overall controller 20, AND calculation of a result compared in a comparison block 25 and a result compared in a comparison block 35 is carried out by a comparison calculation block 26.  In the case where both results are not matched with each other, it is judged that either one of the controllers 20, 30 is damaged, and a next process is shifted to a fail-safe treatment.', 'In a motor vehicle, the driven wheels are driven by electric motors (16, 18) which are fed via a current controller (8) by a generator (6) coupled to a diesel engine (4). In the exhaust duct of the diesel engine (4) there is a particle filter (30) which is heated electrically via a circuit breaker (22) coupled to the electric lead arrangement for the driving motors (16, 18). For this purpose, there are resistance heating elements in the filter material of the particle filter (30). Regeneration of the filter is preferably carried out during the braking phases of the vehicle. In these braking phases, the driving motors (16, 18) act as generators and the electrical energy supplied by them serves to heat the particle filter (30) and to drive the generator (6), which is then motor-driven. This generator then operates the diesel engine, the fuel supply having been shut off, and the diesel engine thus operates as a compressor, pumping fresh air into the particle filter (30) via the exhaust system. <IMAGE>', 'A hydraulic coupling device (12), in particular a hydraulic torque converter, which fluid coupling device has a casing device (14) to be connected for co-rotation with the drive shaft, and a drive connection with the transmission device. And an electric machine (62) comprising a rotor arrangement (64) and a stator arrangement (78) connected for co-rotation with the casing arrangement (14). A drive system comprising a casing device (74), wherein the stator device (78) is supported by a casing (74) at least regionally surrounding the fluid connection (12). It is considered that a cooling medium passage device (80) is provided in a region (76; 88) supporting the stator device (78).', 'Â\\xa01. A module for electric drive of a machine and mechanisms, comprising an electric machine, the rotor of which is equipped with a cardan mechanism connected to a driven means. ! 2. The module according to claim 1, characterized in that the electric machine is reversible. ! 3. A vehicle equipped with at least one module according to claim 1 or claim 2, the cardan mechanism of which is connected directly to the propulsion device of the vehicle. ! 4. The vehicle according to claim 3, characterized in that it is equipped with several modules connected to the movers of opposite sides of the vehicle. ! 5. A device for power supply containing a module according to claim 1 and a hydraulic turbine placed in a stream of water, the shaft of which is connected to the cardan mechanism of the specified module.', 'Periodic shutdown of the internal combustion engine (12) during operation of a hybrid electric vehicle (HEV) is achieved by shutdown of a vapor management valve (VMV) of the engine evaporative emission control system and an EGR valve () during operation of a hybrid electric vehicle (HEV) is achieved by shutdown of a vapor management valve (VMV) of the engine evaporative emission control system and an EGR valve (150) of the tailpipe emission control system at the time an engine shutdown command is provided to a controlled engine shutdown routine that, after closing of the VMV and EGR valves, then commands disabling of the engine fuel injectors () of the tailpipe emission control system at the time an engine shutdown command is provided to a controlled engine shutdown routine that, after closing of the VMV and EGR valves, then commands disabling of the engine fuel injectors (160) in a manner to stop engine operation.) in a manner to stop engine operation.', 'Method for starting an internal combustion engine of a hybrid vehicle with a drive train (1) comprising an internal combustion engine (2), a main electric machine (3), an auxiliary electric machine (4) and a starting gearbox (5), wherein the main electric machine (3 ) via a separating clutch (7) to the internal combustion engine (2) is coupled and the auxiliary electric machine (4) via a coupling element (8) with the internal combustion engine (2) is coupled and wherein the main electric machine (3) provides a drive torque, characterized by the steps from a first time (t1) operating the auxiliary electric machine (4) such that it exerts a torque on the internal combustion engine (2) via the coupling element (8) and thereby increases the speed of the internal combustion engine (2) until reaching a start criterion, so the internal combustion engine (2) supports a starting process itself from a second point in time (t2); and from a third point in time (t3), at least partially closing the separating clutch (7) and operating the main electric machine (3) in such a way that the main electric machine (3) substantially provides the driving torque via the starting element (6) and at the same time a torque via the separating clutch (7) on the internal combustion engine (2) exercises.', '(57) [Summary] [Purpose] The objective is to improve the mounting structure of the energy regeneration generator for effectively accumulating the traveling energy of the automobile and improving the regeneration effect. [Structure] When an electric vehicle runs by inertia without pressing the accelerator pedal, the kinetic energy of the vehicle is taken out by a propeller shaft, the electric output is stored in a battery by a generator, and this energy is used during acceleration of the vehicle. In such a reproducing apparatus, the reproducing generator 4 is incorporated into the drive system of the automobile so that the reproducing generator 4 is located at the rear of the transmission with respect to the motor 1 coaxially with the driving motor 1. The regenerative generator 4 is connected to the battery 2 via the rectifier 5 and the control device 6, and the rear portion of the through shaft of the generator 4 is supported by the roller bearing 7 fixed to the chassis 12. , Connected to the propeller shaft 9 through the universal joint 8 and the rear end of the propeller shaft 9 through the universal joint 10. By connecting to the rear wheel drive system, the rotor shaft of the generator 4 can be used as a part of the drive shaft of an automobile. ', '<P> To provide an in-wheel motor installation all-wheel-drive vehicle having a POWER intermittent means capable of transmitting POWER from the motor to a wheel by driving the motor only when motor assist is required. <P>SOLUTION: The all-wheel-drive vehicle has the POWER intermittent means where an in-wheel motor 3 is supported in a spring lower part of the vehicle by a buffer mechanism 10 having a viscous element and an elastic element and the motor 3 and the wheel 2 are interconnected through a POWER transmission mechanism 20 where a motor-side plate 21 and a plate 22 for POWER transmission are interconnected through a plurality of cross guides 23, a coupling member 24 for POWER transmission is mounted to the plate 22 for POWER transmission, and the coupling member 24 is sandwiched between a brake disk 8 and a roller that is disposed in a caliper 9A with a roller and is rotatable in the circumferential direction of the brake disk 8. The in-wheel motor 3 is driven only when the motor assist is required. <P>COPYRIGHT: (C)2006 and JPO&amp; NCIPI   ', '  (57) [Summary] This bulletin contains application data before electronic filing, so abstract data is not recorded.', 'The invention discloses a double-motor double-planet-row power-split longitudinally-arranged hybrid power transmission, which comprises a shell, an auxiliary motor, a driving motor, an input shaft and an output shaft, wherein one end of the input shaft is connected with an engine, and an auxiliary motor shaft of the auxiliary motor is sleeved on the input shaft in a hollow manner; a driving motor shaft of the driving motor is sleeved on the output shaft in a hollow way; the double-brake double-planet-row planetary gear train comprises a driving motor, an auxiliary motor and a double brake, wherein a double planet row is arranged between the driving motor and the auxiliary motor, the double brake comprises a double-brake disc, a first double-brake driven disc and a second double-brake driven disc are respectively arranged on two sides of the double-brake disc, the first double-brake driven disc is fixedly arranged on a shaft of the auxiliary motor, and the second double-brake driven disc is fixedly connected with a left planet carrier. The invention has the following beneficial effects: the design of auxiliary motor locking is added, after the auxiliary motor is locked, power flowing out of the power generation branch circuit of power division is cut off, and the output power of the engine can be completely used for driving a vehicle.', '  (57) [Summary] This bulletin contains application data before electronic filing, so abstract data is not recorded.', 'The invention relates to an oil-electric hybrid power quadricycle which comprises a frame, a carriage, a driver seat, a range extending device, batteries, a muffler, an oil tank and a controller, wherein the range extending device comprises a generator, an engine and a clutch, an air duct is arranged in front of the driver seat, the range extending device is arranged below the driver seat, and a motor, a gasoline engine cylinder head and the controller right face to an air inlet. The range extending device is arranged on the frame through a shock absorbing mount which is formed by connecting an upper supporting plate, a lower supporting plate and a middle rubber block. The oil tank is arranged below the driver seat, the muffler comprises a primary muffling tube, a secondary muffling tube and a flexible connector, the secondary muffling tube is arranged on the frame through a hooking part, and the batteries are arranged at the center below the carriage. The oil-electric hybrid power quadricycle has good radiation, small noise and small shock and is provided with the range extending device which has a simple structure and facilitates reduction of torsional vibration load of power.', 'In a control device for an electric vehicle of the present invention a control means switches conduction by making the following the  same: the output reduction amount of a rotating electric machine in which a stall state is detected by a stall state detecting means; and  the output increase amount of another rotating electric machine where the stall state is not detected by the stall state detecting means.', 'A vehicle having at least two driven axles is powered by a gas turbine plant having two separate take-off shafts. One of these is connected to a first driven axle by a mechanical gearing, while the other take-off shaft is connected to a second driven axle by way of a hydraulic transmission including a constant volume pump and motor. The two turbine shafts are interconnected by a transmission, which preferably is of the infinitely variable type. Adjustable guide vanes are provided at the inlet to at least one of the turbine rotors for occasional distribution of the total load between the two rotors.', 'A hybrid power unit of a work machine includes an engine and an energy storage device. The engine includes a crankshaft for driving a load and the crankshaft is attached to an energy storage device via a clutch. The energy storage device can be charged by the engine to store energy, that may be used to provide, when required, a boost to engine performance. The clutch may engage/disengage the energy storage device from the engine and/or control a clutch pressure. The clutch protects the crankshaft from shock loading and can slip to prevent over-torqueing of the crankshaft.', ' DC60 (11/08/16) hybrid vehicles, including engines; Motor; Transmission mechanism; And a gas station for Lubricate the engine and transmission mechanism by rotation of the crankshaft. The oil pump has oil pump shaft that has The sprocket follows the oil pump on one end of the oil pump shaft through a one-way clutch and a chain plate. Of the oil pump on the other end of the oil pump shaft, through a one-way clutch, the trailing gear of the oil pump is connected to the primary drive gear that rotates in unison with the follow-up gear of The motor for transmitting the motor power to the drive wheel, the chain plate of the oil pump is connected to the The engine cam chain in order to be rotated by the engine power, the motor trail gear has been positioned on one side of the crankshaft and the cam chain is positioned on the other. One side of the crankshaft Revised invention summary 11/8/2016 Hybrid vehicles including engines; Motor; Transmission mechanism; And a gas station for Lubricate the engine and transmission mechanism by rotation of the crankshaft. The oil pump has oil pump shaft that has The sprocket follows the oil pump on one end of the oil pump shaft through a one-way clutch and a chain plate. Of the oil pump on the other end of the oil pump shaft, through a one-way clutch, the trailing gear of the oil pump is connected to the primary drive gear that rotates in unison with the follow-up gear of Motor for transmission of motor power to the chain wheel drive wheel of the oil pump. Get connected with The engine cam chain in order to be rotated by the engine power, the motor trail gear has been positioned on one side of the crankshaft and the cam chain is positioned on the other. One side of the crankshaft ------------------------------------------------ Chapter Editor Invention Summary, 03/08/2015, to provide hybrid vehicles with less transverse overhangs, and especially hybrid vehicles that eliminate the one-sided extension of the crankshaft. Hybrid vehicles consist of engine 5, motor 6, transmission mechanism 7 for transmission of engine 5 and motor 6 to the WR drive wheel and oil pump 9 for lubrication of the engine 5 and transmission mechanism 7 with the rotation of the crankshaft. 50 oil pump 9 has oil pump shaft 91 provided there Fuel pump 92 on one end of the fuel pump shaft 91 by means of a one-way clutch 94 and a chain plate following the oil pump 93 on the other end of the fuel pump shaft 91 by means of a one-way clutch 95 of the oil pump 92 is connected With the primary driving gear 58 rotating as one piece With the respective gear of the motor 59 for the transmission of the motor 6 to the WR drive wheel to be made It rotated by the motor power 6 and the track chain of the oil pump 93 was connected to the cam chain 39 of the engine 5 so that it was rotated by the engine power 5 as well, the follow gear of the motor 59 was Aligned on one side of Crankshaft 50 and Cam Chain 39 were arranged on the other side of Crankshaft 50 -------------------. -------------------------------------------------- ----------------------------- To provide hybrid vehicles with less transverse overhangs and by Only hybrid vehicles eliminating the one-sided protrusion of the crankshaft. Hybrid vehicles consist of engine 5, motor 6, transmission mechanism 7 for transmission of engine 5 and motor 6 to the WR drive wheel and oil pump 9 for lubrication of the engine 5 and transmission mechanism 7 with the rotation of the crankshaft. 50 Oil pump 9 with oil pump shaft 91 provided with gears along oil pump 92 on one end of oil pump shaft 91 by one way clutch 94 and chain plate 93 on other end of oil pump shaft 91 by way of clutch A single 95 sprocket of the 92 oil pump has been connected to the primary drive 58 gear that rotates in the same way as the motor 59 for the transmission of the motor 6 to the WR drive wheel to be rotated. Go by the motor power 6 and the chain plate according to the oil pump 93 have been connected to the cam chain 39 of the engine 5 so that it is rotated by the engine power 5 as well, the follow gear of the motor 59 has been provided. It is placed on one side of the crankshaft 50 and the cam chain 39 has been arranged on the other side of the crankshaft 50.', 'In any conventional Mechanical system the efficiency is less than one, the output to input ratio is less than one irrespective of the system used. The output is always less than the input however losses (like heat, friction sound...Etc..) are minimized. This has been the accepted norms for all systems and all the area so far. In any conventional Mechanical System, the output to input ratio in terms of forces, Torque, Speed, Velocity, and Power & Energy is less than one. Irrespective of the system used. The present innovation is about a specially designed Mechanically Multi-folded Energy Amplifier. The Device in which the given input like Force, Torque, Speed, Velocity, Power & energy from the input side gets Amplified more times at out put side, the input is supplied Directly to the Planetary Gear by fixing any of these Sun Gears, ring gear. Leading to an output-input ratio of about more than one. The Device system consists of Prime mover, Sprockets, Chains, Gear, Planetary gears :V Pulleys, Belts and Splines, which are assembled in a specific way to make Transmission to travel from centre of the Device to tangentially (Periphery of the ring gear) and from tangentially (Periphery) to centre of the Device to get more times till Mechanical limitations. The applications of this kind of system can lead to considerable saving in energy and gaining the Energy more times the given input. The same method or setup can introduce in series to get more & more output. Energy can extract till mechanical limitation in the system on Device.', 'A hybrid powertrain (10; 110; 210) having an engine start control apparatus comprising:  a machine (12; 112; 212) having a crankshaft (13);  a machine (12; 112; 212) having a crankshaft (13);  a hybrid transmission having an input member (16), an output member (22) and at least one motor / generator (18, 20) operable to provide or receive torque;  a hybrid transmission having an input member (16), an output member (22) and at least one motor / generator (18, 20) operable to provide or receive torque;  a vibration damper (17) without a lock-up clutch, which connects the crankshaft (13) with the input member (16);  a vibration damper (17) without a lock-up clutch, which connects the crankshaft (13) with the input member (16);  a bidirectional rotational position detecting system (40; 40A; 140; 140A; 240; 240A) operatively connected to the crankshaft (13) and for detecting the rotational position and direction of the crankshaft (13) and providing a position signal (45; 45A, 245, 245A) indicating it is configured; and  a bidirectional rotational position detecting system (40; 40A; 140; 140A; 240; 240A) operatively connected to the crankshaft (13) and for detecting the rotational position and direction of the crankshaft (13) and providing a position signal (45; 45A, 245, 245A) indicating it is configured; and  at least one controller (26, 126) for receiving the position signal (45; 45A; 245; 245A) and for providing a torque command based in part on the position signal (45; 45A; 245; 245A) to the at least one motor / Generator (18, 20) and is operable to cause the motor / generator (18, 20) to calculate an expected engine torque fluctuation calculated by the controller (26, 126) corresponding to the detected rotational position during the start of the engine (12; 112; 212) associated with the open vibration damper (17) attenuates;  at least one controller (26, 126) for receiving the position signal (45; 45A; 245; 245A) and for providing a torque command based in part on the position signal (45; 45A; 245; 245A) to the at least one motor / Generator (18, 20) and is operable to cause the motor / generator (18, 20) to calculate an expected engine torque fluctuation calculated by the controller (26, 126) corresponding to the detected rotational position during the start of the engine (12; 112; 212) associated with the open vibration damper (17) attenuates;  wherein the torque command is further based on the machine position prior to the previous engine shutdown.  wherein the torque command is further based on the machine position prior to the previous engine shutdown. ', 'A switching unit 14 for coupling an auxiliary unit 13 to a drive train of a motor vehicle, with an input shaft section 15 for the drive connection to the drive train, with an output shaft section 16 for the drive connection to the auxiliary unit 13, with a planetary gear 24 for translating a drive speed from the input shaft section 15 to the output shaft section 16, with the input speed in a first switching state of the switching unit 14 in a first transmission ratio and in a second switching state of the switching unit 14 in a second transmission ratio different from the first transmission ratio from the input shaft section 15 via the planetary gear 24 to the output shaft section 16 is transferrable, proposed, with a speed-dependent switching arrangement 29, wherein the switching arrangement 29 is formed, the switching unit 14 depending on the drive speed between automatically switch between the first switching state and the second switching state.', 'ABSTRACT POWER TRANSMISSION APPARATUS FOR VEHICLE A power transmitting apparatus may include an electric supplementary drive unit a torque converting device having first, second, and third rotation elements, wherein the first rotation element is connected to the electric supplementary drive unit, the second rotation element is connected to an engine, and the third rotation element is operated as an output element a first input shaft directly connected to the second rotation element, and a second input shaft directly connected to the third rotation element a direct coupling device selectively connecting two rotation elements among the first, second, and third rotation elements a first speed output unit having first and second synchronizer modules, and a second speed output unit having third and fourth synchronizer modules and a reverse speed device having an idle gear and engaging to any one input gear on the first and second input shafts. ABSTRACT POWER TRANSMISSION APPARATUS FOR VEHICLE A power transmitting apparatus may include an electric supplementary drive unit a torque converting device having first, second, and third rotation elements, wherein the first rotation element is connected to the electric supplementary drive unit, the second rotation element is connected to an engine, and the third rotation element is operated as an output element a first input shaft directly connected to the second rotation element, and a second input shaft directly connected to the third rotation element a direct coupling device selectively connecting two rotation elements among the first, second, and third rotation elements a first speed output unit having first and second synchronizer modules, and a second speed output unit having third and fourth synchronizer modules and a reverse speed device having an idle gear and engaging to any one input gear on the first and second input shafts.']\n"
     ]
    }
   ],
   "source": [
    "print(texts)"
   ]
  },
  {
   "cell_type": "code",
   "execution_count": 8,
   "metadata": {},
   "outputs": [],
   "source": [
    "# sentence_model = SentenceTransformer(\"dunzhang/stella_en_400M_v5\", trust_remote_code=True)\n",
    "topic_model = BERTopic()\n"
   ]
  },
  {
   "cell_type": "code",
   "execution_count": 15,
   "metadata": {},
   "outputs": [],
   "source": [
    "topics, probs = topic_model.fit_transform(texts)"
   ]
  },
  {
   "cell_type": "code",
   "execution_count": 16,
   "metadata": {},
   "outputs": [
    {
     "data": {
      "text/html": [
       "<div>\n",
       "<style scoped>\n",
       "    .dataframe tbody tr th:only-of-type {\n",
       "        vertical-align: middle;\n",
       "    }\n",
       "\n",
       "    .dataframe tbody tr th {\n",
       "        vertical-align: top;\n",
       "    }\n",
       "\n",
       "    .dataframe thead th {\n",
       "        text-align: right;\n",
       "    }\n",
       "</style>\n",
       "<table border=\"1\" class=\"dataframe\">\n",
       "  <thead>\n",
       "    <tr style=\"text-align: right;\">\n",
       "      <th></th>\n",
       "      <th>Topic</th>\n",
       "      <th>Count</th>\n",
       "      <th>Name</th>\n",
       "      <th>Representation</th>\n",
       "      <th>Representative_Docs</th>\n",
       "    </tr>\n",
       "  </thead>\n",
       "  <tbody>\n",
       "    <tr>\n",
       "      <th>0</th>\n",
       "      <td>-1</td>\n",
       "      <td>24</td>\n",
       "      <td>-1_the_of_and_is</td>\n",
       "      <td>[the, of, and, is, to, in, engine, motor, cont...</td>\n",
       "      <td>[ DC60 (13/09/55) Hybrid vehicles include engi...</td>\n",
       "    </tr>\n",
       "    <tr>\n",
       "      <th>1</th>\n",
       "      <td>0</td>\n",
       "      <td>15</td>\n",
       "      <td>0_the_and_of_engine</td>\n",
       "      <td>[the, and, of, engine, an, hybrid, to, is, mot...</td>\n",
       "      <td>[A hybrid powertrain (10; 110; 210) having an ...</td>\n",
       "    </tr>\n",
       "    <tr>\n",
       "      <th>2</th>\n",
       "      <td>1</td>\n",
       "      <td>11</td>\n",
       "      <td>1_the_to_and_first</td>\n",
       "      <td>[the, to, and, first, is, rotation, drive, of,...</td>\n",
       "      <td>[&lt;P&gt;PROBLEM TO BE SOLVED: To provide a driving...</td>\n",
       "    </tr>\n",
       "  </tbody>\n",
       "</table>\n",
       "</div>"
      ],
      "text/plain": [
       "   Topic  Count                 Name  \\\n",
       "0     -1     24     -1_the_of_and_is   \n",
       "1      0     15  0_the_and_of_engine   \n",
       "2      1     11   1_the_to_and_first   \n",
       "\n",
       "                                      Representation  \\\n",
       "0  [the, of, and, is, to, in, engine, motor, cont...   \n",
       "1  [the, and, of, engine, an, hybrid, to, is, mot...   \n",
       "2  [the, to, and, first, is, rotation, drive, of,...   \n",
       "\n",
       "                                 Representative_Docs  \n",
       "0  [ DC60 (13/09/55) Hybrid vehicles include engi...  \n",
       "1  [A hybrid powertrain (10; 110; 210) having an ...  \n",
       "2  [<P>PROBLEM TO BE SOLVED: To provide a driving...  "
      ]
     },
     "execution_count": 16,
     "metadata": {},
     "output_type": "execute_result"
    }
   ],
   "source": [
    "topic_model.get_topic_info()"
   ]
  },
  {
   "cell_type": "code",
   "execution_count": 17,
   "metadata": {},
   "outputs": [
    {
     "data": {
      "text/plain": [
       "[('the', 0.12410436063577154),\n",
       " ('to', 0.11409591491123361),\n",
       " ('and', 0.07944326853574855),\n",
       " ('first', 0.07434994784439715),\n",
       " ('is', 0.0697045389329237),\n",
       " ('rotation', 0.06948350793459802),\n",
       " ('drive', 0.06537501320717276),\n",
       " ('of', 0.06372056134526347),\n",
       " ('second', 0.06179767390511718),\n",
       " ('unit', 0.05562768939201267)]"
      ]
     },
     "execution_count": 17,
     "metadata": {},
     "output_type": "execute_result"
    }
   ],
   "source": [
    " topic_model.get_topic(1)"
   ]
  },
  {
   "cell_type": "code",
   "execution_count": 117,
   "metadata": {},
   "outputs": [],
   "source": [
    "\n",
    "vectorizer_model = CountVectorizer(min_df=2, stop_words='english', ngram_range=(2,4))\n",
    "topic_model.update_topics(texts, vectorizer_model=vectorizer_model)\n"
   ]
  },
  {
   "cell_type": "code",
   "execution_count": 136,
   "metadata": {},
   "outputs": [
    {
     "data": {
      "text/html": [
       "<div>\n",
       "<style scoped>\n",
       "    .dataframe tbody tr th:only-of-type {\n",
       "        vertical-align: middle;\n",
       "    }\n",
       "\n",
       "    .dataframe tbody tr th {\n",
       "        vertical-align: top;\n",
       "    }\n",
       "\n",
       "    .dataframe thead th {\n",
       "        text-align: right;\n",
       "    }\n",
       "</style>\n",
       "<table border=\"1\" class=\"dataframe\">\n",
       "  <thead>\n",
       "    <tr style=\"text-align: right;\">\n",
       "      <th></th>\n",
       "      <th>Document</th>\n",
       "      <th>Topic</th>\n",
       "      <th>Name</th>\n",
       "      <th>Representation</th>\n",
       "      <th>Representative_Docs</th>\n",
       "      <th>Top_n_words</th>\n",
       "      <th>Probability</th>\n",
       "      <th>Representative_document</th>\n",
       "    </tr>\n",
       "  </thead>\n",
       "  <tbody>\n",
       "    <tr>\n",
       "      <th>0</th>\n",
       "      <td>A hydraulic regenerative braking and power sup...</td>\n",
       "      <td>-1</td>\n",
       "      <td>-1_transmission mechanism_planetary gear_combu...</td>\n",
       "      <td>[transmission mechanism, planetary gear, combu...</td>\n",
       "      <td>[ DC60 (13/09/55) Hybrid vehicles include engi...</td>\n",
       "      <td>transmission mechanism - planetary gear - comb...</td>\n",
       "      <td>0.000000</td>\n",
       "      <td>False</td>\n",
       "    </tr>\n",
       "    <tr>\n",
       "      <th>1</th>\n",
       "      <td>Higher, the lower planet row plug-in hybrid-po...</td>\n",
       "      <td>-1</td>\n",
       "      <td>-1_transmission mechanism_planetary gear_combu...</td>\n",
       "      <td>[transmission mechanism, planetary gear, combu...</td>\n",
       "      <td>[ DC60 (13/09/55) Hybrid vehicles include engi...</td>\n",
       "      <td>transmission mechanism - planetary gear - comb...</td>\n",
       "      <td>0.000000</td>\n",
       "      <td>False</td>\n",
       "    </tr>\n",
       "    <tr>\n",
       "      <th>2</th>\n",
       "      <td>The traction arrangement comprises one or more...</td>\n",
       "      <td>1</td>\n",
       "      <td>1_input shaft_rotation elements_power transmis...</td>\n",
       "      <td>[input shaft, rotation elements, power transmi...</td>\n",
       "      <td>[&lt;P&gt;PROBLEM TO BE SOLVED: To provide a driving...</td>\n",
       "      <td>input shaft - rotation elements - power transm...</td>\n",
       "      <td>1.000000</td>\n",
       "      <td>False</td>\n",
       "    </tr>\n",
       "    <tr>\n",
       "      <th>3</th>\n",
       "      <td>A dual-motor hybrid power driving system compr...</td>\n",
       "      <td>0</td>\n",
       "      <td>0_electric machine_internal combustion engine_...</td>\n",
       "      <td>[electric machine, internal combustion engine,...</td>\n",
       "      <td>[A hybrid powertrain (10; 110; 210) having an ...</td>\n",
       "      <td>electric machine - internal combustion engine ...</td>\n",
       "      <td>1.000000</td>\n",
       "      <td>False</td>\n",
       "    </tr>\n",
       "    <tr>\n",
       "      <th>4</th>\n",
       "      <td>FIELD: transport.SUBSTANCE: hybrid transmissio...</td>\n",
       "      <td>-1</td>\n",
       "      <td>-1_transmission mechanism_planetary gear_combu...</td>\n",
       "      <td>[transmission mechanism, planetary gear, combu...</td>\n",
       "      <td>[ DC60 (13/09/55) Hybrid vehicles include engi...</td>\n",
       "      <td>transmission mechanism - planetary gear - comb...</td>\n",
       "      <td>0.000000</td>\n",
       "      <td>False</td>\n",
       "    </tr>\n",
       "    <tr>\n",
       "      <th>5</th>\n",
       "      <td>&lt;P&gt;PROBLEM TO BE SOLVED: To provide a control ...</td>\n",
       "      <td>0</td>\n",
       "      <td>0_electric machine_internal combustion engine_...</td>\n",
       "      <td>[electric machine, internal combustion engine,...</td>\n",
       "      <td>[A hybrid powertrain (10; 110; 210) having an ...</td>\n",
       "      <td>electric machine - internal combustion engine ...</td>\n",
       "      <td>0.998666</td>\n",
       "      <td>False</td>\n",
       "    </tr>\n",
       "    <tr>\n",
       "      <th>6</th>\n",
       "      <td>An improved drive unit for a vehicle having an...</td>\n",
       "      <td>-1</td>\n",
       "      <td>-1_transmission mechanism_planetary gear_combu...</td>\n",
       "      <td>[transmission mechanism, planetary gear, combu...</td>\n",
       "      <td>[ DC60 (13/09/55) Hybrid vehicles include engi...</td>\n",
       "      <td>transmission mechanism - planetary gear - comb...</td>\n",
       "      <td>0.000000</td>\n",
       "      <td>False</td>\n",
       "    </tr>\n",
       "    <tr>\n",
       "      <th>7</th>\n",
       "      <td>The utility model discloses a kind of special ...</td>\n",
       "      <td>0</td>\n",
       "      <td>0_electric machine_internal combustion engine_...</td>\n",
       "      <td>[electric machine, internal combustion engine,...</td>\n",
       "      <td>[A hybrid powertrain (10; 110; 210) having an ...</td>\n",
       "      <td>electric machine - internal combustion engine ...</td>\n",
       "      <td>0.987736</td>\n",
       "      <td>False</td>\n",
       "    </tr>\n",
       "    <tr>\n",
       "      <th>8</th>\n",
       "      <td>A connection device for connecting a first opt...</td>\n",
       "      <td>0</td>\n",
       "      <td>0_electric machine_internal combustion engine_...</td>\n",
       "      <td>[electric machine, internal combustion engine,...</td>\n",
       "      <td>[A hybrid powertrain (10; 110; 210) having an ...</td>\n",
       "      <td>electric machine - internal combustion engine ...</td>\n",
       "      <td>1.000000</td>\n",
       "      <td>False</td>\n",
       "    </tr>\n",
       "    <tr>\n",
       "      <th>9</th>\n",
       "      <td>PROBLEM TO BE SOLVED: To provide a vehicle hol...</td>\n",
       "      <td>-1</td>\n",
       "      <td>-1_transmission mechanism_planetary gear_combu...</td>\n",
       "      <td>[transmission mechanism, planetary gear, combu...</td>\n",
       "      <td>[ DC60 (13/09/55) Hybrid vehicles include engi...</td>\n",
       "      <td>transmission mechanism - planetary gear - comb...</td>\n",
       "      <td>0.000000</td>\n",
       "      <td>False</td>\n",
       "    </tr>\n",
       "    <tr>\n",
       "      <th>10</th>\n",
       "      <td>The invention discloses a coupling mechanism f...</td>\n",
       "      <td>0</td>\n",
       "      <td>0_electric machine_internal combustion engine_...</td>\n",
       "      <td>[electric machine, internal combustion engine,...</td>\n",
       "      <td>[A hybrid powertrain (10; 110; 210) having an ...</td>\n",
       "      <td>electric machine - internal combustion engine ...</td>\n",
       "      <td>1.000000</td>\n",
       "      <td>True</td>\n",
       "    </tr>\n",
       "    <tr>\n",
       "      <th>11</th>\n",
       "      <td>Abstract of the Disclosure A power transmissio...</td>\n",
       "      <td>-1</td>\n",
       "      <td>-1_transmission mechanism_planetary gear_combu...</td>\n",
       "      <td>[transmission mechanism, planetary gear, combu...</td>\n",
       "      <td>[ DC60 (13/09/55) Hybrid vehicles include engi...</td>\n",
       "      <td>transmission mechanism - planetary gear - comb...</td>\n",
       "      <td>0.000000</td>\n",
       "      <td>False</td>\n",
       "    </tr>\n",
       "    <tr>\n",
       "      <th>12</th>\n",
       "      <td>A PHEV power system and a control method there...</td>\n",
       "      <td>0</td>\n",
       "      <td>0_electric machine_internal combustion engine_...</td>\n",
       "      <td>[electric machine, internal combustion engine,...</td>\n",
       "      <td>[A hybrid powertrain (10; 110; 210) having an ...</td>\n",
       "      <td>electric machine - internal combustion engine ...</td>\n",
       "      <td>1.000000</td>\n",
       "      <td>True</td>\n",
       "    </tr>\n",
       "    <tr>\n",
       "      <th>13</th>\n",
       "      <td>A working machine comprising: a ground engagin...</td>\n",
       "      <td>1</td>\n",
       "      <td>1_input shaft_rotation elements_power transmis...</td>\n",
       "      <td>[input shaft, rotation elements, power transmi...</td>\n",
       "      <td>[&lt;P&gt;PROBLEM TO BE SOLVED: To provide a driving...</td>\n",
       "      <td>input shaft - rotation elements - power transm...</td>\n",
       "      <td>1.000000</td>\n",
       "      <td>False</td>\n",
       "    </tr>\n",
       "    <tr>\n",
       "      <th>14</th>\n",
       "      <td>The invention discloses a kind of ISG gently t...</td>\n",
       "      <td>0</td>\n",
       "      <td>0_electric machine_internal combustion engine_...</td>\n",
       "      <td>[electric machine, internal combustion engine,...</td>\n",
       "      <td>[A hybrid powertrain (10; 110; 210) having an ...</td>\n",
       "      <td>electric machine - internal combustion engine ...</td>\n",
       "      <td>1.000000</td>\n",
       "      <td>False</td>\n",
       "    </tr>\n",
       "    <tr>\n",
       "      <th>15</th>\n",
       "      <td>The invention relates to a power synthesis tra...</td>\n",
       "      <td>1</td>\n",
       "      <td>1_input shaft_rotation elements_power transmis...</td>\n",
       "      <td>[input shaft, rotation elements, power transmi...</td>\n",
       "      <td>[&lt;P&gt;PROBLEM TO BE SOLVED: To provide a driving...</td>\n",
       "      <td>input shaft - rotation elements - power transm...</td>\n",
       "      <td>1.000000</td>\n",
       "      <td>False</td>\n",
       "    </tr>\n",
       "    <tr>\n",
       "      <th>16</th>\n",
       "      <td>DC60 (13/09/55) Hybrid vehicles include engin...</td>\n",
       "      <td>-1</td>\n",
       "      <td>-1_transmission mechanism_planetary gear_combu...</td>\n",
       "      <td>[transmission mechanism, planetary gear, combu...</td>\n",
       "      <td>[ DC60 (13/09/55) Hybrid vehicles include engi...</td>\n",
       "      <td>transmission mechanism - planetary gear - comb...</td>\n",
       "      <td>0.000000</td>\n",
       "      <td>True</td>\n",
       "    </tr>\n",
       "    <tr>\n",
       "      <th>17</th>\n",
       "      <td>The utility model discloses an integrated rang...</td>\n",
       "      <td>-1</td>\n",
       "      <td>-1_transmission mechanism_planetary gear_combu...</td>\n",
       "      <td>[transmission mechanism, planetary gear, combu...</td>\n",
       "      <td>[ DC60 (13/09/55) Hybrid vehicles include engi...</td>\n",
       "      <td>transmission mechanism - planetary gear - comb...</td>\n",
       "      <td>0.000000</td>\n",
       "      <td>False</td>\n",
       "    </tr>\n",
       "    <tr>\n",
       "      <th>18</th>\n",
       "      <td>A fuel use limiter-equipped hybrid electric ca...</td>\n",
       "      <td>-1</td>\n",
       "      <td>-1_transmission mechanism_planetary gear_combu...</td>\n",
       "      <td>[transmission mechanism, planetary gear, combu...</td>\n",
       "      <td>[ DC60 (13/09/55) Hybrid vehicles include engi...</td>\n",
       "      <td>transmission mechanism - planetary gear - comb...</td>\n",
       "      <td>0.000000</td>\n",
       "      <td>False</td>\n",
       "    </tr>\n",
       "    <tr>\n",
       "      <th>19</th>\n",
       "      <td>A method for controlling a powertrain includes...</td>\n",
       "      <td>0</td>\n",
       "      <td>0_electric machine_internal combustion engine_...</td>\n",
       "      <td>[electric machine, internal combustion engine,...</td>\n",
       "      <td>[A hybrid powertrain (10; 110; 210) having an ...</td>\n",
       "      <td>electric machine - internal combustion engine ...</td>\n",
       "      <td>0.988953</td>\n",
       "      <td>False</td>\n",
       "    </tr>\n",
       "    <tr>\n",
       "      <th>20</th>\n",
       "      <td>The present invention provides a kind of hybri...</td>\n",
       "      <td>-1</td>\n",
       "      <td>-1_transmission mechanism_planetary gear_combu...</td>\n",
       "      <td>[transmission mechanism, planetary gear, combu...</td>\n",
       "      <td>[ DC60 (13/09/55) Hybrid vehicles include engi...</td>\n",
       "      <td>transmission mechanism - planetary gear - comb...</td>\n",
       "      <td>0.000000</td>\n",
       "      <td>False</td>\n",
       "    </tr>\n",
       "    <tr>\n",
       "      <th>21</th>\n",
       "      <td>A hydraulic carrier energy recycling applicati...</td>\n",
       "      <td>-1</td>\n",
       "      <td>-1_transmission mechanism_planetary gear_combu...</td>\n",
       "      <td>[transmission mechanism, planetary gear, combu...</td>\n",
       "      <td>[ DC60 (13/09/55) Hybrid vehicles include engi...</td>\n",
       "      <td>transmission mechanism - planetary gear - comb...</td>\n",
       "      <td>0.000000</td>\n",
       "      <td>False</td>\n",
       "    </tr>\n",
       "    <tr>\n",
       "      <th>22</th>\n",
       "      <td>The invention relates to a vehicle having a dr...</td>\n",
       "      <td>1</td>\n",
       "      <td>1_input shaft_rotation elements_power transmis...</td>\n",
       "      <td>[input shaft, rotation elements, power transmi...</td>\n",
       "      <td>[&lt;P&gt;PROBLEM TO BE SOLVED: To provide a driving...</td>\n",
       "      <td>input shaft - rotation elements - power transm...</td>\n",
       "      <td>1.000000</td>\n",
       "      <td>False</td>\n",
       "    </tr>\n",
       "    <tr>\n",
       "      <th>23</th>\n",
       "      <td>PROBLEM TO BE SOLVED: To provide a motor drive...</td>\n",
       "      <td>0</td>\n",
       "      <td>0_electric machine_internal combustion engine_...</td>\n",
       "      <td>[electric machine, internal combustion engine,...</td>\n",
       "      <td>[A hybrid powertrain (10; 110; 210) having an ...</td>\n",
       "      <td>electric machine - internal combustion engine ...</td>\n",
       "      <td>1.000000</td>\n",
       "      <td>False</td>\n",
       "    </tr>\n",
       "    <tr>\n",
       "      <th>24</th>\n",
       "      <td>DC60 (18/01/56) machines and control methods ...</td>\n",
       "      <td>-1</td>\n",
       "      <td>-1_transmission mechanism_planetary gear_combu...</td>\n",
       "      <td>[transmission mechanism, planetary gear, combu...</td>\n",
       "      <td>[ DC60 (13/09/55) Hybrid vehicles include engi...</td>\n",
       "      <td>transmission mechanism - planetary gear - comb...</td>\n",
       "      <td>0.000000</td>\n",
       "      <td>False</td>\n",
       "    </tr>\n",
       "    <tr>\n",
       "      <th>25</th>\n",
       "      <td>Embodiments of the present disclosure relates ...</td>\n",
       "      <td>0</td>\n",
       "      <td>0_electric machine_internal combustion engine_...</td>\n",
       "      <td>[electric machine, internal combustion engine,...</td>\n",
       "      <td>[A hybrid powertrain (10; 110; 210) having an ...</td>\n",
       "      <td>electric machine - internal combustion engine ...</td>\n",
       "      <td>1.000000</td>\n",
       "      <td>False</td>\n",
       "    </tr>\n",
       "    <tr>\n",
       "      <th>26</th>\n",
       "      <td>A battery powered automobile includes an air o...</td>\n",
       "      <td>-1</td>\n",
       "      <td>-1_transmission mechanism_planetary gear_combu...</td>\n",
       "      <td>[transmission mechanism, planetary gear, combu...</td>\n",
       "      <td>[ DC60 (13/09/55) Hybrid vehicles include engi...</td>\n",
       "      <td>transmission mechanism - planetary gear - comb...</td>\n",
       "      <td>0.000000</td>\n",
       "      <td>False</td>\n",
       "    </tr>\n",
       "    <tr>\n",
       "      <th>27</th>\n",
       "      <td>A power transmitting apparatus of a hybrid ele...</td>\n",
       "      <td>-1</td>\n",
       "      <td>-1_transmission mechanism_planetary gear_combu...</td>\n",
       "      <td>[transmission mechanism, planetary gear, combu...</td>\n",
       "      <td>[ DC60 (13/09/55) Hybrid vehicles include engi...</td>\n",
       "      <td>transmission mechanism - planetary gear - comb...</td>\n",
       "      <td>0.000000</td>\n",
       "      <td>False</td>\n",
       "    </tr>\n",
       "    <tr>\n",
       "      <th>28</th>\n",
       "      <td>DC60 (04/06/57) A drive device for hybrid veh...</td>\n",
       "      <td>-1</td>\n",
       "      <td>-1_transmission mechanism_planetary gear_combu...</td>\n",
       "      <td>[transmission mechanism, planetary gear, combu...</td>\n",
       "      <td>[ DC60 (13/09/55) Hybrid vehicles include engi...</td>\n",
       "      <td>transmission mechanism - planetary gear - comb...</td>\n",
       "      <td>0.000000</td>\n",
       "      <td>False</td>\n",
       "    </tr>\n",
       "    <tr>\n",
       "      <th>29</th>\n",
       "      <td>&lt;P&gt;PROBLEM TO BE SOLVED: To provide a driving ...</td>\n",
       "      <td>1</td>\n",
       "      <td>1_input shaft_rotation elements_power transmis...</td>\n",
       "      <td>[input shaft, rotation elements, power transmi...</td>\n",
       "      <td>[&lt;P&gt;PROBLEM TO BE SOLVED: To provide a driving...</td>\n",
       "      <td>input shaft - rotation elements - power transm...</td>\n",
       "      <td>1.000000</td>\n",
       "      <td>True</td>\n",
       "    </tr>\n",
       "    <tr>\n",
       "      <th>30</th>\n",
       "      <td>PROBLEM TO BE SOLVED: To improve fail-safe fun...</td>\n",
       "      <td>-1</td>\n",
       "      <td>-1_transmission mechanism_planetary gear_combu...</td>\n",
       "      <td>[transmission mechanism, planetary gear, combu...</td>\n",
       "      <td>[ DC60 (13/09/55) Hybrid vehicles include engi...</td>\n",
       "      <td>transmission mechanism - planetary gear - comb...</td>\n",
       "      <td>0.000000</td>\n",
       "      <td>False</td>\n",
       "    </tr>\n",
       "    <tr>\n",
       "      <th>31</th>\n",
       "      <td>In a motor vehicle, the driven wheels are driv...</td>\n",
       "      <td>-1</td>\n",
       "      <td>-1_transmission mechanism_planetary gear_combu...</td>\n",
       "      <td>[transmission mechanism, planetary gear, combu...</td>\n",
       "      <td>[ DC60 (13/09/55) Hybrid vehicles include engi...</td>\n",
       "      <td>transmission mechanism - planetary gear - comb...</td>\n",
       "      <td>0.000000</td>\n",
       "      <td>False</td>\n",
       "    </tr>\n",
       "    <tr>\n",
       "      <th>32</th>\n",
       "      <td>A hydraulic coupling device (12), in particula...</td>\n",
       "      <td>1</td>\n",
       "      <td>1_input shaft_rotation elements_power transmis...</td>\n",
       "      <td>[input shaft, rotation elements, power transmi...</td>\n",
       "      <td>[&lt;P&gt;PROBLEM TO BE SOLVED: To provide a driving...</td>\n",
       "      <td>input shaft - rotation elements - power transm...</td>\n",
       "      <td>1.000000</td>\n",
       "      <td>False</td>\n",
       "    </tr>\n",
       "    <tr>\n",
       "      <th>33</th>\n",
       "      <td>Â 1. A module for electric drive of a machine ...</td>\n",
       "      <td>1</td>\n",
       "      <td>1_input shaft_rotation elements_power transmis...</td>\n",
       "      <td>[input shaft, rotation elements, power transmi...</td>\n",
       "      <td>[&lt;P&gt;PROBLEM TO BE SOLVED: To provide a driving...</td>\n",
       "      <td>input shaft - rotation elements - power transm...</td>\n",
       "      <td>0.982652</td>\n",
       "      <td>False</td>\n",
       "    </tr>\n",
       "    <tr>\n",
       "      <th>34</th>\n",
       "      <td>Periodic shutdown of the internal combustion e...</td>\n",
       "      <td>0</td>\n",
       "      <td>0_electric machine_internal combustion engine_...</td>\n",
       "      <td>[electric machine, internal combustion engine,...</td>\n",
       "      <td>[A hybrid powertrain (10; 110; 210) having an ...</td>\n",
       "      <td>electric machine - internal combustion engine ...</td>\n",
       "      <td>0.989521</td>\n",
       "      <td>False</td>\n",
       "    </tr>\n",
       "    <tr>\n",
       "      <th>35</th>\n",
       "      <td>Method for starting an internal combustion eng...</td>\n",
       "      <td>0</td>\n",
       "      <td>0_electric machine_internal combustion engine_...</td>\n",
       "      <td>[electric machine, internal combustion engine,...</td>\n",
       "      <td>[A hybrid powertrain (10; 110; 210) having an ...</td>\n",
       "      <td>electric machine - internal combustion engine ...</td>\n",
       "      <td>1.000000</td>\n",
       "      <td>False</td>\n",
       "    </tr>\n",
       "    <tr>\n",
       "      <th>36</th>\n",
       "      <td>(57) [Summary] [Purpose] The objective is to i...</td>\n",
       "      <td>-1</td>\n",
       "      <td>-1_transmission mechanism_planetary gear_combu...</td>\n",
       "      <td>[transmission mechanism, planetary gear, combu...</td>\n",
       "      <td>[ DC60 (13/09/55) Hybrid vehicles include engi...</td>\n",
       "      <td>transmission mechanism - planetary gear - comb...</td>\n",
       "      <td>0.000000</td>\n",
       "      <td>True</td>\n",
       "    </tr>\n",
       "    <tr>\n",
       "      <th>37</th>\n",
       "      <td>&lt;P&gt; To provide an in-wheel motor installation ...</td>\n",
       "      <td>1</td>\n",
       "      <td>1_input shaft_rotation elements_power transmis...</td>\n",
       "      <td>[input shaft, rotation elements, power transmi...</td>\n",
       "      <td>[&lt;P&gt;PROBLEM TO BE SOLVED: To provide a driving...</td>\n",
       "      <td>input shaft - rotation elements - power transm...</td>\n",
       "      <td>1.000000</td>\n",
       "      <td>False</td>\n",
       "    </tr>\n",
       "    <tr>\n",
       "      <th>38</th>\n",
       "      <td>(57) [Summary] This bulletin contains applic...</td>\n",
       "      <td>-1</td>\n",
       "      <td>-1_transmission mechanism_planetary gear_combu...</td>\n",
       "      <td>[transmission mechanism, planetary gear, combu...</td>\n",
       "      <td>[ DC60 (13/09/55) Hybrid vehicles include engi...</td>\n",
       "      <td>transmission mechanism - planetary gear - comb...</td>\n",
       "      <td>0.000000</td>\n",
       "      <td>False</td>\n",
       "    </tr>\n",
       "    <tr>\n",
       "      <th>39</th>\n",
       "      <td>The invention discloses a double-motor double-...</td>\n",
       "      <td>-1</td>\n",
       "      <td>-1_transmission mechanism_planetary gear_combu...</td>\n",
       "      <td>[transmission mechanism, planetary gear, combu...</td>\n",
       "      <td>[ DC60 (13/09/55) Hybrid vehicles include engi...</td>\n",
       "      <td>transmission mechanism - planetary gear - comb...</td>\n",
       "      <td>0.000000</td>\n",
       "      <td>False</td>\n",
       "    </tr>\n",
       "    <tr>\n",
       "      <th>40</th>\n",
       "      <td>(57) [Summary] This bulletin contains applic...</td>\n",
       "      <td>-1</td>\n",
       "      <td>-1_transmission mechanism_planetary gear_combu...</td>\n",
       "      <td>[transmission mechanism, planetary gear, combu...</td>\n",
       "      <td>[ DC60 (13/09/55) Hybrid vehicles include engi...</td>\n",
       "      <td>transmission mechanism - planetary gear - comb...</td>\n",
       "      <td>0.000000</td>\n",
       "      <td>False</td>\n",
       "    </tr>\n",
       "    <tr>\n",
       "      <th>41</th>\n",
       "      <td>The invention relates to an oil-electric hybri...</td>\n",
       "      <td>-1</td>\n",
       "      <td>-1_transmission mechanism_planetary gear_combu...</td>\n",
       "      <td>[transmission mechanism, planetary gear, combu...</td>\n",
       "      <td>[ DC60 (13/09/55) Hybrid vehicles include engi...</td>\n",
       "      <td>transmission mechanism - planetary gear - comb...</td>\n",
       "      <td>0.000000</td>\n",
       "      <td>False</td>\n",
       "    </tr>\n",
       "    <tr>\n",
       "      <th>42</th>\n",
       "      <td>In a control device for an electric vehicle of...</td>\n",
       "      <td>0</td>\n",
       "      <td>0_electric machine_internal combustion engine_...</td>\n",
       "      <td>[electric machine, internal combustion engine,...</td>\n",
       "      <td>[A hybrid powertrain (10; 110; 210) having an ...</td>\n",
       "      <td>electric machine - internal combustion engine ...</td>\n",
       "      <td>1.000000</td>\n",
       "      <td>False</td>\n",
       "    </tr>\n",
       "    <tr>\n",
       "      <th>43</th>\n",
       "      <td>A vehicle having at least two driven axles is ...</td>\n",
       "      <td>1</td>\n",
       "      <td>1_input shaft_rotation elements_power transmis...</td>\n",
       "      <td>[input shaft, rotation elements, power transmi...</td>\n",
       "      <td>[&lt;P&gt;PROBLEM TO BE SOLVED: To provide a driving...</td>\n",
       "      <td>input shaft - rotation elements - power transm...</td>\n",
       "      <td>1.000000</td>\n",
       "      <td>False</td>\n",
       "    </tr>\n",
       "    <tr>\n",
       "      <th>44</th>\n",
       "      <td>A hybrid power unit of a work machine includes...</td>\n",
       "      <td>0</td>\n",
       "      <td>0_electric machine_internal combustion engine_...</td>\n",
       "      <td>[electric machine, internal combustion engine,...</td>\n",
       "      <td>[A hybrid powertrain (10; 110; 210) having an ...</td>\n",
       "      <td>electric machine - internal combustion engine ...</td>\n",
       "      <td>0.967573</td>\n",
       "      <td>False</td>\n",
       "    </tr>\n",
       "    <tr>\n",
       "      <th>45</th>\n",
       "      <td>DC60 (11/08/16) hybrid vehicles, including en...</td>\n",
       "      <td>-1</td>\n",
       "      <td>-1_transmission mechanism_planetary gear_combu...</td>\n",
       "      <td>[transmission mechanism, planetary gear, combu...</td>\n",
       "      <td>[ DC60 (13/09/55) Hybrid vehicles include engi...</td>\n",
       "      <td>transmission mechanism - planetary gear - comb...</td>\n",
       "      <td>0.000000</td>\n",
       "      <td>True</td>\n",
       "    </tr>\n",
       "    <tr>\n",
       "      <th>46</th>\n",
       "      <td>In any conventional Mechanical system the effi...</td>\n",
       "      <td>-1</td>\n",
       "      <td>-1_transmission mechanism_planetary gear_combu...</td>\n",
       "      <td>[transmission mechanism, planetary gear, combu...</td>\n",
       "      <td>[ DC60 (13/09/55) Hybrid vehicles include engi...</td>\n",
       "      <td>transmission mechanism - planetary gear - comb...</td>\n",
       "      <td>0.000000</td>\n",
       "      <td>False</td>\n",
       "    </tr>\n",
       "    <tr>\n",
       "      <th>47</th>\n",
       "      <td>A hybrid powertrain (10; 110; 210) having an e...</td>\n",
       "      <td>0</td>\n",
       "      <td>0_electric machine_internal combustion engine_...</td>\n",
       "      <td>[electric machine, internal combustion engine,...</td>\n",
       "      <td>[A hybrid powertrain (10; 110; 210) having an ...</td>\n",
       "      <td>electric machine - internal combustion engine ...</td>\n",
       "      <td>1.000000</td>\n",
       "      <td>True</td>\n",
       "    </tr>\n",
       "    <tr>\n",
       "      <th>48</th>\n",
       "      <td>A switching unit 14 for coupling an auxiliary ...</td>\n",
       "      <td>1</td>\n",
       "      <td>1_input shaft_rotation elements_power transmis...</td>\n",
       "      <td>[input shaft, rotation elements, power transmi...</td>\n",
       "      <td>[&lt;P&gt;PROBLEM TO BE SOLVED: To provide a driving...</td>\n",
       "      <td>input shaft - rotation elements - power transm...</td>\n",
       "      <td>1.000000</td>\n",
       "      <td>True</td>\n",
       "    </tr>\n",
       "    <tr>\n",
       "      <th>49</th>\n",
       "      <td>ABSTRACT POWER TRANSMISSION APPARATUS FOR VEHI...</td>\n",
       "      <td>1</td>\n",
       "      <td>1_input shaft_rotation elements_power transmis...</td>\n",
       "      <td>[input shaft, rotation elements, power transmi...</td>\n",
       "      <td>[&lt;P&gt;PROBLEM TO BE SOLVED: To provide a driving...</td>\n",
       "      <td>input shaft - rotation elements - power transm...</td>\n",
       "      <td>1.000000</td>\n",
       "      <td>True</td>\n",
       "    </tr>\n",
       "  </tbody>\n",
       "</table>\n",
       "</div>"
      ],
      "text/plain": [
       "                                             Document  Topic  \\\n",
       "0   A hydraulic regenerative braking and power sup...     -1   \n",
       "1   Higher, the lower planet row plug-in hybrid-po...     -1   \n",
       "2   The traction arrangement comprises one or more...      1   \n",
       "3   A dual-motor hybrid power driving system compr...      0   \n",
       "4   FIELD: transport.SUBSTANCE: hybrid transmissio...     -1   \n",
       "5   <P>PROBLEM TO BE SOLVED: To provide a control ...      0   \n",
       "6   An improved drive unit for a vehicle having an...     -1   \n",
       "7   The utility model discloses a kind of special ...      0   \n",
       "8   A connection device for connecting a first opt...      0   \n",
       "9   PROBLEM TO BE SOLVED: To provide a vehicle hol...     -1   \n",
       "10  The invention discloses a coupling mechanism f...      0   \n",
       "11  Abstract of the Disclosure A power transmissio...     -1   \n",
       "12  A PHEV power system and a control method there...      0   \n",
       "13  A working machine comprising: a ground engagin...      1   \n",
       "14  The invention discloses a kind of ISG gently t...      0   \n",
       "15  The invention relates to a power synthesis tra...      1   \n",
       "16   DC60 (13/09/55) Hybrid vehicles include engin...     -1   \n",
       "17  The utility model discloses an integrated rang...     -1   \n",
       "18  A fuel use limiter-equipped hybrid electric ca...     -1   \n",
       "19  A method for controlling a powertrain includes...      0   \n",
       "20  The present invention provides a kind of hybri...     -1   \n",
       "21  A hydraulic carrier energy recycling applicati...     -1   \n",
       "22  The invention relates to a vehicle having a dr...      1   \n",
       "23  PROBLEM TO BE SOLVED: To provide a motor drive...      0   \n",
       "24   DC60 (18/01/56) machines and control methods ...     -1   \n",
       "25  Embodiments of the present disclosure relates ...      0   \n",
       "26  A battery powered automobile includes an air o...     -1   \n",
       "27  A power transmitting apparatus of a hybrid ele...     -1   \n",
       "28   DC60 (04/06/57) A drive device for hybrid veh...     -1   \n",
       "29  <P>PROBLEM TO BE SOLVED: To provide a driving ...      1   \n",
       "30  PROBLEM TO BE SOLVED: To improve fail-safe fun...     -1   \n",
       "31  In a motor vehicle, the driven wheels are driv...     -1   \n",
       "32  A hydraulic coupling device (12), in particula...      1   \n",
       "33  Â 1. A module for electric drive of a machine ...      1   \n",
       "34  Periodic shutdown of the internal combustion e...      0   \n",
       "35  Method for starting an internal combustion eng...      0   \n",
       "36  (57) [Summary] [Purpose] The objective is to i...     -1   \n",
       "37  <P> To provide an in-wheel motor installation ...      1   \n",
       "38    (57) [Summary] This bulletin contains applic...     -1   \n",
       "39  The invention discloses a double-motor double-...     -1   \n",
       "40    (57) [Summary] This bulletin contains applic...     -1   \n",
       "41  The invention relates to an oil-electric hybri...     -1   \n",
       "42  In a control device for an electric vehicle of...      0   \n",
       "43  A vehicle having at least two driven axles is ...      1   \n",
       "44  A hybrid power unit of a work machine includes...      0   \n",
       "45   DC60 (11/08/16) hybrid vehicles, including en...     -1   \n",
       "46  In any conventional Mechanical system the effi...     -1   \n",
       "47  A hybrid powertrain (10; 110; 210) having an e...      0   \n",
       "48  A switching unit 14 for coupling an auxiliary ...      1   \n",
       "49  ABSTRACT POWER TRANSMISSION APPARATUS FOR VEHI...      1   \n",
       "\n",
       "                                                 Name  \\\n",
       "0   -1_transmission mechanism_planetary gear_combu...   \n",
       "1   -1_transmission mechanism_planetary gear_combu...   \n",
       "2   1_input shaft_rotation elements_power transmis...   \n",
       "3   0_electric machine_internal combustion engine_...   \n",
       "4   -1_transmission mechanism_planetary gear_combu...   \n",
       "5   0_electric machine_internal combustion engine_...   \n",
       "6   -1_transmission mechanism_planetary gear_combu...   \n",
       "7   0_electric machine_internal combustion engine_...   \n",
       "8   0_electric machine_internal combustion engine_...   \n",
       "9   -1_transmission mechanism_planetary gear_combu...   \n",
       "10  0_electric machine_internal combustion engine_...   \n",
       "11  -1_transmission mechanism_planetary gear_combu...   \n",
       "12  0_electric machine_internal combustion engine_...   \n",
       "13  1_input shaft_rotation elements_power transmis...   \n",
       "14  0_electric machine_internal combustion engine_...   \n",
       "15  1_input shaft_rotation elements_power transmis...   \n",
       "16  -1_transmission mechanism_planetary gear_combu...   \n",
       "17  -1_transmission mechanism_planetary gear_combu...   \n",
       "18  -1_transmission mechanism_planetary gear_combu...   \n",
       "19  0_electric machine_internal combustion engine_...   \n",
       "20  -1_transmission mechanism_planetary gear_combu...   \n",
       "21  -1_transmission mechanism_planetary gear_combu...   \n",
       "22  1_input shaft_rotation elements_power transmis...   \n",
       "23  0_electric machine_internal combustion engine_...   \n",
       "24  -1_transmission mechanism_planetary gear_combu...   \n",
       "25  0_electric machine_internal combustion engine_...   \n",
       "26  -1_transmission mechanism_planetary gear_combu...   \n",
       "27  -1_transmission mechanism_planetary gear_combu...   \n",
       "28  -1_transmission mechanism_planetary gear_combu...   \n",
       "29  1_input shaft_rotation elements_power transmis...   \n",
       "30  -1_transmission mechanism_planetary gear_combu...   \n",
       "31  -1_transmission mechanism_planetary gear_combu...   \n",
       "32  1_input shaft_rotation elements_power transmis...   \n",
       "33  1_input shaft_rotation elements_power transmis...   \n",
       "34  0_electric machine_internal combustion engine_...   \n",
       "35  0_electric machine_internal combustion engine_...   \n",
       "36  -1_transmission mechanism_planetary gear_combu...   \n",
       "37  1_input shaft_rotation elements_power transmis...   \n",
       "38  -1_transmission mechanism_planetary gear_combu...   \n",
       "39  -1_transmission mechanism_planetary gear_combu...   \n",
       "40  -1_transmission mechanism_planetary gear_combu...   \n",
       "41  -1_transmission mechanism_planetary gear_combu...   \n",
       "42  0_electric machine_internal combustion engine_...   \n",
       "43  1_input shaft_rotation elements_power transmis...   \n",
       "44  0_electric machine_internal combustion engine_...   \n",
       "45  -1_transmission mechanism_planetary gear_combu...   \n",
       "46  -1_transmission mechanism_planetary gear_combu...   \n",
       "47  0_electric machine_internal combustion engine_...   \n",
       "48  1_input shaft_rotation elements_power transmis...   \n",
       "49  1_input shaft_rotation elements_power transmis...   \n",
       "\n",
       "                                       Representation  \\\n",
       "0   [transmission mechanism, planetary gear, combu...   \n",
       "1   [transmission mechanism, planetary gear, combu...   \n",
       "2   [input shaft, rotation elements, power transmi...   \n",
       "3   [electric machine, internal combustion engine,...   \n",
       "4   [transmission mechanism, planetary gear, combu...   \n",
       "5   [electric machine, internal combustion engine,...   \n",
       "6   [transmission mechanism, planetary gear, combu...   \n",
       "7   [electric machine, internal combustion engine,...   \n",
       "8   [electric machine, internal combustion engine,...   \n",
       "9   [transmission mechanism, planetary gear, combu...   \n",
       "10  [electric machine, internal combustion engine,...   \n",
       "11  [transmission mechanism, planetary gear, combu...   \n",
       "12  [electric machine, internal combustion engine,...   \n",
       "13  [input shaft, rotation elements, power transmi...   \n",
       "14  [electric machine, internal combustion engine,...   \n",
       "15  [input shaft, rotation elements, power transmi...   \n",
       "16  [transmission mechanism, planetary gear, combu...   \n",
       "17  [transmission mechanism, planetary gear, combu...   \n",
       "18  [transmission mechanism, planetary gear, combu...   \n",
       "19  [electric machine, internal combustion engine,...   \n",
       "20  [transmission mechanism, planetary gear, combu...   \n",
       "21  [transmission mechanism, planetary gear, combu...   \n",
       "22  [input shaft, rotation elements, power transmi...   \n",
       "23  [electric machine, internal combustion engine,...   \n",
       "24  [transmission mechanism, planetary gear, combu...   \n",
       "25  [electric machine, internal combustion engine,...   \n",
       "26  [transmission mechanism, planetary gear, combu...   \n",
       "27  [transmission mechanism, planetary gear, combu...   \n",
       "28  [transmission mechanism, planetary gear, combu...   \n",
       "29  [input shaft, rotation elements, power transmi...   \n",
       "30  [transmission mechanism, planetary gear, combu...   \n",
       "31  [transmission mechanism, planetary gear, combu...   \n",
       "32  [input shaft, rotation elements, power transmi...   \n",
       "33  [input shaft, rotation elements, power transmi...   \n",
       "34  [electric machine, internal combustion engine,...   \n",
       "35  [electric machine, internal combustion engine,...   \n",
       "36  [transmission mechanism, planetary gear, combu...   \n",
       "37  [input shaft, rotation elements, power transmi...   \n",
       "38  [transmission mechanism, planetary gear, combu...   \n",
       "39  [transmission mechanism, planetary gear, combu...   \n",
       "40  [transmission mechanism, planetary gear, combu...   \n",
       "41  [transmission mechanism, planetary gear, combu...   \n",
       "42  [electric machine, internal combustion engine,...   \n",
       "43  [input shaft, rotation elements, power transmi...   \n",
       "44  [electric machine, internal combustion engine,...   \n",
       "45  [transmission mechanism, planetary gear, combu...   \n",
       "46  [transmission mechanism, planetary gear, combu...   \n",
       "47  [electric machine, internal combustion engine,...   \n",
       "48  [input shaft, rotation elements, power transmi...   \n",
       "49  [input shaft, rotation elements, power transmi...   \n",
       "\n",
       "                                  Representative_Docs  \\\n",
       "0   [ DC60 (13/09/55) Hybrid vehicles include engi...   \n",
       "1   [ DC60 (13/09/55) Hybrid vehicles include engi...   \n",
       "2   [<P>PROBLEM TO BE SOLVED: To provide a driving...   \n",
       "3   [A hybrid powertrain (10; 110; 210) having an ...   \n",
       "4   [ DC60 (13/09/55) Hybrid vehicles include engi...   \n",
       "5   [A hybrid powertrain (10; 110; 210) having an ...   \n",
       "6   [ DC60 (13/09/55) Hybrid vehicles include engi...   \n",
       "7   [A hybrid powertrain (10; 110; 210) having an ...   \n",
       "8   [A hybrid powertrain (10; 110; 210) having an ...   \n",
       "9   [ DC60 (13/09/55) Hybrid vehicles include engi...   \n",
       "10  [A hybrid powertrain (10; 110; 210) having an ...   \n",
       "11  [ DC60 (13/09/55) Hybrid vehicles include engi...   \n",
       "12  [A hybrid powertrain (10; 110; 210) having an ...   \n",
       "13  [<P>PROBLEM TO BE SOLVED: To provide a driving...   \n",
       "14  [A hybrid powertrain (10; 110; 210) having an ...   \n",
       "15  [<P>PROBLEM TO BE SOLVED: To provide a driving...   \n",
       "16  [ DC60 (13/09/55) Hybrid vehicles include engi...   \n",
       "17  [ DC60 (13/09/55) Hybrid vehicles include engi...   \n",
       "18  [ DC60 (13/09/55) Hybrid vehicles include engi...   \n",
       "19  [A hybrid powertrain (10; 110; 210) having an ...   \n",
       "20  [ DC60 (13/09/55) Hybrid vehicles include engi...   \n",
       "21  [ DC60 (13/09/55) Hybrid vehicles include engi...   \n",
       "22  [<P>PROBLEM TO BE SOLVED: To provide a driving...   \n",
       "23  [A hybrid powertrain (10; 110; 210) having an ...   \n",
       "24  [ DC60 (13/09/55) Hybrid vehicles include engi...   \n",
       "25  [A hybrid powertrain (10; 110; 210) having an ...   \n",
       "26  [ DC60 (13/09/55) Hybrid vehicles include engi...   \n",
       "27  [ DC60 (13/09/55) Hybrid vehicles include engi...   \n",
       "28  [ DC60 (13/09/55) Hybrid vehicles include engi...   \n",
       "29  [<P>PROBLEM TO BE SOLVED: To provide a driving...   \n",
       "30  [ DC60 (13/09/55) Hybrid vehicles include engi...   \n",
       "31  [ DC60 (13/09/55) Hybrid vehicles include engi...   \n",
       "32  [<P>PROBLEM TO BE SOLVED: To provide a driving...   \n",
       "33  [<P>PROBLEM TO BE SOLVED: To provide a driving...   \n",
       "34  [A hybrid powertrain (10; 110; 210) having an ...   \n",
       "35  [A hybrid powertrain (10; 110; 210) having an ...   \n",
       "36  [ DC60 (13/09/55) Hybrid vehicles include engi...   \n",
       "37  [<P>PROBLEM TO BE SOLVED: To provide a driving...   \n",
       "38  [ DC60 (13/09/55) Hybrid vehicles include engi...   \n",
       "39  [ DC60 (13/09/55) Hybrid vehicles include engi...   \n",
       "40  [ DC60 (13/09/55) Hybrid vehicles include engi...   \n",
       "41  [ DC60 (13/09/55) Hybrid vehicles include engi...   \n",
       "42  [A hybrid powertrain (10; 110; 210) having an ...   \n",
       "43  [<P>PROBLEM TO BE SOLVED: To provide a driving...   \n",
       "44  [A hybrid powertrain (10; 110; 210) having an ...   \n",
       "45  [ DC60 (13/09/55) Hybrid vehicles include engi...   \n",
       "46  [ DC60 (13/09/55) Hybrid vehicles include engi...   \n",
       "47  [A hybrid powertrain (10; 110; 210) having an ...   \n",
       "48  [<P>PROBLEM TO BE SOLVED: To provide a driving...   \n",
       "49  [<P>PROBLEM TO BE SOLVED: To provide a driving...   \n",
       "\n",
       "                                          Top_n_words  Probability  \\\n",
       "0   transmission mechanism - planetary gear - comb...     0.000000   \n",
       "1   transmission mechanism - planetary gear - comb...     0.000000   \n",
       "2   input shaft - rotation elements - power transm...     1.000000   \n",
       "3   electric machine - internal combustion engine ...     1.000000   \n",
       "4   transmission mechanism - planetary gear - comb...     0.000000   \n",
       "5   electric machine - internal combustion engine ...     0.998666   \n",
       "6   transmission mechanism - planetary gear - comb...     0.000000   \n",
       "7   electric machine - internal combustion engine ...     0.987736   \n",
       "8   electric machine - internal combustion engine ...     1.000000   \n",
       "9   transmission mechanism - planetary gear - comb...     0.000000   \n",
       "10  electric machine - internal combustion engine ...     1.000000   \n",
       "11  transmission mechanism - planetary gear - comb...     0.000000   \n",
       "12  electric machine - internal combustion engine ...     1.000000   \n",
       "13  input shaft - rotation elements - power transm...     1.000000   \n",
       "14  electric machine - internal combustion engine ...     1.000000   \n",
       "15  input shaft - rotation elements - power transm...     1.000000   \n",
       "16  transmission mechanism - planetary gear - comb...     0.000000   \n",
       "17  transmission mechanism - planetary gear - comb...     0.000000   \n",
       "18  transmission mechanism - planetary gear - comb...     0.000000   \n",
       "19  electric machine - internal combustion engine ...     0.988953   \n",
       "20  transmission mechanism - planetary gear - comb...     0.000000   \n",
       "21  transmission mechanism - planetary gear - comb...     0.000000   \n",
       "22  input shaft - rotation elements - power transm...     1.000000   \n",
       "23  electric machine - internal combustion engine ...     1.000000   \n",
       "24  transmission mechanism - planetary gear - comb...     0.000000   \n",
       "25  electric machine - internal combustion engine ...     1.000000   \n",
       "26  transmission mechanism - planetary gear - comb...     0.000000   \n",
       "27  transmission mechanism - planetary gear - comb...     0.000000   \n",
       "28  transmission mechanism - planetary gear - comb...     0.000000   \n",
       "29  input shaft - rotation elements - power transm...     1.000000   \n",
       "30  transmission mechanism - planetary gear - comb...     0.000000   \n",
       "31  transmission mechanism - planetary gear - comb...     0.000000   \n",
       "32  input shaft - rotation elements - power transm...     1.000000   \n",
       "33  input shaft - rotation elements - power transm...     0.982652   \n",
       "34  electric machine - internal combustion engine ...     0.989521   \n",
       "35  electric machine - internal combustion engine ...     1.000000   \n",
       "36  transmission mechanism - planetary gear - comb...     0.000000   \n",
       "37  input shaft - rotation elements - power transm...     1.000000   \n",
       "38  transmission mechanism - planetary gear - comb...     0.000000   \n",
       "39  transmission mechanism - planetary gear - comb...     0.000000   \n",
       "40  transmission mechanism - planetary gear - comb...     0.000000   \n",
       "41  transmission mechanism - planetary gear - comb...     0.000000   \n",
       "42  electric machine - internal combustion engine ...     1.000000   \n",
       "43  input shaft - rotation elements - power transm...     1.000000   \n",
       "44  electric machine - internal combustion engine ...     0.967573   \n",
       "45  transmission mechanism - planetary gear - comb...     0.000000   \n",
       "46  transmission mechanism - planetary gear - comb...     0.000000   \n",
       "47  electric machine - internal combustion engine ...     1.000000   \n",
       "48  input shaft - rotation elements - power transm...     1.000000   \n",
       "49  input shaft - rotation elements - power transm...     1.000000   \n",
       "\n",
       "    Representative_document  \n",
       "0                     False  \n",
       "1                     False  \n",
       "2                     False  \n",
       "3                     False  \n",
       "4                     False  \n",
       "5                     False  \n",
       "6                     False  \n",
       "7                     False  \n",
       "8                     False  \n",
       "9                     False  \n",
       "10                     True  \n",
       "11                    False  \n",
       "12                     True  \n",
       "13                    False  \n",
       "14                    False  \n",
       "15                    False  \n",
       "16                     True  \n",
       "17                    False  \n",
       "18                    False  \n",
       "19                    False  \n",
       "20                    False  \n",
       "21                    False  \n",
       "22                    False  \n",
       "23                    False  \n",
       "24                    False  \n",
       "25                    False  \n",
       "26                    False  \n",
       "27                    False  \n",
       "28                    False  \n",
       "29                     True  \n",
       "30                    False  \n",
       "31                    False  \n",
       "32                    False  \n",
       "33                    False  \n",
       "34                    False  \n",
       "35                    False  \n",
       "36                     True  \n",
       "37                    False  \n",
       "38                    False  \n",
       "39                    False  \n",
       "40                    False  \n",
       "41                    False  \n",
       "42                    False  \n",
       "43                    False  \n",
       "44                    False  \n",
       "45                     True  \n",
       "46                    False  \n",
       "47                     True  \n",
       "48                     True  \n",
       "49                     True  "
      ]
     },
     "execution_count": 136,
     "metadata": {},
     "output_type": "execute_result"
    }
   ],
   "source": [
    "topic_model.get_document_info(texts)"
   ]
  },
  {
   "cell_type": "code",
   "execution_count": 86,
   "metadata": {},
   "outputs": [
    {
     "data": {
      "text/plain": [
       "[('electric machine', 0.022026449471490937),\n",
       " ('hybrid mode', 0.015820026143632315),\n",
       " ('fiber tube', 0.014609270160037489),\n",
       " ('internal combustion engine', 0.014002819962366816),\n",
       " ('combustion engine', 0.014002819962366816),\n",
       " ('internal combustion', 0.014002819962366816),\n",
       " ('crankshaft 13', 0.0121135314372453),\n",
       " ('input shaft', 0.010865531726027043),\n",
       " ('hybrid mode activation', 0.010822531013542488),\n",
       " ('mode activation', 0.010822531013542488)]"
      ]
     },
     "execution_count": 86,
     "metadata": {},
     "output_type": "execute_result"
    }
   ],
   "source": [
    " topic_model.get_topic(0)"
   ]
  },
  {
   "cell_type": "code",
   "execution_count": 87,
   "metadata": {},
   "outputs": [
    {
     "data": {
      "text/plain": [
       "[('rotation element', 0.024880390443632074),\n",
       " ('input shaft', 0.022616730917026914),\n",
       " ('second rotation', 0.020630010158502073),\n",
       " ('shaft section', 0.01617451210719271),\n",
       " ('rotation elements', 0.015798313238622453),\n",
       " ('power transmission', 0.015185190734197284),\n",
       " ('drive train', 0.013478760089327257),\n",
       " ('electric supplementary', 0.011442917926944263),\n",
       " ('synchronizer modules', 0.011442917926944263),\n",
       " ('unit 14', 0.011442917926944263)]"
      ]
     },
     "execution_count": 87,
     "metadata": {},
     "output_type": "execute_result"
    }
   ],
   "source": [
    " topic_model.get_topic(1)"
   ]
  },
  {
   "cell_type": "code",
   "execution_count": 59,
   "metadata": {},
   "outputs": [
    {
     "data": {
      "application/vnd.plotly.v1+json": {
       "config": {
        "plotlyServerURL": "https://plot.ly"
       },
       "data": [
        {
         "marker": {
          "color": "#D55E00"
         },
         "orientation": "h",
         "type": "bar",
         "x": [
          0.08995201575309515,
          0.11402422589449186,
          0.11402422589449186,
          0.11402422589449186,
          0.18272876834852214
         ],
         "xaxis": "x",
         "y": [
          "hybrid vehicle  ",
          "internal combustion  ",
          "combustion engine  ",
          "internal combustion engine  ",
          "electric machine  "
         ],
         "yaxis": "y"
        },
        {
         "marker": {
          "color": "#0072B2"
         },
         "orientation": "h",
         "type": "bar",
         "x": [
          0.1199087475916132,
          0.1427813078592548,
          0.1525465838567014,
          0.16416316156639382,
          0.18449516580344394
         ],
         "xaxis": "x2",
         "y": [
          "drive unit  ",
          "drive train  ",
          "power transmission  ",
          "rotation elements  ",
          "input shaft  "
         ],
         "yaxis": "y2"
        }
       ],
       "layout": {
        "annotations": [
         {
          "font": {
           "size": 16
          },
          "showarrow": false,
          "text": "Topic 0",
          "x": 0.0875,
          "xanchor": "center",
          "xref": "paper",
          "y": 1,
          "yanchor": "bottom",
          "yref": "paper"
         },
         {
          "font": {
           "size": 16
          },
          "showarrow": false,
          "text": "Topic 1",
          "x": 0.36250000000000004,
          "xanchor": "center",
          "xref": "paper",
          "y": 1,
          "yanchor": "bottom",
          "yref": "paper"
         }
        ],
        "height": 325,
        "hoverlabel": {
         "bgcolor": "white",
         "font": {
          "family": "Rockwell",
          "size": 16
         }
        },
        "showlegend": false,
        "template": {
         "data": {
          "bar": [
           {
            "error_x": {
             "color": "#2a3f5f"
            },
            "error_y": {
             "color": "#2a3f5f"
            },
            "marker": {
             "line": {
              "color": "white",
              "width": 0.5
             },
             "pattern": {
              "fillmode": "overlay",
              "size": 10,
              "solidity": 0.2
             }
            },
            "type": "bar"
           }
          ],
          "barpolar": [
           {
            "marker": {
             "line": {
              "color": "white",
              "width": 0.5
             },
             "pattern": {
              "fillmode": "overlay",
              "size": 10,
              "solidity": 0.2
             }
            },
            "type": "barpolar"
           }
          ],
          "carpet": [
           {
            "aaxis": {
             "endlinecolor": "#2a3f5f",
             "gridcolor": "#C8D4E3",
             "linecolor": "#C8D4E3",
             "minorgridcolor": "#C8D4E3",
             "startlinecolor": "#2a3f5f"
            },
            "baxis": {
             "endlinecolor": "#2a3f5f",
             "gridcolor": "#C8D4E3",
             "linecolor": "#C8D4E3",
             "minorgridcolor": "#C8D4E3",
             "startlinecolor": "#2a3f5f"
            },
            "type": "carpet"
           }
          ],
          "choropleth": [
           {
            "colorbar": {
             "outlinewidth": 0,
             "ticks": ""
            },
            "type": "choropleth"
           }
          ],
          "contour": [
           {
            "colorbar": {
             "outlinewidth": 0,
             "ticks": ""
            },
            "colorscale": [
             [
              0,
              "#0d0887"
             ],
             [
              0.1111111111111111,
              "#46039f"
             ],
             [
              0.2222222222222222,
              "#7201a8"
             ],
             [
              0.3333333333333333,
              "#9c179e"
             ],
             [
              0.4444444444444444,
              "#bd3786"
             ],
             [
              0.5555555555555556,
              "#d8576b"
             ],
             [
              0.6666666666666666,
              "#ed7953"
             ],
             [
              0.7777777777777778,
              "#fb9f3a"
             ],
             [
              0.8888888888888888,
              "#fdca26"
             ],
             [
              1,
              "#f0f921"
             ]
            ],
            "type": "contour"
           }
          ],
          "contourcarpet": [
           {
            "colorbar": {
             "outlinewidth": 0,
             "ticks": ""
            },
            "type": "contourcarpet"
           }
          ],
          "heatmap": [
           {
            "colorbar": {
             "outlinewidth": 0,
             "ticks": ""
            },
            "colorscale": [
             [
              0,
              "#0d0887"
             ],
             [
              0.1111111111111111,
              "#46039f"
             ],
             [
              0.2222222222222222,
              "#7201a8"
             ],
             [
              0.3333333333333333,
              "#9c179e"
             ],
             [
              0.4444444444444444,
              "#bd3786"
             ],
             [
              0.5555555555555556,
              "#d8576b"
             ],
             [
              0.6666666666666666,
              "#ed7953"
             ],
             [
              0.7777777777777778,
              "#fb9f3a"
             ],
             [
              0.8888888888888888,
              "#fdca26"
             ],
             [
              1,
              "#f0f921"
             ]
            ],
            "type": "heatmap"
           }
          ],
          "heatmapgl": [
           {
            "colorbar": {
             "outlinewidth": 0,
             "ticks": ""
            },
            "colorscale": [
             [
              0,
              "#0d0887"
             ],
             [
              0.1111111111111111,
              "#46039f"
             ],
             [
              0.2222222222222222,
              "#7201a8"
             ],
             [
              0.3333333333333333,
              "#9c179e"
             ],
             [
              0.4444444444444444,
              "#bd3786"
             ],
             [
              0.5555555555555556,
              "#d8576b"
             ],
             [
              0.6666666666666666,
              "#ed7953"
             ],
             [
              0.7777777777777778,
              "#fb9f3a"
             ],
             [
              0.8888888888888888,
              "#fdca26"
             ],
             [
              1,
              "#f0f921"
             ]
            ],
            "type": "heatmapgl"
           }
          ],
          "histogram": [
           {
            "marker": {
             "pattern": {
              "fillmode": "overlay",
              "size": 10,
              "solidity": 0.2
             }
            },
            "type": "histogram"
           }
          ],
          "histogram2d": [
           {
            "colorbar": {
             "outlinewidth": 0,
             "ticks": ""
            },
            "colorscale": [
             [
              0,
              "#0d0887"
             ],
             [
              0.1111111111111111,
              "#46039f"
             ],
             [
              0.2222222222222222,
              "#7201a8"
             ],
             [
              0.3333333333333333,
              "#9c179e"
             ],
             [
              0.4444444444444444,
              "#bd3786"
             ],
             [
              0.5555555555555556,
              "#d8576b"
             ],
             [
              0.6666666666666666,
              "#ed7953"
             ],
             [
              0.7777777777777778,
              "#fb9f3a"
             ],
             [
              0.8888888888888888,
              "#fdca26"
             ],
             [
              1,
              "#f0f921"
             ]
            ],
            "type": "histogram2d"
           }
          ],
          "histogram2dcontour": [
           {
            "colorbar": {
             "outlinewidth": 0,
             "ticks": ""
            },
            "colorscale": [
             [
              0,
              "#0d0887"
             ],
             [
              0.1111111111111111,
              "#46039f"
             ],
             [
              0.2222222222222222,
              "#7201a8"
             ],
             [
              0.3333333333333333,
              "#9c179e"
             ],
             [
              0.4444444444444444,
              "#bd3786"
             ],
             [
              0.5555555555555556,
              "#d8576b"
             ],
             [
              0.6666666666666666,
              "#ed7953"
             ],
             [
              0.7777777777777778,
              "#fb9f3a"
             ],
             [
              0.8888888888888888,
              "#fdca26"
             ],
             [
              1,
              "#f0f921"
             ]
            ],
            "type": "histogram2dcontour"
           }
          ],
          "mesh3d": [
           {
            "colorbar": {
             "outlinewidth": 0,
             "ticks": ""
            },
            "type": "mesh3d"
           }
          ],
          "parcoords": [
           {
            "line": {
             "colorbar": {
              "outlinewidth": 0,
              "ticks": ""
             }
            },
            "type": "parcoords"
           }
          ],
          "pie": [
           {
            "automargin": true,
            "type": "pie"
           }
          ],
          "scatter": [
           {
            "fillpattern": {
             "fillmode": "overlay",
             "size": 10,
             "solidity": 0.2
            },
            "type": "scatter"
           }
          ],
          "scatter3d": [
           {
            "line": {
             "colorbar": {
              "outlinewidth": 0,
              "ticks": ""
             }
            },
            "marker": {
             "colorbar": {
              "outlinewidth": 0,
              "ticks": ""
             }
            },
            "type": "scatter3d"
           }
          ],
          "scattercarpet": [
           {
            "marker": {
             "colorbar": {
              "outlinewidth": 0,
              "ticks": ""
             }
            },
            "type": "scattercarpet"
           }
          ],
          "scattergeo": [
           {
            "marker": {
             "colorbar": {
              "outlinewidth": 0,
              "ticks": ""
             }
            },
            "type": "scattergeo"
           }
          ],
          "scattergl": [
           {
            "marker": {
             "colorbar": {
              "outlinewidth": 0,
              "ticks": ""
             }
            },
            "type": "scattergl"
           }
          ],
          "scattermapbox": [
           {
            "marker": {
             "colorbar": {
              "outlinewidth": 0,
              "ticks": ""
             }
            },
            "type": "scattermapbox"
           }
          ],
          "scatterpolar": [
           {
            "marker": {
             "colorbar": {
              "outlinewidth": 0,
              "ticks": ""
             }
            },
            "type": "scatterpolar"
           }
          ],
          "scatterpolargl": [
           {
            "marker": {
             "colorbar": {
              "outlinewidth": 0,
              "ticks": ""
             }
            },
            "type": "scatterpolargl"
           }
          ],
          "scatterternary": [
           {
            "marker": {
             "colorbar": {
              "outlinewidth": 0,
              "ticks": ""
             }
            },
            "type": "scatterternary"
           }
          ],
          "surface": [
           {
            "colorbar": {
             "outlinewidth": 0,
             "ticks": ""
            },
            "colorscale": [
             [
              0,
              "#0d0887"
             ],
             [
              0.1111111111111111,
              "#46039f"
             ],
             [
              0.2222222222222222,
              "#7201a8"
             ],
             [
              0.3333333333333333,
              "#9c179e"
             ],
             [
              0.4444444444444444,
              "#bd3786"
             ],
             [
              0.5555555555555556,
              "#d8576b"
             ],
             [
              0.6666666666666666,
              "#ed7953"
             ],
             [
              0.7777777777777778,
              "#fb9f3a"
             ],
             [
              0.8888888888888888,
              "#fdca26"
             ],
             [
              1,
              "#f0f921"
             ]
            ],
            "type": "surface"
           }
          ],
          "table": [
           {
            "cells": {
             "fill": {
              "color": "#EBF0F8"
             },
             "line": {
              "color": "white"
             }
            },
            "header": {
             "fill": {
              "color": "#C8D4E3"
             },
             "line": {
              "color": "white"
             }
            },
            "type": "table"
           }
          ]
         },
         "layout": {
          "annotationdefaults": {
           "arrowcolor": "#2a3f5f",
           "arrowhead": 0,
           "arrowwidth": 1
          },
          "autotypenumbers": "strict",
          "coloraxis": {
           "colorbar": {
            "outlinewidth": 0,
            "ticks": ""
           }
          },
          "colorscale": {
           "diverging": [
            [
             0,
             "#8e0152"
            ],
            [
             0.1,
             "#c51b7d"
            ],
            [
             0.2,
             "#de77ae"
            ],
            [
             0.3,
             "#f1b6da"
            ],
            [
             0.4,
             "#fde0ef"
            ],
            [
             0.5,
             "#f7f7f7"
            ],
            [
             0.6,
             "#e6f5d0"
            ],
            [
             0.7,
             "#b8e186"
            ],
            [
             0.8,
             "#7fbc41"
            ],
            [
             0.9,
             "#4d9221"
            ],
            [
             1,
             "#276419"
            ]
           ],
           "sequential": [
            [
             0,
             "#0d0887"
            ],
            [
             0.1111111111111111,
             "#46039f"
            ],
            [
             0.2222222222222222,
             "#7201a8"
            ],
            [
             0.3333333333333333,
             "#9c179e"
            ],
            [
             0.4444444444444444,
             "#bd3786"
            ],
            [
             0.5555555555555556,
             "#d8576b"
            ],
            [
             0.6666666666666666,
             "#ed7953"
            ],
            [
             0.7777777777777778,
             "#fb9f3a"
            ],
            [
             0.8888888888888888,
             "#fdca26"
            ],
            [
             1,
             "#f0f921"
            ]
           ],
           "sequentialminus": [
            [
             0,
             "#0d0887"
            ],
            [
             0.1111111111111111,
             "#46039f"
            ],
            [
             0.2222222222222222,
             "#7201a8"
            ],
            [
             0.3333333333333333,
             "#9c179e"
            ],
            [
             0.4444444444444444,
             "#bd3786"
            ],
            [
             0.5555555555555556,
             "#d8576b"
            ],
            [
             0.6666666666666666,
             "#ed7953"
            ],
            [
             0.7777777777777778,
             "#fb9f3a"
            ],
            [
             0.8888888888888888,
             "#fdca26"
            ],
            [
             1,
             "#f0f921"
            ]
           ]
          },
          "colorway": [
           "#636efa",
           "#EF553B",
           "#00cc96",
           "#ab63fa",
           "#FFA15A",
           "#19d3f3",
           "#FF6692",
           "#B6E880",
           "#FF97FF",
           "#FECB52"
          ],
          "font": {
           "color": "#2a3f5f"
          },
          "geo": {
           "bgcolor": "white",
           "lakecolor": "white",
           "landcolor": "white",
           "showlakes": true,
           "showland": true,
           "subunitcolor": "#C8D4E3"
          },
          "hoverlabel": {
           "align": "left"
          },
          "hovermode": "closest",
          "mapbox": {
           "style": "light"
          },
          "paper_bgcolor": "white",
          "plot_bgcolor": "white",
          "polar": {
           "angularaxis": {
            "gridcolor": "#EBF0F8",
            "linecolor": "#EBF0F8",
            "ticks": ""
           },
           "bgcolor": "white",
           "radialaxis": {
            "gridcolor": "#EBF0F8",
            "linecolor": "#EBF0F8",
            "ticks": ""
           }
          },
          "scene": {
           "xaxis": {
            "backgroundcolor": "white",
            "gridcolor": "#DFE8F3",
            "gridwidth": 2,
            "linecolor": "#EBF0F8",
            "showbackground": true,
            "ticks": "",
            "zerolinecolor": "#EBF0F8"
           },
           "yaxis": {
            "backgroundcolor": "white",
            "gridcolor": "#DFE8F3",
            "gridwidth": 2,
            "linecolor": "#EBF0F8",
            "showbackground": true,
            "ticks": "",
            "zerolinecolor": "#EBF0F8"
           },
           "zaxis": {
            "backgroundcolor": "white",
            "gridcolor": "#DFE8F3",
            "gridwidth": 2,
            "linecolor": "#EBF0F8",
            "showbackground": true,
            "ticks": "",
            "zerolinecolor": "#EBF0F8"
           }
          },
          "shapedefaults": {
           "line": {
            "color": "#2a3f5f"
           }
          },
          "ternary": {
           "aaxis": {
            "gridcolor": "#DFE8F3",
            "linecolor": "#A2B1C6",
            "ticks": ""
           },
           "baxis": {
            "gridcolor": "#DFE8F3",
            "linecolor": "#A2B1C6",
            "ticks": ""
           },
           "bgcolor": "white",
           "caxis": {
            "gridcolor": "#DFE8F3",
            "linecolor": "#A2B1C6",
            "ticks": ""
           }
          },
          "title": {
           "x": 0.05
          },
          "xaxis": {
           "automargin": true,
           "gridcolor": "#EBF0F8",
           "linecolor": "#EBF0F8",
           "ticks": "",
           "title": {
            "standoff": 15
           },
           "zerolinecolor": "#EBF0F8",
           "zerolinewidth": 2
          },
          "yaxis": {
           "automargin": true,
           "gridcolor": "#EBF0F8",
           "linecolor": "#EBF0F8",
           "ticks": "",
           "title": {
            "standoff": 15
           },
           "zerolinecolor": "#EBF0F8",
           "zerolinewidth": 2
          }
         }
        },
        "title": {
         "font": {
          "color": "Black",
          "size": 22
         },
         "text": "Topic Word Scores",
         "x": 0.5,
         "xanchor": "center",
         "yanchor": "top"
        },
        "width": 1000,
        "xaxis": {
         "anchor": "y",
         "domain": [
          0,
          0.175
         ],
         "showgrid": true
        },
        "xaxis2": {
         "anchor": "y2",
         "domain": [
          0.275,
          0.45
         ],
         "showgrid": true
        },
        "xaxis3": {
         "anchor": "y3",
         "domain": [
          0.55,
          0.7250000000000001
         ],
         "showgrid": true
        },
        "xaxis4": {
         "anchor": "y4",
         "domain": [
          0.825,
          1
         ],
         "showgrid": true
        },
        "yaxis": {
         "anchor": "x",
         "domain": [
          0,
          1
         ],
         "showgrid": true
        },
        "yaxis2": {
         "anchor": "x2",
         "domain": [
          0,
          1
         ],
         "showgrid": true
        },
        "yaxis3": {
         "anchor": "x3",
         "domain": [
          0,
          1
         ],
         "showgrid": true
        },
        "yaxis4": {
         "anchor": "x4",
         "domain": [
          0,
          1
         ],
         "showgrid": true
        }
       }
      }
     },
     "metadata": {},
     "output_type": "display_data"
    }
   ],
   "source": [
    "topic_model.visualize_barchart()"
   ]
  },
  {
   "cell_type": "markdown",
   "metadata": {},
   "source": [
    "### Maximal Marginal Relevance (Fine Tuning)"
   ]
  },
  {
   "cell_type": "code",
   "execution_count": 107,
   "metadata": {},
   "outputs": [],
   "source": [
    "# Create your representation model\n",
    "representation_model = MaximalMarginalRelevance(diversity=0.2)\n",
    "\n",
    "# Use the representation model in BERTopic on top of the default pipeline\n",
    "topic_model_2 = BERTopic(representation_model=representation_model, vectorizer_model=vectorizer_model)"
   ]
  },
  {
   "cell_type": "code",
   "execution_count": 118,
   "metadata": {},
   "outputs": [],
   "source": [
    "topics_2, probs_2 = topic_model_2.fit_transform(texts)"
   ]
  },
  {
   "cell_type": "code",
   "execution_count": 119,
   "metadata": {},
   "outputs": [
    {
     "data": {
      "text/html": [
       "<div>\n",
       "<style scoped>\n",
       "    .dataframe tbody tr th:only-of-type {\n",
       "        vertical-align: middle;\n",
       "    }\n",
       "\n",
       "    .dataframe tbody tr th {\n",
       "        vertical-align: top;\n",
       "    }\n",
       "\n",
       "    .dataframe thead th {\n",
       "        text-align: right;\n",
       "    }\n",
       "</style>\n",
       "<table border=\"1\" class=\"dataframe\">\n",
       "  <thead>\n",
       "    <tr style=\"text-align: right;\">\n",
       "      <th></th>\n",
       "      <th>Topic</th>\n",
       "      <th>Count</th>\n",
       "      <th>Name</th>\n",
       "      <th>Representation</th>\n",
       "      <th>Representative_Docs</th>\n",
       "    </tr>\n",
       "  </thead>\n",
       "  <tbody>\n",
       "    <tr>\n",
       "      <th>0</th>\n",
       "      <td>-1</td>\n",
       "      <td>18</td>\n",
       "      <td>-1_oil pump_hybrid vehicles_pump shaft_oil pum...</td>\n",
       "      <td>[oil pump, hybrid vehicles, pump shaft, oil pu...</td>\n",
       "      <td>[ DC60 (13/09/55) Hybrid vehicles include engi...</td>\n",
       "    </tr>\n",
       "    <tr>\n",
       "      <th>1</th>\n",
       "      <td>0</td>\n",
       "      <td>19</td>\n",
       "      <td>0_electric machine_internal combustion engine_...</td>\n",
       "      <td>[electric machine, internal combustion engine,...</td>\n",
       "      <td>[The present invention provides a kind of hybr...</td>\n",
       "    </tr>\n",
       "    <tr>\n",
       "      <th>2</th>\n",
       "      <td>1</td>\n",
       "      <td>13</td>\n",
       "      <td>1_input shaft_rotation elements_shaft section_...</td>\n",
       "      <td>[input shaft, rotation elements, shaft section...</td>\n",
       "      <td>[&lt;P&gt;PROBLEM TO BE SOLVED: To provide a driving...</td>\n",
       "    </tr>\n",
       "  </tbody>\n",
       "</table>\n",
       "</div>"
      ],
      "text/plain": [
       "   Topic  Count                                               Name  \\\n",
       "0     -1     18  -1_oil pump_hybrid vehicles_pump shaft_oil pum...   \n",
       "1      0     19  0_electric machine_internal combustion engine_...   \n",
       "2      1     13  1_input shaft_rotation elements_shaft section_...   \n",
       "\n",
       "                                      Representation  \\\n",
       "0  [oil pump, hybrid vehicles, pump shaft, oil pu...   \n",
       "1  [electric machine, internal combustion engine,...   \n",
       "2  [input shaft, rotation elements, shaft section...   \n",
       "\n",
       "                                 Representative_Docs  \n",
       "0  [ DC60 (13/09/55) Hybrid vehicles include engi...  \n",
       "1  [The present invention provides a kind of hybr...  \n",
       "2  [<P>PROBLEM TO BE SOLVED: To provide a driving...  "
      ]
     },
     "execution_count": 119,
     "metadata": {},
     "output_type": "execute_result"
    }
   ],
   "source": [
    "topic_model_2.get_topic_info()"
   ]
  },
  {
   "cell_type": "code",
   "execution_count": 120,
   "metadata": {},
   "outputs": [
    {
     "data": {
      "text/plain": [
       "[('electric machine', 0.016978025670448767),\n",
       " ('internal combustion engine', 0.01373704228371575),\n",
       " ('crankshaft 13', 0.009337185507637902),\n",
       " ('hybrid mode activation', 0.008342080322313232),\n",
       " ('hybrid vehicle', 0.007647908774428225),\n",
       " ('gear group input', 0.007320628884411776),\n",
       " ('position signal 45 45a', 0.007320628884411776),\n",
       " ('motor generator', 0.007320628884411776),\n",
       " ('motor generator 18 20', 0.007320628884411776),\n",
       " ('transmission shaft', 0.007320628884411776)]"
      ]
     },
     "execution_count": 120,
     "metadata": {},
     "output_type": "execute_result"
    }
   ],
   "source": [
    "topic_model_2.get_topic(0)"
   ]
  },
  {
   "cell_type": "code",
   "execution_count": 121,
   "metadata": {},
   "outputs": [
    {
     "data": {
      "text/plain": [
       "[('input shaft', 0.020404864854188094),\n",
       " ('rotation elements', 0.016628975989793078),\n",
       " ('shaft section', 0.014592830234858313),\n",
       " ('output shaft', 0.014507426561789933),\n",
       " ('drive unit', 0.012495309309716707),\n",
       " ('shaft directly', 0.01032395161496897),\n",
       " ('rotating electrical machine', 0.01032395161496897),\n",
       " ('electric supplementary drive unit', 0.01032395161496897),\n",
       " ('shaft a2', 0.01032395161496897),\n",
       " ('shaft directly connected', 0.01032395161496897)]"
      ]
     },
     "execution_count": 121,
     "metadata": {},
     "output_type": "execute_result"
    }
   ],
   "source": [
    "topic_model_2.get_topic(1)"
   ]
  },
  {
   "cell_type": "code",
   "execution_count": 122,
   "metadata": {},
   "outputs": [
    {
     "data": {
      "application/vnd.plotly.v1+json": {
       "config": {
        "plotlyServerURL": "https://plot.ly"
       },
       "data": [
        {
         "marker": {
          "color": "#D55E00"
         },
         "orientation": "h",
         "type": "bar",
         "x": [
          0.007647908774428225,
          0.008342080322313232,
          0.009337185507637902,
          0.01373704228371575,
          0.016978025670448767
         ],
         "xaxis": "x",
         "y": [
          "hybrid vehicle  ",
          "hybrid mode activation  ",
          "crankshaft 13  ",
          "internal combustion engine  ",
          "electric machine  "
         ],
         "yaxis": "y"
        },
        {
         "marker": {
          "color": "#0072B2"
         },
         "orientation": "h",
         "type": "bar",
         "x": [
          0.012495309309716707,
          0.014507426561789933,
          0.014592830234858313,
          0.016628975989793078,
          0.020404864854188094
         ],
         "xaxis": "x2",
         "y": [
          "drive unit  ",
          "output shaft  ",
          "shaft section  ",
          "rotation elements  ",
          "input shaft  "
         ],
         "yaxis": "y2"
        }
       ],
       "layout": {
        "annotations": [
         {
          "font": {
           "size": 16
          },
          "showarrow": false,
          "text": "Topic 0",
          "x": 0.0875,
          "xanchor": "center",
          "xref": "paper",
          "y": 1,
          "yanchor": "bottom",
          "yref": "paper"
         },
         {
          "font": {
           "size": 16
          },
          "showarrow": false,
          "text": "Topic 1",
          "x": 0.36250000000000004,
          "xanchor": "center",
          "xref": "paper",
          "y": 1,
          "yanchor": "bottom",
          "yref": "paper"
         }
        ],
        "height": 325,
        "hoverlabel": {
         "bgcolor": "white",
         "font": {
          "family": "Rockwell",
          "size": 16
         }
        },
        "showlegend": false,
        "template": {
         "data": {
          "bar": [
           {
            "error_x": {
             "color": "#2a3f5f"
            },
            "error_y": {
             "color": "#2a3f5f"
            },
            "marker": {
             "line": {
              "color": "white",
              "width": 0.5
             },
             "pattern": {
              "fillmode": "overlay",
              "size": 10,
              "solidity": 0.2
             }
            },
            "type": "bar"
           }
          ],
          "barpolar": [
           {
            "marker": {
             "line": {
              "color": "white",
              "width": 0.5
             },
             "pattern": {
              "fillmode": "overlay",
              "size": 10,
              "solidity": 0.2
             }
            },
            "type": "barpolar"
           }
          ],
          "carpet": [
           {
            "aaxis": {
             "endlinecolor": "#2a3f5f",
             "gridcolor": "#C8D4E3",
             "linecolor": "#C8D4E3",
             "minorgridcolor": "#C8D4E3",
             "startlinecolor": "#2a3f5f"
            },
            "baxis": {
             "endlinecolor": "#2a3f5f",
             "gridcolor": "#C8D4E3",
             "linecolor": "#C8D4E3",
             "minorgridcolor": "#C8D4E3",
             "startlinecolor": "#2a3f5f"
            },
            "type": "carpet"
           }
          ],
          "choropleth": [
           {
            "colorbar": {
             "outlinewidth": 0,
             "ticks": ""
            },
            "type": "choropleth"
           }
          ],
          "contour": [
           {
            "colorbar": {
             "outlinewidth": 0,
             "ticks": ""
            },
            "colorscale": [
             [
              0,
              "#0d0887"
             ],
             [
              0.1111111111111111,
              "#46039f"
             ],
             [
              0.2222222222222222,
              "#7201a8"
             ],
             [
              0.3333333333333333,
              "#9c179e"
             ],
             [
              0.4444444444444444,
              "#bd3786"
             ],
             [
              0.5555555555555556,
              "#d8576b"
             ],
             [
              0.6666666666666666,
              "#ed7953"
             ],
             [
              0.7777777777777778,
              "#fb9f3a"
             ],
             [
              0.8888888888888888,
              "#fdca26"
             ],
             [
              1,
              "#f0f921"
             ]
            ],
            "type": "contour"
           }
          ],
          "contourcarpet": [
           {
            "colorbar": {
             "outlinewidth": 0,
             "ticks": ""
            },
            "type": "contourcarpet"
           }
          ],
          "heatmap": [
           {
            "colorbar": {
             "outlinewidth": 0,
             "ticks": ""
            },
            "colorscale": [
             [
              0,
              "#0d0887"
             ],
             [
              0.1111111111111111,
              "#46039f"
             ],
             [
              0.2222222222222222,
              "#7201a8"
             ],
             [
              0.3333333333333333,
              "#9c179e"
             ],
             [
              0.4444444444444444,
              "#bd3786"
             ],
             [
              0.5555555555555556,
              "#d8576b"
             ],
             [
              0.6666666666666666,
              "#ed7953"
             ],
             [
              0.7777777777777778,
              "#fb9f3a"
             ],
             [
              0.8888888888888888,
              "#fdca26"
             ],
             [
              1,
              "#f0f921"
             ]
            ],
            "type": "heatmap"
           }
          ],
          "heatmapgl": [
           {
            "colorbar": {
             "outlinewidth": 0,
             "ticks": ""
            },
            "colorscale": [
             [
              0,
              "#0d0887"
             ],
             [
              0.1111111111111111,
              "#46039f"
             ],
             [
              0.2222222222222222,
              "#7201a8"
             ],
             [
              0.3333333333333333,
              "#9c179e"
             ],
             [
              0.4444444444444444,
              "#bd3786"
             ],
             [
              0.5555555555555556,
              "#d8576b"
             ],
             [
              0.6666666666666666,
              "#ed7953"
             ],
             [
              0.7777777777777778,
              "#fb9f3a"
             ],
             [
              0.8888888888888888,
              "#fdca26"
             ],
             [
              1,
              "#f0f921"
             ]
            ],
            "type": "heatmapgl"
           }
          ],
          "histogram": [
           {
            "marker": {
             "pattern": {
              "fillmode": "overlay",
              "size": 10,
              "solidity": 0.2
             }
            },
            "type": "histogram"
           }
          ],
          "histogram2d": [
           {
            "colorbar": {
             "outlinewidth": 0,
             "ticks": ""
            },
            "colorscale": [
             [
              0,
              "#0d0887"
             ],
             [
              0.1111111111111111,
              "#46039f"
             ],
             [
              0.2222222222222222,
              "#7201a8"
             ],
             [
              0.3333333333333333,
              "#9c179e"
             ],
             [
              0.4444444444444444,
              "#bd3786"
             ],
             [
              0.5555555555555556,
              "#d8576b"
             ],
             [
              0.6666666666666666,
              "#ed7953"
             ],
             [
              0.7777777777777778,
              "#fb9f3a"
             ],
             [
              0.8888888888888888,
              "#fdca26"
             ],
             [
              1,
              "#f0f921"
             ]
            ],
            "type": "histogram2d"
           }
          ],
          "histogram2dcontour": [
           {
            "colorbar": {
             "outlinewidth": 0,
             "ticks": ""
            },
            "colorscale": [
             [
              0,
              "#0d0887"
             ],
             [
              0.1111111111111111,
              "#46039f"
             ],
             [
              0.2222222222222222,
              "#7201a8"
             ],
             [
              0.3333333333333333,
              "#9c179e"
             ],
             [
              0.4444444444444444,
              "#bd3786"
             ],
             [
              0.5555555555555556,
              "#d8576b"
             ],
             [
              0.6666666666666666,
              "#ed7953"
             ],
             [
              0.7777777777777778,
              "#fb9f3a"
             ],
             [
              0.8888888888888888,
              "#fdca26"
             ],
             [
              1,
              "#f0f921"
             ]
            ],
            "type": "histogram2dcontour"
           }
          ],
          "mesh3d": [
           {
            "colorbar": {
             "outlinewidth": 0,
             "ticks": ""
            },
            "type": "mesh3d"
           }
          ],
          "parcoords": [
           {
            "line": {
             "colorbar": {
              "outlinewidth": 0,
              "ticks": ""
             }
            },
            "type": "parcoords"
           }
          ],
          "pie": [
           {
            "automargin": true,
            "type": "pie"
           }
          ],
          "scatter": [
           {
            "fillpattern": {
             "fillmode": "overlay",
             "size": 10,
             "solidity": 0.2
            },
            "type": "scatter"
           }
          ],
          "scatter3d": [
           {
            "line": {
             "colorbar": {
              "outlinewidth": 0,
              "ticks": ""
             }
            },
            "marker": {
             "colorbar": {
              "outlinewidth": 0,
              "ticks": ""
             }
            },
            "type": "scatter3d"
           }
          ],
          "scattercarpet": [
           {
            "marker": {
             "colorbar": {
              "outlinewidth": 0,
              "ticks": ""
             }
            },
            "type": "scattercarpet"
           }
          ],
          "scattergeo": [
           {
            "marker": {
             "colorbar": {
              "outlinewidth": 0,
              "ticks": ""
             }
            },
            "type": "scattergeo"
           }
          ],
          "scattergl": [
           {
            "marker": {
             "colorbar": {
              "outlinewidth": 0,
              "ticks": ""
             }
            },
            "type": "scattergl"
           }
          ],
          "scattermapbox": [
           {
            "marker": {
             "colorbar": {
              "outlinewidth": 0,
              "ticks": ""
             }
            },
            "type": "scattermapbox"
           }
          ],
          "scatterpolar": [
           {
            "marker": {
             "colorbar": {
              "outlinewidth": 0,
              "ticks": ""
             }
            },
            "type": "scatterpolar"
           }
          ],
          "scatterpolargl": [
           {
            "marker": {
             "colorbar": {
              "outlinewidth": 0,
              "ticks": ""
             }
            },
            "type": "scatterpolargl"
           }
          ],
          "scatterternary": [
           {
            "marker": {
             "colorbar": {
              "outlinewidth": 0,
              "ticks": ""
             }
            },
            "type": "scatterternary"
           }
          ],
          "surface": [
           {
            "colorbar": {
             "outlinewidth": 0,
             "ticks": ""
            },
            "colorscale": [
             [
              0,
              "#0d0887"
             ],
             [
              0.1111111111111111,
              "#46039f"
             ],
             [
              0.2222222222222222,
              "#7201a8"
             ],
             [
              0.3333333333333333,
              "#9c179e"
             ],
             [
              0.4444444444444444,
              "#bd3786"
             ],
             [
              0.5555555555555556,
              "#d8576b"
             ],
             [
              0.6666666666666666,
              "#ed7953"
             ],
             [
              0.7777777777777778,
              "#fb9f3a"
             ],
             [
              0.8888888888888888,
              "#fdca26"
             ],
             [
              1,
              "#f0f921"
             ]
            ],
            "type": "surface"
           }
          ],
          "table": [
           {
            "cells": {
             "fill": {
              "color": "#EBF0F8"
             },
             "line": {
              "color": "white"
             }
            },
            "header": {
             "fill": {
              "color": "#C8D4E3"
             },
             "line": {
              "color": "white"
             }
            },
            "type": "table"
           }
          ]
         },
         "layout": {
          "annotationdefaults": {
           "arrowcolor": "#2a3f5f",
           "arrowhead": 0,
           "arrowwidth": 1
          },
          "autotypenumbers": "strict",
          "coloraxis": {
           "colorbar": {
            "outlinewidth": 0,
            "ticks": ""
           }
          },
          "colorscale": {
           "diverging": [
            [
             0,
             "#8e0152"
            ],
            [
             0.1,
             "#c51b7d"
            ],
            [
             0.2,
             "#de77ae"
            ],
            [
             0.3,
             "#f1b6da"
            ],
            [
             0.4,
             "#fde0ef"
            ],
            [
             0.5,
             "#f7f7f7"
            ],
            [
             0.6,
             "#e6f5d0"
            ],
            [
             0.7,
             "#b8e186"
            ],
            [
             0.8,
             "#7fbc41"
            ],
            [
             0.9,
             "#4d9221"
            ],
            [
             1,
             "#276419"
            ]
           ],
           "sequential": [
            [
             0,
             "#0d0887"
            ],
            [
             0.1111111111111111,
             "#46039f"
            ],
            [
             0.2222222222222222,
             "#7201a8"
            ],
            [
             0.3333333333333333,
             "#9c179e"
            ],
            [
             0.4444444444444444,
             "#bd3786"
            ],
            [
             0.5555555555555556,
             "#d8576b"
            ],
            [
             0.6666666666666666,
             "#ed7953"
            ],
            [
             0.7777777777777778,
             "#fb9f3a"
            ],
            [
             0.8888888888888888,
             "#fdca26"
            ],
            [
             1,
             "#f0f921"
            ]
           ],
           "sequentialminus": [
            [
             0,
             "#0d0887"
            ],
            [
             0.1111111111111111,
             "#46039f"
            ],
            [
             0.2222222222222222,
             "#7201a8"
            ],
            [
             0.3333333333333333,
             "#9c179e"
            ],
            [
             0.4444444444444444,
             "#bd3786"
            ],
            [
             0.5555555555555556,
             "#d8576b"
            ],
            [
             0.6666666666666666,
             "#ed7953"
            ],
            [
             0.7777777777777778,
             "#fb9f3a"
            ],
            [
             0.8888888888888888,
             "#fdca26"
            ],
            [
             1,
             "#f0f921"
            ]
           ]
          },
          "colorway": [
           "#636efa",
           "#EF553B",
           "#00cc96",
           "#ab63fa",
           "#FFA15A",
           "#19d3f3",
           "#FF6692",
           "#B6E880",
           "#FF97FF",
           "#FECB52"
          ],
          "font": {
           "color": "#2a3f5f"
          },
          "geo": {
           "bgcolor": "white",
           "lakecolor": "white",
           "landcolor": "white",
           "showlakes": true,
           "showland": true,
           "subunitcolor": "#C8D4E3"
          },
          "hoverlabel": {
           "align": "left"
          },
          "hovermode": "closest",
          "mapbox": {
           "style": "light"
          },
          "paper_bgcolor": "white",
          "plot_bgcolor": "white",
          "polar": {
           "angularaxis": {
            "gridcolor": "#EBF0F8",
            "linecolor": "#EBF0F8",
            "ticks": ""
           },
           "bgcolor": "white",
           "radialaxis": {
            "gridcolor": "#EBF0F8",
            "linecolor": "#EBF0F8",
            "ticks": ""
           }
          },
          "scene": {
           "xaxis": {
            "backgroundcolor": "white",
            "gridcolor": "#DFE8F3",
            "gridwidth": 2,
            "linecolor": "#EBF0F8",
            "showbackground": true,
            "ticks": "",
            "zerolinecolor": "#EBF0F8"
           },
           "yaxis": {
            "backgroundcolor": "white",
            "gridcolor": "#DFE8F3",
            "gridwidth": 2,
            "linecolor": "#EBF0F8",
            "showbackground": true,
            "ticks": "",
            "zerolinecolor": "#EBF0F8"
           },
           "zaxis": {
            "backgroundcolor": "white",
            "gridcolor": "#DFE8F3",
            "gridwidth": 2,
            "linecolor": "#EBF0F8",
            "showbackground": true,
            "ticks": "",
            "zerolinecolor": "#EBF0F8"
           }
          },
          "shapedefaults": {
           "line": {
            "color": "#2a3f5f"
           }
          },
          "ternary": {
           "aaxis": {
            "gridcolor": "#DFE8F3",
            "linecolor": "#A2B1C6",
            "ticks": ""
           },
           "baxis": {
            "gridcolor": "#DFE8F3",
            "linecolor": "#A2B1C6",
            "ticks": ""
           },
           "bgcolor": "white",
           "caxis": {
            "gridcolor": "#DFE8F3",
            "linecolor": "#A2B1C6",
            "ticks": ""
           }
          },
          "title": {
           "x": 0.05
          },
          "xaxis": {
           "automargin": true,
           "gridcolor": "#EBF0F8",
           "linecolor": "#EBF0F8",
           "ticks": "",
           "title": {
            "standoff": 15
           },
           "zerolinecolor": "#EBF0F8",
           "zerolinewidth": 2
          },
          "yaxis": {
           "automargin": true,
           "gridcolor": "#EBF0F8",
           "linecolor": "#EBF0F8",
           "ticks": "",
           "title": {
            "standoff": 15
           },
           "zerolinecolor": "#EBF0F8",
           "zerolinewidth": 2
          }
         }
        },
        "title": {
         "font": {
          "color": "Black",
          "size": 22
         },
         "text": "Topic Word Scores",
         "x": 0.5,
         "xanchor": "center",
         "yanchor": "top"
        },
        "width": 1000,
        "xaxis": {
         "anchor": "y",
         "domain": [
          0,
          0.175
         ],
         "showgrid": true
        },
        "xaxis2": {
         "anchor": "y2",
         "domain": [
          0.275,
          0.45
         ],
         "showgrid": true
        },
        "xaxis3": {
         "anchor": "y3",
         "domain": [
          0.55,
          0.7250000000000001
         ],
         "showgrid": true
        },
        "xaxis4": {
         "anchor": "y4",
         "domain": [
          0.825,
          1
         ],
         "showgrid": true
        },
        "yaxis": {
         "anchor": "x",
         "domain": [
          0,
          1
         ],
         "showgrid": true
        },
        "yaxis2": {
         "anchor": "x2",
         "domain": [
          0,
          1
         ],
         "showgrid": true
        },
        "yaxis3": {
         "anchor": "x3",
         "domain": [
          0,
          1
         ],
         "showgrid": true
        },
        "yaxis4": {
         "anchor": "x4",
         "domain": [
          0,
          1
         ],
         "showgrid": true
        }
       }
      }
     },
     "metadata": {},
     "output_type": "display_data"
    }
   ],
   "source": [
    "topic_model_2.visualize_barchart()"
   ]
  },
  {
   "cell_type": "markdown",
   "metadata": {},
   "source": [
    "#### KeyBERT"
   ]
  },
  {
   "cell_type": "code",
   "execution_count": 125,
   "metadata": {},
   "outputs": [],
   "source": [
    "representation_model_kB= KeyBERTInspired()"
   ]
  },
  {
   "cell_type": "code",
   "execution_count": 126,
   "metadata": {},
   "outputs": [],
   "source": [
    "topic_model_keyB = BERTopic(representation_model=representation_model_kB, vectorizer_model=vectorizer_model)"
   ]
  },
  {
   "cell_type": "code",
   "execution_count": 127,
   "metadata": {},
   "outputs": [],
   "source": [
    "topics_keyB, probs_keyB = topic_model_keyB.fit_transform(texts)"
   ]
  },
  {
   "cell_type": "code",
   "execution_count": 129,
   "metadata": {},
   "outputs": [
    {
     "data": {
      "text/html": [
       "<div>\n",
       "<style scoped>\n",
       "    .dataframe tbody tr th:only-of-type {\n",
       "        vertical-align: middle;\n",
       "    }\n",
       "\n",
       "    .dataframe tbody tr th {\n",
       "        vertical-align: top;\n",
       "    }\n",
       "\n",
       "    .dataframe thead th {\n",
       "        text-align: right;\n",
       "    }\n",
       "</style>\n",
       "<table border=\"1\" class=\"dataframe\">\n",
       "  <thead>\n",
       "    <tr style=\"text-align: right;\">\n",
       "      <th></th>\n",
       "      <th>Topic</th>\n",
       "      <th>Count</th>\n",
       "      <th>Name</th>\n",
       "      <th>Representation</th>\n",
       "      <th>Representative_Docs</th>\n",
       "    </tr>\n",
       "  </thead>\n",
       "  <tbody>\n",
       "    <tr>\n",
       "      <th>0</th>\n",
       "      <td>-1</td>\n",
       "      <td>24</td>\n",
       "      <td>-1_hybrid transmission_hybrid vehicle_gear mot...</td>\n",
       "      <td>[hybrid transmission, hybrid vehicle, gear mot...</td>\n",
       "      <td>[ DC60 (04/06/57) A drive device for hybrid ve...</td>\n",
       "    </tr>\n",
       "    <tr>\n",
       "      <th>1</th>\n",
       "      <td>0</td>\n",
       "      <td>16</td>\n",
       "      <td>0_hybrid electric vehicle_hybrid electric_hybr...</td>\n",
       "      <td>[hybrid electric vehicle, hybrid electric, hyb...</td>\n",
       "      <td>[The invention discloses a kind of ISG gently ...</td>\n",
       "    </tr>\n",
       "    <tr>\n",
       "      <th>2</th>\n",
       "      <td>1</td>\n",
       "      <td>10</td>\n",
       "      <td>1_engine transmission_power transmission_trans...</td>\n",
       "      <td>[engine transmission, power transmission, tran...</td>\n",
       "      <td>[Abstract of the Disclosure A power transmissi...</td>\n",
       "    </tr>\n",
       "  </tbody>\n",
       "</table>\n",
       "</div>"
      ],
      "text/plain": [
       "   Topic  Count                                               Name  \\\n",
       "0     -1     24  -1_hybrid transmission_hybrid vehicle_gear mot...   \n",
       "1      0     16  0_hybrid electric vehicle_hybrid electric_hybr...   \n",
       "2      1     10  1_engine transmission_power transmission_trans...   \n",
       "\n",
       "                                      Representation  \\\n",
       "0  [hybrid transmission, hybrid vehicle, gear mot...   \n",
       "1  [hybrid electric vehicle, hybrid electric, hyb...   \n",
       "2  [engine transmission, power transmission, tran...   \n",
       "\n",
       "                                 Representative_Docs  \n",
       "0  [ DC60 (04/06/57) A drive device for hybrid ve...  \n",
       "1  [The invention discloses a kind of ISG gently ...  \n",
       "2  [Abstract of the Disclosure A power transmissi...  "
      ]
     },
     "execution_count": 129,
     "metadata": {},
     "output_type": "execute_result"
    }
   ],
   "source": [
    "topic_model_keyB.get_topic_info()"
   ]
  },
  {
   "cell_type": "code",
   "execution_count": 130,
   "metadata": {},
   "outputs": [
    {
     "data": {
      "text/plain": [
       "[('hybrid electric vehicle', 0.7030604),\n",
       " ('hybrid electric', 0.6448177),\n",
       " ('hybrid vehicle', 0.63790405),\n",
       " ('hybrid power', 0.56969994),\n",
       " ('crankshaft hybrid', 0.5453495),\n",
       " ('hybrid transmission', 0.51400816),\n",
       " ('electric vehicle', 0.51290977),\n",
       " ('power vehicle', 0.45745778),\n",
       " ('electric drive', 0.4475574),\n",
       " ('comprises engine', 0.44510633)]"
      ]
     },
     "execution_count": 130,
     "metadata": {},
     "output_type": "execute_result"
    }
   ],
   "source": [
    "topic_model_keyB.get_topic(0)"
   ]
  },
  {
   "cell_type": "code",
   "execution_count": 131,
   "metadata": {},
   "outputs": [
    {
     "data": {
      "text/plain": [
       "[('engine transmission', 0.59664834),\n",
       " ('power transmission', 0.5956198),\n",
       " ('transmission device', 0.5865534),\n",
       " ('second transmission', 0.5768513),\n",
       " ('transmission mechanism', 0.5243124),\n",
       " ('transmission having input', 0.50669837),\n",
       " ('power motor', 0.49644637),\n",
       " ('transmission having', 0.49580705),\n",
       " ('power transmitting apparatus', 0.49148327),\n",
       " ('motor vehicle', 0.4815259)]"
      ]
     },
     "execution_count": 131,
     "metadata": {},
     "output_type": "execute_result"
    }
   ],
   "source": [
    "topic_model_keyB.get_topic(1)"
   ]
  },
  {
   "cell_type": "code",
   "execution_count": 132,
   "metadata": {},
   "outputs": [
    {
     "data": {
      "application/vnd.plotly.v1+json": {
       "config": {
        "plotlyServerURL": "https://plot.ly"
       },
       "data": [
        {
         "marker": {
          "color": "#D55E00"
         },
         "orientation": "h",
         "type": "bar",
         "x": [
          0.5453494787216187,
          0.5696999430656433,
          0.6379040479660034,
          0.6448177099227905,
          0.7030603885650635
         ],
         "xaxis": "x",
         "y": [
          "crankshaft hybrid  ",
          "hybrid power  ",
          "hybrid vehicle  ",
          "hybrid electric  ",
          "hybrid electric vehicle  "
         ],
         "yaxis": "y"
        },
        {
         "marker": {
          "color": "#0072B2"
         },
         "orientation": "h",
         "type": "bar",
         "x": [
          0.5243123769760132,
          0.5768513083457947,
          0.5865533947944641,
          0.595619797706604,
          0.5966483354568481
         ],
         "xaxis": "x2",
         "y": [
          "transmission mechanism  ",
          "second transmission  ",
          "transmission device  ",
          "power transmission  ",
          "engine transmission  "
         ],
         "yaxis": "y2"
        }
       ],
       "layout": {
        "annotations": [
         {
          "font": {
           "size": 16
          },
          "showarrow": false,
          "text": "Topic 0",
          "x": 0.0875,
          "xanchor": "center",
          "xref": "paper",
          "y": 1,
          "yanchor": "bottom",
          "yref": "paper"
         },
         {
          "font": {
           "size": 16
          },
          "showarrow": false,
          "text": "Topic 1",
          "x": 0.36250000000000004,
          "xanchor": "center",
          "xref": "paper",
          "y": 1,
          "yanchor": "bottom",
          "yref": "paper"
         }
        ],
        "height": 325,
        "hoverlabel": {
         "bgcolor": "white",
         "font": {
          "family": "Rockwell",
          "size": 16
         }
        },
        "showlegend": false,
        "template": {
         "data": {
          "bar": [
           {
            "error_x": {
             "color": "#2a3f5f"
            },
            "error_y": {
             "color": "#2a3f5f"
            },
            "marker": {
             "line": {
              "color": "white",
              "width": 0.5
             },
             "pattern": {
              "fillmode": "overlay",
              "size": 10,
              "solidity": 0.2
             }
            },
            "type": "bar"
           }
          ],
          "barpolar": [
           {
            "marker": {
             "line": {
              "color": "white",
              "width": 0.5
             },
             "pattern": {
              "fillmode": "overlay",
              "size": 10,
              "solidity": 0.2
             }
            },
            "type": "barpolar"
           }
          ],
          "carpet": [
           {
            "aaxis": {
             "endlinecolor": "#2a3f5f",
             "gridcolor": "#C8D4E3",
             "linecolor": "#C8D4E3",
             "minorgridcolor": "#C8D4E3",
             "startlinecolor": "#2a3f5f"
            },
            "baxis": {
             "endlinecolor": "#2a3f5f",
             "gridcolor": "#C8D4E3",
             "linecolor": "#C8D4E3",
             "minorgridcolor": "#C8D4E3",
             "startlinecolor": "#2a3f5f"
            },
            "type": "carpet"
           }
          ],
          "choropleth": [
           {
            "colorbar": {
             "outlinewidth": 0,
             "ticks": ""
            },
            "type": "choropleth"
           }
          ],
          "contour": [
           {
            "colorbar": {
             "outlinewidth": 0,
             "ticks": ""
            },
            "colorscale": [
             [
              0,
              "#0d0887"
             ],
             [
              0.1111111111111111,
              "#46039f"
             ],
             [
              0.2222222222222222,
              "#7201a8"
             ],
             [
              0.3333333333333333,
              "#9c179e"
             ],
             [
              0.4444444444444444,
              "#bd3786"
             ],
             [
              0.5555555555555556,
              "#d8576b"
             ],
             [
              0.6666666666666666,
              "#ed7953"
             ],
             [
              0.7777777777777778,
              "#fb9f3a"
             ],
             [
              0.8888888888888888,
              "#fdca26"
             ],
             [
              1,
              "#f0f921"
             ]
            ],
            "type": "contour"
           }
          ],
          "contourcarpet": [
           {
            "colorbar": {
             "outlinewidth": 0,
             "ticks": ""
            },
            "type": "contourcarpet"
           }
          ],
          "heatmap": [
           {
            "colorbar": {
             "outlinewidth": 0,
             "ticks": ""
            },
            "colorscale": [
             [
              0,
              "#0d0887"
             ],
             [
              0.1111111111111111,
              "#46039f"
             ],
             [
              0.2222222222222222,
              "#7201a8"
             ],
             [
              0.3333333333333333,
              "#9c179e"
             ],
             [
              0.4444444444444444,
              "#bd3786"
             ],
             [
              0.5555555555555556,
              "#d8576b"
             ],
             [
              0.6666666666666666,
              "#ed7953"
             ],
             [
              0.7777777777777778,
              "#fb9f3a"
             ],
             [
              0.8888888888888888,
              "#fdca26"
             ],
             [
              1,
              "#f0f921"
             ]
            ],
            "type": "heatmap"
           }
          ],
          "heatmapgl": [
           {
            "colorbar": {
             "outlinewidth": 0,
             "ticks": ""
            },
            "colorscale": [
             [
              0,
              "#0d0887"
             ],
             [
              0.1111111111111111,
              "#46039f"
             ],
             [
              0.2222222222222222,
              "#7201a8"
             ],
             [
              0.3333333333333333,
              "#9c179e"
             ],
             [
              0.4444444444444444,
              "#bd3786"
             ],
             [
              0.5555555555555556,
              "#d8576b"
             ],
             [
              0.6666666666666666,
              "#ed7953"
             ],
             [
              0.7777777777777778,
              "#fb9f3a"
             ],
             [
              0.8888888888888888,
              "#fdca26"
             ],
             [
              1,
              "#f0f921"
             ]
            ],
            "type": "heatmapgl"
           }
          ],
          "histogram": [
           {
            "marker": {
             "pattern": {
              "fillmode": "overlay",
              "size": 10,
              "solidity": 0.2
             }
            },
            "type": "histogram"
           }
          ],
          "histogram2d": [
           {
            "colorbar": {
             "outlinewidth": 0,
             "ticks": ""
            },
            "colorscale": [
             [
              0,
              "#0d0887"
             ],
             [
              0.1111111111111111,
              "#46039f"
             ],
             [
              0.2222222222222222,
              "#7201a8"
             ],
             [
              0.3333333333333333,
              "#9c179e"
             ],
             [
              0.4444444444444444,
              "#bd3786"
             ],
             [
              0.5555555555555556,
              "#d8576b"
             ],
             [
              0.6666666666666666,
              "#ed7953"
             ],
             [
              0.7777777777777778,
              "#fb9f3a"
             ],
             [
              0.8888888888888888,
              "#fdca26"
             ],
             [
              1,
              "#f0f921"
             ]
            ],
            "type": "histogram2d"
           }
          ],
          "histogram2dcontour": [
           {
            "colorbar": {
             "outlinewidth": 0,
             "ticks": ""
            },
            "colorscale": [
             [
              0,
              "#0d0887"
             ],
             [
              0.1111111111111111,
              "#46039f"
             ],
             [
              0.2222222222222222,
              "#7201a8"
             ],
             [
              0.3333333333333333,
              "#9c179e"
             ],
             [
              0.4444444444444444,
              "#bd3786"
             ],
             [
              0.5555555555555556,
              "#d8576b"
             ],
             [
              0.6666666666666666,
              "#ed7953"
             ],
             [
              0.7777777777777778,
              "#fb9f3a"
             ],
             [
              0.8888888888888888,
              "#fdca26"
             ],
             [
              1,
              "#f0f921"
             ]
            ],
            "type": "histogram2dcontour"
           }
          ],
          "mesh3d": [
           {
            "colorbar": {
             "outlinewidth": 0,
             "ticks": ""
            },
            "type": "mesh3d"
           }
          ],
          "parcoords": [
           {
            "line": {
             "colorbar": {
              "outlinewidth": 0,
              "ticks": ""
             }
            },
            "type": "parcoords"
           }
          ],
          "pie": [
           {
            "automargin": true,
            "type": "pie"
           }
          ],
          "scatter": [
           {
            "fillpattern": {
             "fillmode": "overlay",
             "size": 10,
             "solidity": 0.2
            },
            "type": "scatter"
           }
          ],
          "scatter3d": [
           {
            "line": {
             "colorbar": {
              "outlinewidth": 0,
              "ticks": ""
             }
            },
            "marker": {
             "colorbar": {
              "outlinewidth": 0,
              "ticks": ""
             }
            },
            "type": "scatter3d"
           }
          ],
          "scattercarpet": [
           {
            "marker": {
             "colorbar": {
              "outlinewidth": 0,
              "ticks": ""
             }
            },
            "type": "scattercarpet"
           }
          ],
          "scattergeo": [
           {
            "marker": {
             "colorbar": {
              "outlinewidth": 0,
              "ticks": ""
             }
            },
            "type": "scattergeo"
           }
          ],
          "scattergl": [
           {
            "marker": {
             "colorbar": {
              "outlinewidth": 0,
              "ticks": ""
             }
            },
            "type": "scattergl"
           }
          ],
          "scattermapbox": [
           {
            "marker": {
             "colorbar": {
              "outlinewidth": 0,
              "ticks": ""
             }
            },
            "type": "scattermapbox"
           }
          ],
          "scatterpolar": [
           {
            "marker": {
             "colorbar": {
              "outlinewidth": 0,
              "ticks": ""
             }
            },
            "type": "scatterpolar"
           }
          ],
          "scatterpolargl": [
           {
            "marker": {
             "colorbar": {
              "outlinewidth": 0,
              "ticks": ""
             }
            },
            "type": "scatterpolargl"
           }
          ],
          "scatterternary": [
           {
            "marker": {
             "colorbar": {
              "outlinewidth": 0,
              "ticks": ""
             }
            },
            "type": "scatterternary"
           }
          ],
          "surface": [
           {
            "colorbar": {
             "outlinewidth": 0,
             "ticks": ""
            },
            "colorscale": [
             [
              0,
              "#0d0887"
             ],
             [
              0.1111111111111111,
              "#46039f"
             ],
             [
              0.2222222222222222,
              "#7201a8"
             ],
             [
              0.3333333333333333,
              "#9c179e"
             ],
             [
              0.4444444444444444,
              "#bd3786"
             ],
             [
              0.5555555555555556,
              "#d8576b"
             ],
             [
              0.6666666666666666,
              "#ed7953"
             ],
             [
              0.7777777777777778,
              "#fb9f3a"
             ],
             [
              0.8888888888888888,
              "#fdca26"
             ],
             [
              1,
              "#f0f921"
             ]
            ],
            "type": "surface"
           }
          ],
          "table": [
           {
            "cells": {
             "fill": {
              "color": "#EBF0F8"
             },
             "line": {
              "color": "white"
             }
            },
            "header": {
             "fill": {
              "color": "#C8D4E3"
             },
             "line": {
              "color": "white"
             }
            },
            "type": "table"
           }
          ]
         },
         "layout": {
          "annotationdefaults": {
           "arrowcolor": "#2a3f5f",
           "arrowhead": 0,
           "arrowwidth": 1
          },
          "autotypenumbers": "strict",
          "coloraxis": {
           "colorbar": {
            "outlinewidth": 0,
            "ticks": ""
           }
          },
          "colorscale": {
           "diverging": [
            [
             0,
             "#8e0152"
            ],
            [
             0.1,
             "#c51b7d"
            ],
            [
             0.2,
             "#de77ae"
            ],
            [
             0.3,
             "#f1b6da"
            ],
            [
             0.4,
             "#fde0ef"
            ],
            [
             0.5,
             "#f7f7f7"
            ],
            [
             0.6,
             "#e6f5d0"
            ],
            [
             0.7,
             "#b8e186"
            ],
            [
             0.8,
             "#7fbc41"
            ],
            [
             0.9,
             "#4d9221"
            ],
            [
             1,
             "#276419"
            ]
           ],
           "sequential": [
            [
             0,
             "#0d0887"
            ],
            [
             0.1111111111111111,
             "#46039f"
            ],
            [
             0.2222222222222222,
             "#7201a8"
            ],
            [
             0.3333333333333333,
             "#9c179e"
            ],
            [
             0.4444444444444444,
             "#bd3786"
            ],
            [
             0.5555555555555556,
             "#d8576b"
            ],
            [
             0.6666666666666666,
             "#ed7953"
            ],
            [
             0.7777777777777778,
             "#fb9f3a"
            ],
            [
             0.8888888888888888,
             "#fdca26"
            ],
            [
             1,
             "#f0f921"
            ]
           ],
           "sequentialminus": [
            [
             0,
             "#0d0887"
            ],
            [
             0.1111111111111111,
             "#46039f"
            ],
            [
             0.2222222222222222,
             "#7201a8"
            ],
            [
             0.3333333333333333,
             "#9c179e"
            ],
            [
             0.4444444444444444,
             "#bd3786"
            ],
            [
             0.5555555555555556,
             "#d8576b"
            ],
            [
             0.6666666666666666,
             "#ed7953"
            ],
            [
             0.7777777777777778,
             "#fb9f3a"
            ],
            [
             0.8888888888888888,
             "#fdca26"
            ],
            [
             1,
             "#f0f921"
            ]
           ]
          },
          "colorway": [
           "#636efa",
           "#EF553B",
           "#00cc96",
           "#ab63fa",
           "#FFA15A",
           "#19d3f3",
           "#FF6692",
           "#B6E880",
           "#FF97FF",
           "#FECB52"
          ],
          "font": {
           "color": "#2a3f5f"
          },
          "geo": {
           "bgcolor": "white",
           "lakecolor": "white",
           "landcolor": "white",
           "showlakes": true,
           "showland": true,
           "subunitcolor": "#C8D4E3"
          },
          "hoverlabel": {
           "align": "left"
          },
          "hovermode": "closest",
          "mapbox": {
           "style": "light"
          },
          "paper_bgcolor": "white",
          "plot_bgcolor": "white",
          "polar": {
           "angularaxis": {
            "gridcolor": "#EBF0F8",
            "linecolor": "#EBF0F8",
            "ticks": ""
           },
           "bgcolor": "white",
           "radialaxis": {
            "gridcolor": "#EBF0F8",
            "linecolor": "#EBF0F8",
            "ticks": ""
           }
          },
          "scene": {
           "xaxis": {
            "backgroundcolor": "white",
            "gridcolor": "#DFE8F3",
            "gridwidth": 2,
            "linecolor": "#EBF0F8",
            "showbackground": true,
            "ticks": "",
            "zerolinecolor": "#EBF0F8"
           },
           "yaxis": {
            "backgroundcolor": "white",
            "gridcolor": "#DFE8F3",
            "gridwidth": 2,
            "linecolor": "#EBF0F8",
            "showbackground": true,
            "ticks": "",
            "zerolinecolor": "#EBF0F8"
           },
           "zaxis": {
            "backgroundcolor": "white",
            "gridcolor": "#DFE8F3",
            "gridwidth": 2,
            "linecolor": "#EBF0F8",
            "showbackground": true,
            "ticks": "",
            "zerolinecolor": "#EBF0F8"
           }
          },
          "shapedefaults": {
           "line": {
            "color": "#2a3f5f"
           }
          },
          "ternary": {
           "aaxis": {
            "gridcolor": "#DFE8F3",
            "linecolor": "#A2B1C6",
            "ticks": ""
           },
           "baxis": {
            "gridcolor": "#DFE8F3",
            "linecolor": "#A2B1C6",
            "ticks": ""
           },
           "bgcolor": "white",
           "caxis": {
            "gridcolor": "#DFE8F3",
            "linecolor": "#A2B1C6",
            "ticks": ""
           }
          },
          "title": {
           "x": 0.05
          },
          "xaxis": {
           "automargin": true,
           "gridcolor": "#EBF0F8",
           "linecolor": "#EBF0F8",
           "ticks": "",
           "title": {
            "standoff": 15
           },
           "zerolinecolor": "#EBF0F8",
           "zerolinewidth": 2
          },
          "yaxis": {
           "automargin": true,
           "gridcolor": "#EBF0F8",
           "linecolor": "#EBF0F8",
           "ticks": "",
           "title": {
            "standoff": 15
           },
           "zerolinecolor": "#EBF0F8",
           "zerolinewidth": 2
          }
         }
        },
        "title": {
         "font": {
          "color": "Black",
          "size": 22
         },
         "text": "Topic Word Scores",
         "x": 0.5,
         "xanchor": "center",
         "yanchor": "top"
        },
        "width": 1000,
        "xaxis": {
         "anchor": "y",
         "domain": [
          0,
          0.175
         ],
         "showgrid": true
        },
        "xaxis2": {
         "anchor": "y2",
         "domain": [
          0.275,
          0.45
         ],
         "showgrid": true
        },
        "xaxis3": {
         "anchor": "y3",
         "domain": [
          0.55,
          0.7250000000000001
         ],
         "showgrid": true
        },
        "xaxis4": {
         "anchor": "y4",
         "domain": [
          0.825,
          1
         ],
         "showgrid": true
        },
        "yaxis": {
         "anchor": "x",
         "domain": [
          0,
          1
         ],
         "showgrid": true
        },
        "yaxis2": {
         "anchor": "x2",
         "domain": [
          0,
          1
         ],
         "showgrid": true
        },
        "yaxis3": {
         "anchor": "x3",
         "domain": [
          0,
          1
         ],
         "showgrid": true
        },
        "yaxis4": {
         "anchor": "x4",
         "domain": [
          0,
          1
         ],
         "showgrid": true
        }
       }
      }
     },
     "metadata": {},
     "output_type": "display_data"
    }
   ],
   "source": [
    "topic_model_keyB.visualize_barchart()"
   ]
  },
  {
   "cell_type": "code",
   "execution_count": null,
   "metadata": {},
   "outputs": [],
   "source": []
  }
 ],
 "metadata": {
  "kernelspec": {
   "display_name": "venv",
   "language": "python",
   "name": "python3"
  },
  "language_info": {
   "codemirror_mode": {
    "name": "ipython",
    "version": 3
   },
   "file_extension": ".py",
   "mimetype": "text/x-python",
   "name": "python",
   "nbconvert_exporter": "python",
   "pygments_lexer": "ipython3",
   "version": "3.12.3"
  }
 },
 "nbformat": 4,
 "nbformat_minor": 2
}
