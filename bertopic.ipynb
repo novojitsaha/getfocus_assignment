{
 "cells": [
  {
   "cell_type": "code",
   "execution_count": 1,
   "metadata": {},
   "outputs": [
    {
     "name": "stderr",
     "output_type": "stream",
     "text": [
      "c:\\dev\\getfocus_assignment\\venv\\Lib\\site-packages\\tqdm\\auto.py:21: TqdmWarning: IProgress not found. Please update jupyter and ipywidgets. See https://ipywidgets.readthedocs.io/en/stable/user_install.html\n",
      "  from .autonotebook import tqdm as notebook_tqdm\n"
     ]
    }
   ],
   "source": [
    "import csv\n",
    "from bertopic import BERTopic\n"
   ]
  },
  {
   "cell_type": "code",
   "execution_count": 14,
   "metadata": {},
   "outputs": [],
   "source": [
    "texts = []\n",
    "with open('./output_data/abstracts.csv', newline='') as csv_output:\n",
    "    reader = csv.reader(csv_output, delimiter='\\n')\n",
    "    for row in reader:\n",
    "        texts.extend(row)\n"
   ]
  },
  {
   "cell_type": "code",
   "execution_count": 7,
   "metadata": {},
   "outputs": [
    {
     "name": "stdout",
     "output_type": "stream",
     "text": [
      "['hydraulic regenerative braking power support device hybrid vehicle provided improve total efficiency hybrid vehicle since unavailable energy generated internal combustion engine utilized order maintain isothermal condition compression expansion compressed air hydraulic regenerative braking power support device hybrid vehicle comprises high pressure storage tank compressed air charged top tank inside working fluid stored lower part tank inside heat exchanger heat-exchanges compressed air top inside high pressure storage tank fluid compressor raise pressure working fluid flowed low pressure storage tank transfer store working fluid high pressure storage tank risen temperature compressed air cooled heat exchanger working fluid storage high pressure storage tank', 'higher lower planet row plug-in hybrid-power automobile oil consumption dynamical system invention discloses kind efficiency characterised outer shaft include second clutch hollow shaft inner shaft second sun gear positioned planet carrier within second planetary gear rotatably installed planet carrier planet axis second planet row second clutch external drum first clutch external drum connect firmly input shaft right end connected inner shaft left right end stretch outer shaft respectively left right end right end second sun gear connects firmly left end second clutch interior hub connected first planetary gear first planet row second planetary gear second planet row connects firmly left right installed planet axis side side', 'traction arrangement comprises one individually driven wheel opposed side vehicle torque differential supplied motor via propellor shaft substantially perpendicular drive shaft result reaction wheel move relative suspended part vehicle arrangement incorporates displacement prop relative movement sustained removal torque differential typically displacement prop comprises piston cylinder arrangement piston moved freely order accommodate relative movement whilst return either prevented much reduced rate order sustain relative movement therefore weight distribution improved traction control', 'dual-motor hybrid power driving system comprises driving system box body engine first motor differential mechanism input shaft intermediate shaft first transmission shaft second transmission shaft wherein input shaft intermediate shaft first transmission shaft second transmission shaft supported driving system box body parallel input shaft intermediate shaft respectively connected first gear pair engine second gear pair engine first synchronizer gear shifting arranged first gear pair engine second gear pair engine first-gear driving gear motor second-gear driving gear motor fixedly arranged first transmission shaft first-gear driven gear motor second-gear driven gear motor respectively arranged second transmission shaft free sleeve mode second synchronizer used shifting gear arranged first-gear driven gear motor second-gear driven gear motor', 'field transport', 'problem solved provide control device hybrid vehicle improving fuel economy solution parallel hybrid vehicle provided battery temperature sensor s8 hvecu detect condition battery vehicle speed sensor s1 engine speed sensor s2 accelerator pedal opening sensor s5 detect condition vehicle fi mgecu36 changing required value engine e motor based accelerator pedal opening also determining whether fuel supply engine e stopped according condition vehicle vehicle decelerating accelerator pedal opening predetermined opening fuel cutting condition maintained also target torque found based accelerator pedal opening controlled motecu33 accelerator pedal increased predetermined opening copyright c jpo ncipi', 'improved drive unit vehicle internal combustion engine automatic transmission clutch comprising servo-powered mechanical coupling part fluid coupling part disclosed fluid coupling part serf flywheel engine auxiliary starting motor rotates flywheel speed sufficient start internal combustion engine accelerator pedal depressed thereby closing mechanical coupling part connecting flywheel engine crankshaft accelerator pedal released mechanical coupling part open stop engine engine-braking phase thereby maximizing fuel conservation', 'utility model discloses kind special engine based coaxial parallel-connection plug-in hybrid passenger car including integrated structure engine power administrative unit engine intelligent control unit engine power administrative unit engine intelligent control unit connected entire car controller integrated structure includes engine flywheel shell engine integrated one automatic clutch shell stator permanent-magnet synchronous drive motor rigidly connected multi gear amt mechanical automatic gearbox housing input shaft rotor multi gear amt mechanical automatic gearbox permanent-magnet synchronous drive motor rigidly connected permanent-magnet synchronous drive motor rigidly connected automatic clutch housing input shaft permanent-magnet synchronous drive motor connected engine engine intelligent management system carry intelligent control according vehicle energy distribution condition throttle opening instantaneous distributive value engine etc realizes engine torque closed-loop control reach discharge oil consumption optimizes', 'connection device connecting first optical electric hybrid cable second optical electric hybrid cable disclosed first optical electric hybrid cable first power cable first fiber tube receiving fiber therein second optical electric hybrid cable second power cable second fiber tube receiving fiber therein connection device comprises fiber tube connector coupling first fiber tube second fiber tube power cable conne ctor electrically connecting first power cable second power cable fiber inserted first fiber tube second fiber tube first fiber tube second fiber tube coupled together optical connection two optical electric hybrid cable achieved convenient quick manner using fiber tube connector instead using fiber connection box fiber connector fiber adapter fiber-arranging tray fiber-coiling tray shrinkable tube etc therefore disclosed connection device simple structure', 'problem solved provide vehicle holding control device vehicle holding control method minimize power consumption motor solution vehicle holding control device includes oil pressure hill holding mean gradually release brake oil pressure holding detecting uphill state vehicle off-state brake pedal front motor rear motor supply driving force motor ecus control driving force motor includes engine ecu derives necessary vehicle holding power necessary preventing sliding vehicle uphill state based road surface gradient vehicle weight motor ecus supplement vehicle holding power run short torque front motor rear motor vehicle holding power decrease gradually release oil pressure oil pressure hill holding mean becomes le necessary vehicle holding force derived engine ecu', 'invention discloses coupling mechanism power assembly hybrid electric vehicle coupling mechanism comprises engine motor speed changer connected sequence wherein input shaft motor coupled output shaft engine gear ring arranged front end input shaft motor front end gear ring threaded front end output shaft engine output shaft engine input shaft motor helically driven back end input shaft motor spline connection back end gear ring opening sealing conveniently disassembling maintaining arranged outer shell motor cover invention front end gear ring output shaft engine kept threaded magnetic field coupling way adopted therefore achieving good smooth joint high coupling efficiency clutch arranged engine motor prior art eliminated therefore simplifying structure lightening weight coupling mechanism invention applied hybrid electric vehicle coupling mechanism power assembly', 'abstract disclosure power transmission apparatus disposed power transmission path output shaft internal combustion engine transmission vehicle provided rotating electrical machine including rotor stator rotor coupled synchronous rotating member rotates synchronously output shaft internal combustion engine take central axis output shaft internal combustion engine rotating shaft stator fixed fixing member non-rotating side respect synchronous rotating member face rotor first gap therebetween', 'phev power system control method thereof comprise following step parallel shaft type gearbox pure electric power part hybrid part vehicle control unit on-vehicle sensor link respectively wherein vehicle controller sends working instruction parallel shaft type gearbox pure electric power part hybrid power part according vehicle speed accelerator opening battery residual capacity information whole vehicle collected vehicle-mounted sensor determine working mode vehicle controller invention advantage compact arrangement structure lower cost parallel shaft type gearbox selection motor engine proper power dynamic property economical efficiency hybrid power system ensured controlling motor engine utilization rate engine whole life cycle vehicle improved', 'working machine comprising ground engaging structure first second axle mounting two wheel body supported ground engaging structure working arm mounted body drive arrangement moving ground engaging structure propel working machine drive arrangement including prime mover transmission transmission comprises hydraulic pump driven prime mover first high speed hydraulic motor drive first axle permit working machine drive relatively high speed first two-wheel drive operating mode second low speed motor first high speed hydraulic motor supplied hydraulic fluid hydraulic pump drive second axle relatively low speed configured driven conjunction first motor second four-wheel drive operating mode', 'invention discloses kind isg gently mix hybrid power system power-control method including first accumulator dc dc converter second accumulator engine ecu engine isg motor isg electric machine controller entire car controller increased income load simulation motor load simulation electric machine controller bi-directional power afe ac380v first accumulator isg electric machine controller isg motor powered isg electric machine controller control operating status isg motor operating status engine ecu control engine bi-directional power afe used power load simulation electric machine controller load simulation motor power output axis connection output shaft isg motor pass transmission device engine isg motor drive power output shaft rotate power output shaft input axis connection load simulation motor drive load simulation motor rotate configuration present invention simple little change former automobile chassis easier realize existing automobile', 'invention relates power synthesis transmission device belonging technical field mechanical transmission particular technical field power synthesis driving', 'dc60 hybrid vehicle include engine motor engine motor driving source first drive model vehicle driven using engine output second drive scheme vehicle driven based motor output caused engine stop working hybrid vehicle including next density sensing section air created detecting air tightness surroundings vehicle driven environment case sensed air density decrease compared standard air density motor output second driving scheme obtained reduction relation motor output standard air density provide thrust vehicle second driving pattern switching propulsion style approaching thrust vehicle first driving style hybrid vehicle include engine motor engine motor driving source first drive model vehicle driven using engine output second drive scheme vehicle driven based motor output caused engine stop working hybrid vehicle including next density sensing section air created detecting air tightness surroundings vehicle driven environment case sensed air density decrease compared standard air density motor output second driving scheme obtained reduction relation motor output standard air density provide thrust vehicle second driving pattern switching propulsion style approaching thrust vehicle first driving style', 'utility model discloses integrated range-extending power driving module based structural optimization comprises engine module integrated power module transmission system module integrated power module comprises generator motor transmission mounting method comprises step mounting generator mounting motor mounting transmission fixing integrated range-extended power driving module engine two-gear speed change met transmission power loss reduced space utilization rate improved overhauling maintenance convenient stress structure optimized available space saved stress stability whole structure met', 'fuel use limiter-equipped hybrid electric car battery unit chargeable external charger electric drive motor capable driving wheel electric power battery unit internal combustion engine driving generator supply electric power electric drive motor controller controlling operation electric drive motor internal combustion engine hybrid electric car provided fuel-use-state detector detecting change parameter change corresponds quantity fuel used internal combustion engine since charging battery unit external charger controller limit least one output electric drive motor internal combustion engine result detection fuel-use-state detector change parameter found reached predetermined value', 'method controlling powertrain includes executing shift determining plurality input acceleration profile controlling engine electric machine determining input speed profile controlling operation engine electric machine based upon input speed profile', 'present invention provides kind hybrid power system vehicle based double clutch speed-changings system includes engine motor first clutch second clutch speed changer input terminal first clutch output axis connection engine input terminal second clutch output axis connection engine speed changer includes first gear group input shaft second gear group input shaft output end first gear group input shaft first clutch connects output end second gear group input shaft second clutch connects motor connect second gear group input shaft first gear group speed changer odd number gear second gear group speed changer even number gear reverse gear shift motor connect second gear group input shaft motor highly integrated reduces complexity hybrid power system save cost operating mode system realized switch flexibly operating mode ensure adaptation operating condition various differentiation', 'hydraulic carrier energy recycling application system recycle abundant power low load engine recycle brake vibration energy vehicle high efficiency complete function regenerate mechanical energy via building one heat reflux circulation engine left heat reduce fuel consumption vehicle', 'invention relates vehicle drive train comprises least one first engine wheel wherein torque transmitted first engine wheel drive train wherein least one first unit drive train connected interface rapid simple replaceability said unit possible wherein interface designed connected second unit different first unit wherein unit designed store electricity convert chemically bound energy energy rotation convert electricity energy rotation convert rotation energy rotation electricity', 'problem solved provide motor drive controller hybrid vehicle capable concurrently achieving output characteristic motor within operating range assisting vehicle drive output characteristic motor starting internal combustion engine spite simple low-cost configuration thus achieving good output characteristic motor starting within wide operating range solution motor drive controller hybrid vehicle drive controller motor hybrid vehicle internal combustion engine motor drive source switch connecting state field winding 2c1-2c3 2c4-2c6 2c7-2c9 plurality motor provided phase u-phase v-phase w-phase serial connection parallel connection according operating state', 'dc60 machine control method hybrid vehicle control provided stuttering protection least negative effect lag fuel consumption requested one control engine start stop control shift control automatic transmission gear another control take place controller including engine motor generator first clutch automatic transmission unit integrated controller controller engine transmission coordination control requesting control two formed control one engine transmission coordination control initiate second control requested time condition make stimulation acceptable level initiate second control later schedule condition cause spasm acceptable level second control initiated requested time ocr page number page summary invention machine control method handling hybrid vehicle touted prevent stuttering least negative effect lag fuel consumption requested one control engine start stop control shift control automatic transmission gear another control take place controller including engine motor generator first clutch automatic transmission unit integrated controller controller engine transmission coordination control requesting control two formed control one engine transmission coordination control initiate second control time requested condition cause shock acceptable level begin mastering second control later time condition cause spasm acceptable level second control initiated time requested engine control method controlling hybrid vehicle provided anti-jerk least negative effect lag fuel consumption requested one control engine start stop control shift control automatic transmission unit another control take place controller including engine motor generator first clutch automatic transmission unit integrated controller controller engine power coordination control requesting control two formed control one engine transmission coordination control initiate second control requested time condition make stimulation acceptable level initiate second control later schedule condition cause spasm acceptable level second control initiated requested time', 'embodiment present disclosure relates system method enabling disabling hybrid mode operation portable electronic device system enabling disabling hybrid mode operation portable electronic device includes hybrid mode command receive module configured receive hybrid mode activation command comprising combination user issued hybrid mode activation command location based auto triggered hybrid mode activation command schedule based auto triggered hybrid mode activation command supervisor issued hybrid mode activation command hybrid mode activation module configured active hybrid mode operation portable electronic device per specified policy rule disabling one restricted functionality portable electronic device keeping essential functionality active receipt hybrid mode activation signal', 'battery powered automobile includes air operated turbine fed front side air scoop providing charging current battery driving power automobile auxiliary internal combustion engine included use necessary deceleration wind sensitive control operate door structure front air scoop open increasing drag predetermined condition braking energy utilized help charge battery', 'power transmitting apparatus hybrid electric vehicle includes input device including four input shaft disposed several input gear torque converting device including planetary gear set rotation element connected input shaft shifting output device shifting torque received input shaft outputting shifted torque', 'dc60 drive device hybrid vehicle consisting transmission mechanism connected engine transmits engine rotation fast-reverse mechanism connects transmission mechanism drive wheel switching device cl1 bk1 change speed transmission mechanism consists first rotary element connected transmission element transmission mechanism second rotating element connected rotating electrical machinery two mg2 drive wheel rotation transmission element transmission mechanism bounded switching device', 'problem solved provide driving device vehicle rotating electrical machine high speed operation combined various type engine transmission solution driving device vehicle includes engine outputting rotational power driving vehicle transmission input shaft a2 jointed output shaft a1 engine changing rotation speed input shaft a2 transmit output member rotating electrical machine rotational shaft axis different axis input shaft a2 transmission speed reducer reducing rotation speed rotational shaft rotating electrical machine transmit input shaft a2 transmission copyright c jpo inpit', 'problem solved improve fail-safe function comparing self-calculating result calculated result self-function carried device vehicular controller carrying self-control calculation control calculation controller solution overall control device calculation result cpu engine controller received interior communication circuit engine controller calculation result cpu overall controller received interior communication circuit data received interior communication circuit compared calculated result cpu data received interior communication circuit compared calculated result cpu overall controller calculation result compared comparison block result compared comparison block carried comparison calculation block case result matched judged either one controller damaged next process shifted fail-safe treatment', 'motor vehicle driven wheel driven electric motor fed via current controller generator coupled diesel engine exhaust duct diesel engine particle filter heated electrically via circuit breaker coupled electric lead arrangement driving motor purpose resistance heating element filter material particle filter regeneration filter preferably carried braking phase vehicle braking phase driving motor act generator electrical energy supplied serf heat particle filter drive generator motor-driven generator operates diesel engine fuel supply shut diesel engine thus operates compressor pumping fresh air particle filter via exhaust system', 'hydraulic coupling device particular hydraulic torque converter fluid coupling device casing device connected co-rotation drive shaft drive connection transmission device electric machine comprising rotor arrangement stator arrangement connected co-rotation casing arrangement drive system comprising casing device wherein stator device supported casing least regionally surrounding fluid connection considered cooling medium passage device provided region supporting stator device', 'module electric drive machine mechanism comprising electric machine rotor equipped cardan mechanism connected driven mean module according claim characterized electric machine reversible vehicle equipped least one module according claim claim cardan mechanism connected directly propulsion device vehicle vehicle according claim characterized equipped several module connected mover opposite side vehicle device power supply containing module according claim hydraulic turbine placed stream water shaft connected cardan mechanism specified module', 'periodic shutdown internal combustion engine', 'method starting internal combustion engine hybrid vehicle drive train comprising internal combustion engine main electric machine auxiliary electric machine starting gearbox wherein main electric machine via separating clutch internal combustion engine coupled auxiliary electric machine via coupling element internal combustion engine coupled wherein main electric machine provides drive torque characterized step first time t1 operating auxiliary electric machine exerts torque internal combustion engine via coupling element thereby increase speed internal combustion engine reaching start criterion internal combustion engine support starting process second point time t2 third point time t3 least partially closing separating clutch operating main electric machine way main electric machine substantially provides driving torque via starting element time torque via separating clutch internal combustion engine exercise', 'summary purpose objective improve mounting structure energy regeneration generator effectively accumulating traveling energy automobile improving regeneration effect structure electric vehicle run inertia without pressing accelerator pedal kinetic energy vehicle taken propeller shaft electric output stored battery generator energy used acceleration vehicle reproducing apparatus reproducing generator incorporated drive system automobile reproducing generator located rear transmission respect motor coaxially driving motor regenerative generator connected battery via rectifier control device rear portion shaft generator supported roller bearing fixed chassis connected propeller shaft universal joint rear end propeller shaft universal joint connecting rear wheel drive system rotor shaft generator used part drive shaft automobile', 'provide in-wheel motor installation all-wheel-drive vehicle power intermittent mean capable transmitting power motor wheel driving motor motor assist required solution all-wheel-drive vehicle power intermittent mean in-wheel motor supported spring lower part vehicle buffer mechanism viscous element elastic element motor wheel interconnected power transmission mechanism motor-side plate plate power transmission interconnected plurality cross guide coupling member power transmission mounted plate power transmission coupling member sandwiched brake disk roller disposed caliper 9a roller rotatable circumferential direction brake disk in-wheel motor driven motor assist required copyright c jpo amp ncipi', 'summary bulletin contains application data electronic filing abstract data recorded', 'invention discloses double-motor double-planet-row power-split longitudinally-arranged hybrid power transmission comprises shell auxiliary motor driving motor input shaft output shaft wherein one end input shaft connected engine auxiliary motor shaft auxiliary motor sleeved input shaft hollow manner driving motor shaft driving motor sleeved output shaft hollow way double-brake double-planet-row planetary gear train comprises driving motor auxiliary motor double brake wherein double planet row arranged driving motor auxiliary motor double brake comprises double-brake disc first double-brake driven disc second double-brake driven disc respectively arranged two side double-brake disc first double-brake driven disc fixedly arranged shaft auxiliary motor second double-brake driven disc fixedly connected left planet carrier invention following beneficial effect design auxiliary motor locking added auxiliary motor locked power flowing power generation branch circuit power division cut output power engine completely used driving vehicle', 'summary bulletin contains application data electronic filing abstract data recorded', 'invention relates oil-electric hybrid power quadricycle comprises frame carriage driver seat range extending device battery muffler oil tank controller wherein range extending device comprises generator engine clutch air duct arranged front driver seat range extending device arranged driver seat motor gasoline engine cylinder head controller right face air inlet range extending device arranged frame shock absorbing mount formed connecting upper supporting plate lower supporting plate middle rubber block oil tank arranged driver seat muffler comprises primary muffling tube secondary muffling tube flexible connector secondary muffling tube arranged frame hooking part battery arranged center carriage oil-electric hybrid power quadricycle good radiation small noise small shock provided range extending device simple structure facilitates reduction torsional vibration load power', 'control device electric vehicle present invention control mean switch conduction making following output reduction amount rotating electric machine stall state detected stall state detecting mean output increase amount another rotating electric machine stall state detected stall state detecting mean', 'vehicle least two driven axle powered gas turbine plant two separate take-off shaft one connected first driven axle mechanical gearing take-off shaft connected second driven axle way hydraulic transmission including constant volume pump motor two turbine shaft interconnected transmission preferably infinitely variable type adjustable guide vane provided inlet least one turbine rotor occasional distribution total load two rotor', 'hybrid power unit work machine includes engine energy storage device engine includes crankshaft driving load crankshaft attached energy storage device via clutch energy storage device charged engine store energy may used provide required boost engine performance clutch may engage disengage energy storage device engine control clutch pressure clutch protects crankshaft shock loading slip prevent over-torqueing crankshaft', 'dc60 hybrid vehicle including engine motor transmission mechanism gas station lubricate engine transmission mechanism rotation crankshaft oil pump oil pump shaft sprocket follows oil pump one end oil pump shaft one-way clutch chain plate oil pump end oil pump shaft one-way clutch trailing gear oil pump connected primary drive gear rotates unison follow-up gear motor transmitting motor power drive wheel chain plate oil pump connected engine cam chain order rotated engine power motor trail gear positioned one side crankshaft cam chain positioned one side crankshaft revised invention summary hybrid vehicle including engine motor transmission mechanism gas station lubricate engine transmission mechanism rotation crankshaft oil pump oil pump shaft sprocket follows oil pump one end oil pump shaft one-way clutch chain plate oil pump end oil pump shaft one-way clutch trailing gear oil pump connected primary drive gear rotates unison follow-up gear motor transmission motor power chain wheel drive wheel oil pump get connected engine cam chain order rotated engine power motor trail gear positioned one side crankshaft cam chain positioned one side crankshaft chapter editor invention summary provide hybrid vehicle le transverse overhang especially hybrid vehicle eliminate one-sided extension crankshaft hybrid vehicle consist engine motor transmission mechanism transmission engine motor wr drive wheel oil pump lubrication engine transmission mechanism rotation crankshaft oil pump oil pump shaft provided fuel pump one end fuel pump shaft mean one-way clutch chain plate following oil pump end fuel pump shaft mean one-way clutch oil pump connected primary driving gear rotating one piece respective gear motor transmission motor wr drive wheel made rotated motor power track chain oil pump connected cam chain engine rotated engine power well follow gear motor aligned one side crankshaft cam chain arranged side crankshaft provide hybrid vehicle le transverse overhang hybrid vehicle eliminating one-sided protrusion crankshaft hybrid vehicle consist engine motor transmission mechanism transmission engine motor wr drive wheel oil pump lubrication engine transmission mechanism rotation crankshaft oil pump oil pump shaft provided gear along oil pump one end oil pump shaft one way clutch chain plate end oil pump shaft way clutch single sprocket oil pump connected primary drive gear rotates way motor transmission motor wr drive wheel rotated go motor power chain plate according oil pump connected cam chain engine rotated engine power well follow gear motor provided placed one side crankshaft cam chain arranged side crankshaft', 'conventional mechanical system efficiency le one output input ratio le one irrespective system used output always le input however loss like heat friction sound etc minimized accepted norm system area far conventional mechanical system output input ratio term force torque speed velocity power energy le one irrespective system used present innovation specially designed mechanically multi-folded energy amplifier device given input like force torque speed velocity power energy input side get amplified time put side input supplied directly planetary gear fixing sun gear ring gear leading output-input ratio one device system consists prime mover sprocket chain gear planetary gear v pulley belt spline assembled specific way make transmission travel centre device tangentially periphery ring gear tangentially periphery centre device get time till mechanical limitation application kind system lead considerable saving energy gaining energy time given input method setup introduce series get output energy extract till mechanical limitation system device', 'hybrid powertrain engine start control apparatus comprising', 'switching unit coupling auxiliary unit drive train motor vehicle input shaft section drive connection drive train output shaft section drive connection auxiliary unit planetary gear translating drive speed input shaft section output shaft section input speed first switching state switching unit first transmission ratio second switching state switching unit second transmission ratio different first transmission ratio input shaft section via planetary gear output shaft section transferrable proposed speed-dependent switching arrangement wherein switching arrangement formed switching unit depending drive speed automatically switch first switching state second switching state', 'abstract power transmission apparatus vehicle power transmitting apparatus may include electric supplementary drive unit torque converting device first second third rotation element wherein first rotation element connected electric supplementary drive unit second rotation element connected engine third rotation element operated output element first input shaft directly connected second rotation element second input shaft directly connected third rotation element direct coupling device selectively connecting two rotation element among first second third rotation element first speed output unit first second synchronizer module second speed output unit third fourth synchronizer module reverse speed device idle gear engaging one input gear first second input shaft abstract power transmission apparatus vehicle power transmitting apparatus may include electric supplementary drive unit torque converting device first second third rotation element wherein first rotation element connected electric supplementary drive unit second rotation element connected engine third rotation element operated output element first input shaft directly connected second rotation element second input shaft directly connected third rotation element direct coupling device selectively connecting two rotation element among first second third rotation element first speed output unit first second synchronizer module second speed output unit third fourth synchronizer module reverse speed device idle gear engaging one input gear first second input shaft']\n"
     ]
    }
   ],
   "source": [
    "print(texts)"
   ]
  },
  {
   "cell_type": "code",
   "execution_count": 15,
   "metadata": {},
   "outputs": [],
   "source": [
    "topic_model = BERTopic()\n"
   ]
  },
  {
   "cell_type": "code",
   "execution_count": 16,
   "metadata": {},
   "outputs": [],
   "source": [
    "topics, probs = topic_model.fit_transform(texts)"
   ]
  },
  {
   "cell_type": "code",
   "execution_count": 17,
   "metadata": {},
   "outputs": [
    {
     "data": {
      "text/html": [
       "<div>\n",
       "<style scoped>\n",
       "    .dataframe tbody tr th:only-of-type {\n",
       "        vertical-align: middle;\n",
       "    }\n",
       "\n",
       "    .dataframe tbody tr th {\n",
       "        vertical-align: top;\n",
       "    }\n",
       "\n",
       "    .dataframe thead th {\n",
       "        text-align: right;\n",
       "    }\n",
       "</style>\n",
       "<table border=\"1\" class=\"dataframe\">\n",
       "  <thead>\n",
       "    <tr style=\"text-align: right;\">\n",
       "      <th></th>\n",
       "      <th>Topic</th>\n",
       "      <th>Count</th>\n",
       "      <th>Name</th>\n",
       "      <th>Representation</th>\n",
       "      <th>Representative_Docs</th>\n",
       "    </tr>\n",
       "  </thead>\n",
       "  <tbody>\n",
       "    <tr>\n",
       "      <th>0</th>\n",
       "      <td>-1</td>\n",
       "      <td>17</td>\n",
       "      <td>-1_the_of_and_is</td>\n",
       "      <td>[the, of, and, is, to, pump, control, in, moto...</td>\n",
       "      <td>[ DC60 (18/01/56) machines and control methods...</td>\n",
       "    </tr>\n",
       "    <tr>\n",
       "      <th>1</th>\n",
       "      <td>0</td>\n",
       "      <td>20</td>\n",
       "      <td>0_the_and_of_engine</td>\n",
       "      <td>[the, and, of, engine, an, is, motor, hybrid, ...</td>\n",
       "      <td>[The present invention provides a kind of hybr...</td>\n",
       "    </tr>\n",
       "    <tr>\n",
       "      <th>2</th>\n",
       "      <td>1</td>\n",
       "      <td>13</td>\n",
       "      <td>1_the_to_and_is</td>\n",
       "      <td>[the, to, and, is, of, first, drive, an, rotat...</td>\n",
       "      <td>[In any conventional Mechanical system the eff...</td>\n",
       "    </tr>\n",
       "  </tbody>\n",
       "</table>\n",
       "</div>"
      ],
      "text/plain": [
       "   Topic  Count                 Name  \\\n",
       "0     -1     17     -1_the_of_and_is   \n",
       "1      0     20  0_the_and_of_engine   \n",
       "2      1     13      1_the_to_and_is   \n",
       "\n",
       "                                      Representation  \\\n",
       "0  [the, of, and, is, to, pump, control, in, moto...   \n",
       "1  [the, and, of, engine, an, is, motor, hybrid, ...   \n",
       "2  [the, to, and, is, of, first, drive, an, rotat...   \n",
       "\n",
       "                                 Representative_Docs  \n",
       "0  [ DC60 (18/01/56) machines and control methods...  \n",
       "1  [The present invention provides a kind of hybr...  \n",
       "2  [In any conventional Mechanical system the eff...  "
      ]
     },
     "execution_count": 17,
     "metadata": {},
     "output_type": "execute_result"
    }
   ],
   "source": [
    "topic_model.get_topic_info()"
   ]
  },
  {
   "cell_type": "code",
   "execution_count": 18,
   "metadata": {},
   "outputs": [
    {
     "data": {
      "text/plain": [
       "[('the', 0.1551150799504515),\n",
       " ('of', 0.09203414000189035),\n",
       " ('and', 0.08073170175604417),\n",
       " ('is', 0.06405463982929228),\n",
       " ('to', 0.05747448593215287),\n",
       " ('pump', 0.05116769220501957),\n",
       " ('control', 0.049743137240816145),\n",
       " ('in', 0.04918926860514488),\n",
       " ('motor', 0.0484764190545773),\n",
       " ('engine', 0.04776439995574026)]"
      ]
     },
     "execution_count": 18,
     "metadata": {},
     "output_type": "execute_result"
    }
   ],
   "source": [
    " topic_model.get_topic(-1)"
   ]
  },
  {
   "cell_type": "code",
   "execution_count": 20,
   "metadata": {},
   "outputs": [
    {
     "data": {
      "application/vnd.plotly.v1+json": {
       "config": {
        "plotlyServerURL": "https://plot.ly"
       },
       "data": [
        {
         "marker": {
          "color": "#D55E00"
         },
         "orientation": "h",
         "type": "bar",
         "x": [
          0.044994547030789915,
          0.04503648407258449,
          0.046961416768160645,
          0.05779480259589498,
          0.06330717762986267,
          0.06422005931102123,
          0.07304284340697192,
          0.09743343693879403,
          0.10174465096263445,
          0.14065129979564062
         ],
         "xaxis": "x",
         "y": [
          "electric  ",
          "power  ",
          "hybrid  ",
          "motor  ",
          "is  ",
          "an  ",
          "engine  ",
          "of  ",
          "and  ",
          "the  "
         ],
         "yaxis": "y"
        },
        {
         "marker": {
          "color": "#0072B2"
         },
         "orientation": "h",
         "type": "bar",
         "x": [
          0.05108498571365896,
          0.052429936095854404,
          0.05332080789172458,
          0.05528063680269943,
          0.05654986291667629,
          0.06572010957329476,
          0.07062074305053533,
          0.0766734611688439,
          0.10686019854016332,
          0.14359828679559128
         ],
         "xaxis": "x2",
         "y": [
          "shaft  ",
          "rotation  ",
          "an  ",
          "drive  ",
          "first  ",
          "of  ",
          "is  ",
          "and  ",
          "to  ",
          "the  "
         ],
         "yaxis": "y2"
        }
       ],
       "layout": {
        "annotations": [
         {
          "font": {
           "size": 16
          },
          "showarrow": false,
          "text": "Topic 0",
          "x": 0.0875,
          "xanchor": "center",
          "xref": "paper",
          "y": 1,
          "yanchor": "bottom",
          "yref": "paper"
         },
         {
          "font": {
           "size": 16
          },
          "showarrow": false,
          "text": "Topic 1",
          "x": 0.36250000000000004,
          "xanchor": "center",
          "xref": "paper",
          "y": 1,
          "yanchor": "bottom",
          "yref": "paper"
         }
        ],
        "height": 325,
        "hoverlabel": {
         "bgcolor": "white",
         "font": {
          "family": "Rockwell",
          "size": 16
         }
        },
        "showlegend": false,
        "template": {
         "data": {
          "bar": [
           {
            "error_x": {
             "color": "#2a3f5f"
            },
            "error_y": {
             "color": "#2a3f5f"
            },
            "marker": {
             "line": {
              "color": "white",
              "width": 0.5
             },
             "pattern": {
              "fillmode": "overlay",
              "size": 10,
              "solidity": 0.2
             }
            },
            "type": "bar"
           }
          ],
          "barpolar": [
           {
            "marker": {
             "line": {
              "color": "white",
              "width": 0.5
             },
             "pattern": {
              "fillmode": "overlay",
              "size": 10,
              "solidity": 0.2
             }
            },
            "type": "barpolar"
           }
          ],
          "carpet": [
           {
            "aaxis": {
             "endlinecolor": "#2a3f5f",
             "gridcolor": "#C8D4E3",
             "linecolor": "#C8D4E3",
             "minorgridcolor": "#C8D4E3",
             "startlinecolor": "#2a3f5f"
            },
            "baxis": {
             "endlinecolor": "#2a3f5f",
             "gridcolor": "#C8D4E3",
             "linecolor": "#C8D4E3",
             "minorgridcolor": "#C8D4E3",
             "startlinecolor": "#2a3f5f"
            },
            "type": "carpet"
           }
          ],
          "choropleth": [
           {
            "colorbar": {
             "outlinewidth": 0,
             "ticks": ""
            },
            "type": "choropleth"
           }
          ],
          "contour": [
           {
            "colorbar": {
             "outlinewidth": 0,
             "ticks": ""
            },
            "colorscale": [
             [
              0,
              "#0d0887"
             ],
             [
              0.1111111111111111,
              "#46039f"
             ],
             [
              0.2222222222222222,
              "#7201a8"
             ],
             [
              0.3333333333333333,
              "#9c179e"
             ],
             [
              0.4444444444444444,
              "#bd3786"
             ],
             [
              0.5555555555555556,
              "#d8576b"
             ],
             [
              0.6666666666666666,
              "#ed7953"
             ],
             [
              0.7777777777777778,
              "#fb9f3a"
             ],
             [
              0.8888888888888888,
              "#fdca26"
             ],
             [
              1,
              "#f0f921"
             ]
            ],
            "type": "contour"
           }
          ],
          "contourcarpet": [
           {
            "colorbar": {
             "outlinewidth": 0,
             "ticks": ""
            },
            "type": "contourcarpet"
           }
          ],
          "heatmap": [
           {
            "colorbar": {
             "outlinewidth": 0,
             "ticks": ""
            },
            "colorscale": [
             [
              0,
              "#0d0887"
             ],
             [
              0.1111111111111111,
              "#46039f"
             ],
             [
              0.2222222222222222,
              "#7201a8"
             ],
             [
              0.3333333333333333,
              "#9c179e"
             ],
             [
              0.4444444444444444,
              "#bd3786"
             ],
             [
              0.5555555555555556,
              "#d8576b"
             ],
             [
              0.6666666666666666,
              "#ed7953"
             ],
             [
              0.7777777777777778,
              "#fb9f3a"
             ],
             [
              0.8888888888888888,
              "#fdca26"
             ],
             [
              1,
              "#f0f921"
             ]
            ],
            "type": "heatmap"
           }
          ],
          "heatmapgl": [
           {
            "colorbar": {
             "outlinewidth": 0,
             "ticks": ""
            },
            "colorscale": [
             [
              0,
              "#0d0887"
             ],
             [
              0.1111111111111111,
              "#46039f"
             ],
             [
              0.2222222222222222,
              "#7201a8"
             ],
             [
              0.3333333333333333,
              "#9c179e"
             ],
             [
              0.4444444444444444,
              "#bd3786"
             ],
             [
              0.5555555555555556,
              "#d8576b"
             ],
             [
              0.6666666666666666,
              "#ed7953"
             ],
             [
              0.7777777777777778,
              "#fb9f3a"
             ],
             [
              0.8888888888888888,
              "#fdca26"
             ],
             [
              1,
              "#f0f921"
             ]
            ],
            "type": "heatmapgl"
           }
          ],
          "histogram": [
           {
            "marker": {
             "pattern": {
              "fillmode": "overlay",
              "size": 10,
              "solidity": 0.2
             }
            },
            "type": "histogram"
           }
          ],
          "histogram2d": [
           {
            "colorbar": {
             "outlinewidth": 0,
             "ticks": ""
            },
            "colorscale": [
             [
              0,
              "#0d0887"
             ],
             [
              0.1111111111111111,
              "#46039f"
             ],
             [
              0.2222222222222222,
              "#7201a8"
             ],
             [
              0.3333333333333333,
              "#9c179e"
             ],
             [
              0.4444444444444444,
              "#bd3786"
             ],
             [
              0.5555555555555556,
              "#d8576b"
             ],
             [
              0.6666666666666666,
              "#ed7953"
             ],
             [
              0.7777777777777778,
              "#fb9f3a"
             ],
             [
              0.8888888888888888,
              "#fdca26"
             ],
             [
              1,
              "#f0f921"
             ]
            ],
            "type": "histogram2d"
           }
          ],
          "histogram2dcontour": [
           {
            "colorbar": {
             "outlinewidth": 0,
             "ticks": ""
            },
            "colorscale": [
             [
              0,
              "#0d0887"
             ],
             [
              0.1111111111111111,
              "#46039f"
             ],
             [
              0.2222222222222222,
              "#7201a8"
             ],
             [
              0.3333333333333333,
              "#9c179e"
             ],
             [
              0.4444444444444444,
              "#bd3786"
             ],
             [
              0.5555555555555556,
              "#d8576b"
             ],
             [
              0.6666666666666666,
              "#ed7953"
             ],
             [
              0.7777777777777778,
              "#fb9f3a"
             ],
             [
              0.8888888888888888,
              "#fdca26"
             ],
             [
              1,
              "#f0f921"
             ]
            ],
            "type": "histogram2dcontour"
           }
          ],
          "mesh3d": [
           {
            "colorbar": {
             "outlinewidth": 0,
             "ticks": ""
            },
            "type": "mesh3d"
           }
          ],
          "parcoords": [
           {
            "line": {
             "colorbar": {
              "outlinewidth": 0,
              "ticks": ""
             }
            },
            "type": "parcoords"
           }
          ],
          "pie": [
           {
            "automargin": true,
            "type": "pie"
           }
          ],
          "scatter": [
           {
            "fillpattern": {
             "fillmode": "overlay",
             "size": 10,
             "solidity": 0.2
            },
            "type": "scatter"
           }
          ],
          "scatter3d": [
           {
            "line": {
             "colorbar": {
              "outlinewidth": 0,
              "ticks": ""
             }
            },
            "marker": {
             "colorbar": {
              "outlinewidth": 0,
              "ticks": ""
             }
            },
            "type": "scatter3d"
           }
          ],
          "scattercarpet": [
           {
            "marker": {
             "colorbar": {
              "outlinewidth": 0,
              "ticks": ""
             }
            },
            "type": "scattercarpet"
           }
          ],
          "scattergeo": [
           {
            "marker": {
             "colorbar": {
              "outlinewidth": 0,
              "ticks": ""
             }
            },
            "type": "scattergeo"
           }
          ],
          "scattergl": [
           {
            "marker": {
             "colorbar": {
              "outlinewidth": 0,
              "ticks": ""
             }
            },
            "type": "scattergl"
           }
          ],
          "scattermapbox": [
           {
            "marker": {
             "colorbar": {
              "outlinewidth": 0,
              "ticks": ""
             }
            },
            "type": "scattermapbox"
           }
          ],
          "scatterpolar": [
           {
            "marker": {
             "colorbar": {
              "outlinewidth": 0,
              "ticks": ""
             }
            },
            "type": "scatterpolar"
           }
          ],
          "scatterpolargl": [
           {
            "marker": {
             "colorbar": {
              "outlinewidth": 0,
              "ticks": ""
             }
            },
            "type": "scatterpolargl"
           }
          ],
          "scatterternary": [
           {
            "marker": {
             "colorbar": {
              "outlinewidth": 0,
              "ticks": ""
             }
            },
            "type": "scatterternary"
           }
          ],
          "surface": [
           {
            "colorbar": {
             "outlinewidth": 0,
             "ticks": ""
            },
            "colorscale": [
             [
              0,
              "#0d0887"
             ],
             [
              0.1111111111111111,
              "#46039f"
             ],
             [
              0.2222222222222222,
              "#7201a8"
             ],
             [
              0.3333333333333333,
              "#9c179e"
             ],
             [
              0.4444444444444444,
              "#bd3786"
             ],
             [
              0.5555555555555556,
              "#d8576b"
             ],
             [
              0.6666666666666666,
              "#ed7953"
             ],
             [
              0.7777777777777778,
              "#fb9f3a"
             ],
             [
              0.8888888888888888,
              "#fdca26"
             ],
             [
              1,
              "#f0f921"
             ]
            ],
            "type": "surface"
           }
          ],
          "table": [
           {
            "cells": {
             "fill": {
              "color": "#EBF0F8"
             },
             "line": {
              "color": "white"
             }
            },
            "header": {
             "fill": {
              "color": "#C8D4E3"
             },
             "line": {
              "color": "white"
             }
            },
            "type": "table"
           }
          ]
         },
         "layout": {
          "annotationdefaults": {
           "arrowcolor": "#2a3f5f",
           "arrowhead": 0,
           "arrowwidth": 1
          },
          "autotypenumbers": "strict",
          "coloraxis": {
           "colorbar": {
            "outlinewidth": 0,
            "ticks": ""
           }
          },
          "colorscale": {
           "diverging": [
            [
             0,
             "#8e0152"
            ],
            [
             0.1,
             "#c51b7d"
            ],
            [
             0.2,
             "#de77ae"
            ],
            [
             0.3,
             "#f1b6da"
            ],
            [
             0.4,
             "#fde0ef"
            ],
            [
             0.5,
             "#f7f7f7"
            ],
            [
             0.6,
             "#e6f5d0"
            ],
            [
             0.7,
             "#b8e186"
            ],
            [
             0.8,
             "#7fbc41"
            ],
            [
             0.9,
             "#4d9221"
            ],
            [
             1,
             "#276419"
            ]
           ],
           "sequential": [
            [
             0,
             "#0d0887"
            ],
            [
             0.1111111111111111,
             "#46039f"
            ],
            [
             0.2222222222222222,
             "#7201a8"
            ],
            [
             0.3333333333333333,
             "#9c179e"
            ],
            [
             0.4444444444444444,
             "#bd3786"
            ],
            [
             0.5555555555555556,
             "#d8576b"
            ],
            [
             0.6666666666666666,
             "#ed7953"
            ],
            [
             0.7777777777777778,
             "#fb9f3a"
            ],
            [
             0.8888888888888888,
             "#fdca26"
            ],
            [
             1,
             "#f0f921"
            ]
           ],
           "sequentialminus": [
            [
             0,
             "#0d0887"
            ],
            [
             0.1111111111111111,
             "#46039f"
            ],
            [
             0.2222222222222222,
             "#7201a8"
            ],
            [
             0.3333333333333333,
             "#9c179e"
            ],
            [
             0.4444444444444444,
             "#bd3786"
            ],
            [
             0.5555555555555556,
             "#d8576b"
            ],
            [
             0.6666666666666666,
             "#ed7953"
            ],
            [
             0.7777777777777778,
             "#fb9f3a"
            ],
            [
             0.8888888888888888,
             "#fdca26"
            ],
            [
             1,
             "#f0f921"
            ]
           ]
          },
          "colorway": [
           "#636efa",
           "#EF553B",
           "#00cc96",
           "#ab63fa",
           "#FFA15A",
           "#19d3f3",
           "#FF6692",
           "#B6E880",
           "#FF97FF",
           "#FECB52"
          ],
          "font": {
           "color": "#2a3f5f"
          },
          "geo": {
           "bgcolor": "white",
           "lakecolor": "white",
           "landcolor": "white",
           "showlakes": true,
           "showland": true,
           "subunitcolor": "#C8D4E3"
          },
          "hoverlabel": {
           "align": "left"
          },
          "hovermode": "closest",
          "mapbox": {
           "style": "light"
          },
          "paper_bgcolor": "white",
          "plot_bgcolor": "white",
          "polar": {
           "angularaxis": {
            "gridcolor": "#EBF0F8",
            "linecolor": "#EBF0F8",
            "ticks": ""
           },
           "bgcolor": "white",
           "radialaxis": {
            "gridcolor": "#EBF0F8",
            "linecolor": "#EBF0F8",
            "ticks": ""
           }
          },
          "scene": {
           "xaxis": {
            "backgroundcolor": "white",
            "gridcolor": "#DFE8F3",
            "gridwidth": 2,
            "linecolor": "#EBF0F8",
            "showbackground": true,
            "ticks": "",
            "zerolinecolor": "#EBF0F8"
           },
           "yaxis": {
            "backgroundcolor": "white",
            "gridcolor": "#DFE8F3",
            "gridwidth": 2,
            "linecolor": "#EBF0F8",
            "showbackground": true,
            "ticks": "",
            "zerolinecolor": "#EBF0F8"
           },
           "zaxis": {
            "backgroundcolor": "white",
            "gridcolor": "#DFE8F3",
            "gridwidth": 2,
            "linecolor": "#EBF0F8",
            "showbackground": true,
            "ticks": "",
            "zerolinecolor": "#EBF0F8"
           }
          },
          "shapedefaults": {
           "line": {
            "color": "#2a3f5f"
           }
          },
          "ternary": {
           "aaxis": {
            "gridcolor": "#DFE8F3",
            "linecolor": "#A2B1C6",
            "ticks": ""
           },
           "baxis": {
            "gridcolor": "#DFE8F3",
            "linecolor": "#A2B1C6",
            "ticks": ""
           },
           "bgcolor": "white",
           "caxis": {
            "gridcolor": "#DFE8F3",
            "linecolor": "#A2B1C6",
            "ticks": ""
           }
          },
          "title": {
           "x": 0.05
          },
          "xaxis": {
           "automargin": true,
           "gridcolor": "#EBF0F8",
           "linecolor": "#EBF0F8",
           "ticks": "",
           "title": {
            "standoff": 15
           },
           "zerolinecolor": "#EBF0F8",
           "zerolinewidth": 2
          },
          "yaxis": {
           "automargin": true,
           "gridcolor": "#EBF0F8",
           "linecolor": "#EBF0F8",
           "ticks": "",
           "title": {
            "standoff": 15
           },
           "zerolinecolor": "#EBF0F8",
           "zerolinewidth": 2
          }
         }
        },
        "title": {
         "font": {
          "color": "Black",
          "size": 22
         },
         "text": "Topic Word Scores",
         "x": 0.5,
         "xanchor": "center",
         "yanchor": "top"
        },
        "width": 1000,
        "xaxis": {
         "anchor": "y",
         "domain": [
          0,
          0.175
         ],
         "showgrid": true
        },
        "xaxis2": {
         "anchor": "y2",
         "domain": [
          0.275,
          0.45
         ],
         "showgrid": true
        },
        "xaxis3": {
         "anchor": "y3",
         "domain": [
          0.55,
          0.7250000000000001
         ],
         "showgrid": true
        },
        "xaxis4": {
         "anchor": "y4",
         "domain": [
          0.825,
          1
         ],
         "showgrid": true
        },
        "yaxis": {
         "anchor": "x",
         "domain": [
          0,
          1
         ],
         "showgrid": true
        },
        "yaxis2": {
         "anchor": "x2",
         "domain": [
          0,
          1
         ],
         "showgrid": true
        },
        "yaxis3": {
         "anchor": "x3",
         "domain": [
          0,
          1
         ],
         "showgrid": true
        },
        "yaxis4": {
         "anchor": "x4",
         "domain": [
          0,
          1
         ],
         "showgrid": true
        }
       }
      }
     },
     "metadata": {},
     "output_type": "display_data"
    }
   ],
   "source": [
    "topic_model.visualize_barchart(n_words=10)"
   ]
  },
  {
   "cell_type": "code",
   "execution_count": 25,
   "metadata": {},
   "outputs": [
    {
     "data": {
      "application/vnd.plotly.v1+json": {
       "config": {
        "plotlyServerURL": "https://plot.ly"
       },
       "data": [
        {
         "coloraxis": "coloraxis",
         "hovertemplate": "x: %{x}<br>y: %{y}<br>Similarity Score: %{z}<extra></extra>",
         "name": "0",
         "type": "heatmap",
         "x": [
          "0_the_and_of",
          "1_the_to_and"
         ],
         "xaxis": "x",
         "y": [
          "0_the_and_of",
          "1_the_to_and"
         ],
         "yaxis": "y",
         "z": [
          [
           0.9999995827674866,
           0.7661330103874207
          ],
          [
           0.7661330103874207,
           0.9999998211860657
          ]
         ]
        }
       ],
       "layout": {
        "coloraxis": {
         "colorbar": {
          "title": {
           "text": "Similarity Score"
          }
         },
         "colorscale": [
          [
           0,
           "rgb(247,252,240)"
          ],
          [
           0.125,
           "rgb(224,243,219)"
          ],
          [
           0.25,
           "rgb(204,235,197)"
          ],
          [
           0.375,
           "rgb(168,221,181)"
          ],
          [
           0.5,
           "rgb(123,204,196)"
          ],
          [
           0.625,
           "rgb(78,179,211)"
          ],
          [
           0.75,
           "rgb(43,140,190)"
          ],
          [
           0.875,
           "rgb(8,104,172)"
          ],
          [
           1,
           "rgb(8,64,129)"
          ]
         ]
        },
        "height": 800,
        "hoverlabel": {
         "bgcolor": "white",
         "font": {
          "family": "Rockwell",
          "size": 16
         }
        },
        "legend": {
         "title": {
          "text": "Trend"
         }
        },
        "margin": {
         "t": 60
        },
        "showlegend": true,
        "template": {
         "data": {
          "bar": [
           {
            "error_x": {
             "color": "#2a3f5f"
            },
            "error_y": {
             "color": "#2a3f5f"
            },
            "marker": {
             "line": {
              "color": "#E5ECF6",
              "width": 0.5
             },
             "pattern": {
              "fillmode": "overlay",
              "size": 10,
              "solidity": 0.2
             }
            },
            "type": "bar"
           }
          ],
          "barpolar": [
           {
            "marker": {
             "line": {
              "color": "#E5ECF6",
              "width": 0.5
             },
             "pattern": {
              "fillmode": "overlay",
              "size": 10,
              "solidity": 0.2
             }
            },
            "type": "barpolar"
           }
          ],
          "carpet": [
           {
            "aaxis": {
             "endlinecolor": "#2a3f5f",
             "gridcolor": "white",
             "linecolor": "white",
             "minorgridcolor": "white",
             "startlinecolor": "#2a3f5f"
            },
            "baxis": {
             "endlinecolor": "#2a3f5f",
             "gridcolor": "white",
             "linecolor": "white",
             "minorgridcolor": "white",
             "startlinecolor": "#2a3f5f"
            },
            "type": "carpet"
           }
          ],
          "choropleth": [
           {
            "colorbar": {
             "outlinewidth": 0,
             "ticks": ""
            },
            "type": "choropleth"
           }
          ],
          "contour": [
           {
            "colorbar": {
             "outlinewidth": 0,
             "ticks": ""
            },
            "colorscale": [
             [
              0,
              "#0d0887"
             ],
             [
              0.1111111111111111,
              "#46039f"
             ],
             [
              0.2222222222222222,
              "#7201a8"
             ],
             [
              0.3333333333333333,
              "#9c179e"
             ],
             [
              0.4444444444444444,
              "#bd3786"
             ],
             [
              0.5555555555555556,
              "#d8576b"
             ],
             [
              0.6666666666666666,
              "#ed7953"
             ],
             [
              0.7777777777777778,
              "#fb9f3a"
             ],
             [
              0.8888888888888888,
              "#fdca26"
             ],
             [
              1,
              "#f0f921"
             ]
            ],
            "type": "contour"
           }
          ],
          "contourcarpet": [
           {
            "colorbar": {
             "outlinewidth": 0,
             "ticks": ""
            },
            "type": "contourcarpet"
           }
          ],
          "heatmap": [
           {
            "colorbar": {
             "outlinewidth": 0,
             "ticks": ""
            },
            "colorscale": [
             [
              0,
              "#0d0887"
             ],
             [
              0.1111111111111111,
              "#46039f"
             ],
             [
              0.2222222222222222,
              "#7201a8"
             ],
             [
              0.3333333333333333,
              "#9c179e"
             ],
             [
              0.4444444444444444,
              "#bd3786"
             ],
             [
              0.5555555555555556,
              "#d8576b"
             ],
             [
              0.6666666666666666,
              "#ed7953"
             ],
             [
              0.7777777777777778,
              "#fb9f3a"
             ],
             [
              0.8888888888888888,
              "#fdca26"
             ],
             [
              1,
              "#f0f921"
             ]
            ],
            "type": "heatmap"
           }
          ],
          "heatmapgl": [
           {
            "colorbar": {
             "outlinewidth": 0,
             "ticks": ""
            },
            "colorscale": [
             [
              0,
              "#0d0887"
             ],
             [
              0.1111111111111111,
              "#46039f"
             ],
             [
              0.2222222222222222,
              "#7201a8"
             ],
             [
              0.3333333333333333,
              "#9c179e"
             ],
             [
              0.4444444444444444,
              "#bd3786"
             ],
             [
              0.5555555555555556,
              "#d8576b"
             ],
             [
              0.6666666666666666,
              "#ed7953"
             ],
             [
              0.7777777777777778,
              "#fb9f3a"
             ],
             [
              0.8888888888888888,
              "#fdca26"
             ],
             [
              1,
              "#f0f921"
             ]
            ],
            "type": "heatmapgl"
           }
          ],
          "histogram": [
           {
            "marker": {
             "pattern": {
              "fillmode": "overlay",
              "size": 10,
              "solidity": 0.2
             }
            },
            "type": "histogram"
           }
          ],
          "histogram2d": [
           {
            "colorbar": {
             "outlinewidth": 0,
             "ticks": ""
            },
            "colorscale": [
             [
              0,
              "#0d0887"
             ],
             [
              0.1111111111111111,
              "#46039f"
             ],
             [
              0.2222222222222222,
              "#7201a8"
             ],
             [
              0.3333333333333333,
              "#9c179e"
             ],
             [
              0.4444444444444444,
              "#bd3786"
             ],
             [
              0.5555555555555556,
              "#d8576b"
             ],
             [
              0.6666666666666666,
              "#ed7953"
             ],
             [
              0.7777777777777778,
              "#fb9f3a"
             ],
             [
              0.8888888888888888,
              "#fdca26"
             ],
             [
              1,
              "#f0f921"
             ]
            ],
            "type": "histogram2d"
           }
          ],
          "histogram2dcontour": [
           {
            "colorbar": {
             "outlinewidth": 0,
             "ticks": ""
            },
            "colorscale": [
             [
              0,
              "#0d0887"
             ],
             [
              0.1111111111111111,
              "#46039f"
             ],
             [
              0.2222222222222222,
              "#7201a8"
             ],
             [
              0.3333333333333333,
              "#9c179e"
             ],
             [
              0.4444444444444444,
              "#bd3786"
             ],
             [
              0.5555555555555556,
              "#d8576b"
             ],
             [
              0.6666666666666666,
              "#ed7953"
             ],
             [
              0.7777777777777778,
              "#fb9f3a"
             ],
             [
              0.8888888888888888,
              "#fdca26"
             ],
             [
              1,
              "#f0f921"
             ]
            ],
            "type": "histogram2dcontour"
           }
          ],
          "mesh3d": [
           {
            "colorbar": {
             "outlinewidth": 0,
             "ticks": ""
            },
            "type": "mesh3d"
           }
          ],
          "parcoords": [
           {
            "line": {
             "colorbar": {
              "outlinewidth": 0,
              "ticks": ""
             }
            },
            "type": "parcoords"
           }
          ],
          "pie": [
           {
            "automargin": true,
            "type": "pie"
           }
          ],
          "scatter": [
           {
            "fillpattern": {
             "fillmode": "overlay",
             "size": 10,
             "solidity": 0.2
            },
            "type": "scatter"
           }
          ],
          "scatter3d": [
           {
            "line": {
             "colorbar": {
              "outlinewidth": 0,
              "ticks": ""
             }
            },
            "marker": {
             "colorbar": {
              "outlinewidth": 0,
              "ticks": ""
             }
            },
            "type": "scatter3d"
           }
          ],
          "scattercarpet": [
           {
            "marker": {
             "colorbar": {
              "outlinewidth": 0,
              "ticks": ""
             }
            },
            "type": "scattercarpet"
           }
          ],
          "scattergeo": [
           {
            "marker": {
             "colorbar": {
              "outlinewidth": 0,
              "ticks": ""
             }
            },
            "type": "scattergeo"
           }
          ],
          "scattergl": [
           {
            "marker": {
             "colorbar": {
              "outlinewidth": 0,
              "ticks": ""
             }
            },
            "type": "scattergl"
           }
          ],
          "scattermapbox": [
           {
            "marker": {
             "colorbar": {
              "outlinewidth": 0,
              "ticks": ""
             }
            },
            "type": "scattermapbox"
           }
          ],
          "scatterpolar": [
           {
            "marker": {
             "colorbar": {
              "outlinewidth": 0,
              "ticks": ""
             }
            },
            "type": "scatterpolar"
           }
          ],
          "scatterpolargl": [
           {
            "marker": {
             "colorbar": {
              "outlinewidth": 0,
              "ticks": ""
             }
            },
            "type": "scatterpolargl"
           }
          ],
          "scatterternary": [
           {
            "marker": {
             "colorbar": {
              "outlinewidth": 0,
              "ticks": ""
             }
            },
            "type": "scatterternary"
           }
          ],
          "surface": [
           {
            "colorbar": {
             "outlinewidth": 0,
             "ticks": ""
            },
            "colorscale": [
             [
              0,
              "#0d0887"
             ],
             [
              0.1111111111111111,
              "#46039f"
             ],
             [
              0.2222222222222222,
              "#7201a8"
             ],
             [
              0.3333333333333333,
              "#9c179e"
             ],
             [
              0.4444444444444444,
              "#bd3786"
             ],
             [
              0.5555555555555556,
              "#d8576b"
             ],
             [
              0.6666666666666666,
              "#ed7953"
             ],
             [
              0.7777777777777778,
              "#fb9f3a"
             ],
             [
              0.8888888888888888,
              "#fdca26"
             ],
             [
              1,
              "#f0f921"
             ]
            ],
            "type": "surface"
           }
          ],
          "table": [
           {
            "cells": {
             "fill": {
              "color": "#EBF0F8"
             },
             "line": {
              "color": "white"
             }
            },
            "header": {
             "fill": {
              "color": "#C8D4E3"
             },
             "line": {
              "color": "white"
             }
            },
            "type": "table"
           }
          ]
         },
         "layout": {
          "annotationdefaults": {
           "arrowcolor": "#2a3f5f",
           "arrowhead": 0,
           "arrowwidth": 1
          },
          "autotypenumbers": "strict",
          "coloraxis": {
           "colorbar": {
            "outlinewidth": 0,
            "ticks": ""
           }
          },
          "colorscale": {
           "diverging": [
            [
             0,
             "#8e0152"
            ],
            [
             0.1,
             "#c51b7d"
            ],
            [
             0.2,
             "#de77ae"
            ],
            [
             0.3,
             "#f1b6da"
            ],
            [
             0.4,
             "#fde0ef"
            ],
            [
             0.5,
             "#f7f7f7"
            ],
            [
             0.6,
             "#e6f5d0"
            ],
            [
             0.7,
             "#b8e186"
            ],
            [
             0.8,
             "#7fbc41"
            ],
            [
             0.9,
             "#4d9221"
            ],
            [
             1,
             "#276419"
            ]
           ],
           "sequential": [
            [
             0,
             "#0d0887"
            ],
            [
             0.1111111111111111,
             "#46039f"
            ],
            [
             0.2222222222222222,
             "#7201a8"
            ],
            [
             0.3333333333333333,
             "#9c179e"
            ],
            [
             0.4444444444444444,
             "#bd3786"
            ],
            [
             0.5555555555555556,
             "#d8576b"
            ],
            [
             0.6666666666666666,
             "#ed7953"
            ],
            [
             0.7777777777777778,
             "#fb9f3a"
            ],
            [
             0.8888888888888888,
             "#fdca26"
            ],
            [
             1,
             "#f0f921"
            ]
           ],
           "sequentialminus": [
            [
             0,
             "#0d0887"
            ],
            [
             0.1111111111111111,
             "#46039f"
            ],
            [
             0.2222222222222222,
             "#7201a8"
            ],
            [
             0.3333333333333333,
             "#9c179e"
            ],
            [
             0.4444444444444444,
             "#bd3786"
            ],
            [
             0.5555555555555556,
             "#d8576b"
            ],
            [
             0.6666666666666666,
             "#ed7953"
            ],
            [
             0.7777777777777778,
             "#fb9f3a"
            ],
            [
             0.8888888888888888,
             "#fdca26"
            ],
            [
             1,
             "#f0f921"
            ]
           ]
          },
          "colorway": [
           "#636efa",
           "#EF553B",
           "#00cc96",
           "#ab63fa",
           "#FFA15A",
           "#19d3f3",
           "#FF6692",
           "#B6E880",
           "#FF97FF",
           "#FECB52"
          ],
          "font": {
           "color": "#2a3f5f"
          },
          "geo": {
           "bgcolor": "white",
           "lakecolor": "white",
           "landcolor": "#E5ECF6",
           "showlakes": true,
           "showland": true,
           "subunitcolor": "white"
          },
          "hoverlabel": {
           "align": "left"
          },
          "hovermode": "closest",
          "mapbox": {
           "style": "light"
          },
          "paper_bgcolor": "white",
          "plot_bgcolor": "#E5ECF6",
          "polar": {
           "angularaxis": {
            "gridcolor": "white",
            "linecolor": "white",
            "ticks": ""
           },
           "bgcolor": "#E5ECF6",
           "radialaxis": {
            "gridcolor": "white",
            "linecolor": "white",
            "ticks": ""
           }
          },
          "scene": {
           "xaxis": {
            "backgroundcolor": "#E5ECF6",
            "gridcolor": "white",
            "gridwidth": 2,
            "linecolor": "white",
            "showbackground": true,
            "ticks": "",
            "zerolinecolor": "white"
           },
           "yaxis": {
            "backgroundcolor": "#E5ECF6",
            "gridcolor": "white",
            "gridwidth": 2,
            "linecolor": "white",
            "showbackground": true,
            "ticks": "",
            "zerolinecolor": "white"
           },
           "zaxis": {
            "backgroundcolor": "#E5ECF6",
            "gridcolor": "white",
            "gridwidth": 2,
            "linecolor": "white",
            "showbackground": true,
            "ticks": "",
            "zerolinecolor": "white"
           }
          },
          "shapedefaults": {
           "line": {
            "color": "#2a3f5f"
           }
          },
          "ternary": {
           "aaxis": {
            "gridcolor": "white",
            "linecolor": "white",
            "ticks": ""
           },
           "baxis": {
            "gridcolor": "white",
            "linecolor": "white",
            "ticks": ""
           },
           "bgcolor": "#E5ECF6",
           "caxis": {
            "gridcolor": "white",
            "linecolor": "white",
            "ticks": ""
           }
          },
          "title": {
           "x": 0.05
          },
          "xaxis": {
           "automargin": true,
           "gridcolor": "white",
           "linecolor": "white",
           "ticks": "",
           "title": {
            "standoff": 15
           },
           "zerolinecolor": "white",
           "zerolinewidth": 2
          },
          "yaxis": {
           "automargin": true,
           "gridcolor": "white",
           "linecolor": "white",
           "ticks": "",
           "title": {
            "standoff": 15
           },
           "zerolinecolor": "white",
           "zerolinewidth": 2
          }
         }
        },
        "title": {
         "font": {
          "color": "Black",
          "size": 22
         },
         "text": "<b>Similarity Matrix</b>",
         "x": 0.55,
         "xanchor": "center",
         "y": 0.95,
         "yanchor": "top"
        },
        "width": 800,
        "xaxis": {
         "anchor": "y",
         "constrain": "domain",
         "domain": [
          0,
          1
         ],
         "scaleanchor": "y"
        },
        "yaxis": {
         "anchor": "x",
         "autorange": "reversed",
         "constrain": "domain",
         "domain": [
          0,
          1
         ]
        }
       }
      }
     },
     "metadata": {},
     "output_type": "display_data"
    }
   ],
   "source": [
    "topic_model.visualize_heatmap()"
   ]
  },
  {
   "cell_type": "code",
   "execution_count": 26,
   "metadata": {},
   "outputs": [
    {
     "ename": "ValueError",
     "evalue": "zero-size array to reduction operation maximum which has no identity",
     "output_type": "error",
     "traceback": [
      "\u001b[1;31m---------------------------------------------------------------------------\u001b[0m",
      "\u001b[1;31mValueError\u001b[0m                                Traceback (most recent call last)",
      "Cell \u001b[1;32mIn[26], line 1\u001b[0m\n\u001b[1;32m----> 1\u001b[0m \u001b[43mtopic_model\u001b[49m\u001b[38;5;241;43m.\u001b[39;49m\u001b[43mvisualize_topics\u001b[49m\u001b[43m(\u001b[49m\u001b[43m)\u001b[49m\n",
      "File \u001b[1;32mc:\\dev\\getfocus_assignment\\venv\\Lib\\site-packages\\bertopic\\_bertopic.py:2429\u001b[0m, in \u001b[0;36mBERTopic.visualize_topics\u001b[1;34m(self, topics, top_n_topics, use_ctfidf, custom_labels, title, width, height)\u001b[0m\n\u001b[0;32m   2396\u001b[0m \u001b[38;5;250m\u001b[39m\u001b[38;5;124;03m\"\"\"Visualize topics, their sizes, and their corresponding words.\u001b[39;00m\n\u001b[0;32m   2397\u001b[0m \n\u001b[0;32m   2398\u001b[0m \u001b[38;5;124;03mThis visualization is highly inspired by LDAvis, a great visualization\u001b[39;00m\n\u001b[1;32m   (...)\u001b[0m\n\u001b[0;32m   2426\u001b[0m \u001b[38;5;124;03m```\u001b[39;00m\n\u001b[0;32m   2427\u001b[0m \u001b[38;5;124;03m\"\"\"\u001b[39;00m\n\u001b[0;32m   2428\u001b[0m check_is_fitted(\u001b[38;5;28mself\u001b[39m)\n\u001b[1;32m-> 2429\u001b[0m \u001b[38;5;28;01mreturn\u001b[39;00m \u001b[43mplotting\u001b[49m\u001b[38;5;241;43m.\u001b[39;49m\u001b[43mvisualize_topics\u001b[49m\u001b[43m(\u001b[49m\n\u001b[0;32m   2430\u001b[0m \u001b[43m    \u001b[49m\u001b[38;5;28;43mself\u001b[39;49m\u001b[43m,\u001b[49m\n\u001b[0;32m   2431\u001b[0m \u001b[43m    \u001b[49m\u001b[43mtopics\u001b[49m\u001b[38;5;241;43m=\u001b[39;49m\u001b[43mtopics\u001b[49m\u001b[43m,\u001b[49m\n\u001b[0;32m   2432\u001b[0m \u001b[43m    \u001b[49m\u001b[43mtop_n_topics\u001b[49m\u001b[38;5;241;43m=\u001b[39;49m\u001b[43mtop_n_topics\u001b[49m\u001b[43m,\u001b[49m\n\u001b[0;32m   2433\u001b[0m \u001b[43m    \u001b[49m\u001b[43muse_ctfidf\u001b[49m\u001b[38;5;241;43m=\u001b[39;49m\u001b[43muse_ctfidf\u001b[49m\u001b[43m,\u001b[49m\n\u001b[0;32m   2434\u001b[0m \u001b[43m    \u001b[49m\u001b[43mcustom_labels\u001b[49m\u001b[38;5;241;43m=\u001b[39;49m\u001b[43mcustom_labels\u001b[49m\u001b[43m,\u001b[49m\n\u001b[0;32m   2435\u001b[0m \u001b[43m    \u001b[49m\u001b[43mtitle\u001b[49m\u001b[38;5;241;43m=\u001b[39;49m\u001b[43mtitle\u001b[49m\u001b[43m,\u001b[49m\n\u001b[0;32m   2436\u001b[0m \u001b[43m    \u001b[49m\u001b[43mwidth\u001b[49m\u001b[38;5;241;43m=\u001b[39;49m\u001b[43mwidth\u001b[49m\u001b[43m,\u001b[49m\n\u001b[0;32m   2437\u001b[0m \u001b[43m    \u001b[49m\u001b[43mheight\u001b[49m\u001b[38;5;241;43m=\u001b[39;49m\u001b[43mheight\u001b[49m\u001b[43m,\u001b[49m\n\u001b[0;32m   2438\u001b[0m \u001b[43m\u001b[49m\u001b[43m)\u001b[49m\n",
      "File \u001b[1;32mc:\\dev\\getfocus_assignment\\venv\\Lib\\site-packages\\bertopic\\plotting\\_topics.py:92\u001b[0m, in \u001b[0;36mvisualize_topics\u001b[1;34m(topic_model, topics, top_n_topics, use_ctfidf, custom_labels, title, width, height)\u001b[0m\n\u001b[0;32m     90\u001b[0m     embeddings \u001b[38;5;241m=\u001b[39m UMAP(n_neighbors\u001b[38;5;241m=\u001b[39m\u001b[38;5;241m2\u001b[39m, n_components\u001b[38;5;241m=\u001b[39m\u001b[38;5;241m2\u001b[39m, metric\u001b[38;5;241m=\u001b[39m\u001b[38;5;124m\"\u001b[39m\u001b[38;5;124mhellinger\u001b[39m\u001b[38;5;124m\"\u001b[39m, random_state\u001b[38;5;241m=\u001b[39m\u001b[38;5;241m42\u001b[39m)\u001b[38;5;241m.\u001b[39mfit_transform(embeddings)\n\u001b[0;32m     91\u001b[0m \u001b[38;5;28;01melse\u001b[39;00m:\n\u001b[1;32m---> 92\u001b[0m     embeddings \u001b[38;5;241m=\u001b[39m \u001b[43mUMAP\u001b[49m\u001b[43m(\u001b[49m\u001b[43mn_neighbors\u001b[49m\u001b[38;5;241;43m=\u001b[39;49m\u001b[38;5;241;43m2\u001b[39;49m\u001b[43m,\u001b[49m\u001b[43m \u001b[49m\u001b[43mn_components\u001b[49m\u001b[38;5;241;43m=\u001b[39;49m\u001b[38;5;241;43m2\u001b[39;49m\u001b[43m,\u001b[49m\u001b[43m \u001b[49m\u001b[43mmetric\u001b[49m\u001b[38;5;241;43m=\u001b[39;49m\u001b[38;5;124;43m\"\u001b[39;49m\u001b[38;5;124;43mcosine\u001b[39;49m\u001b[38;5;124;43m\"\u001b[39;49m\u001b[43m,\u001b[49m\u001b[43m \u001b[49m\u001b[43mrandom_state\u001b[49m\u001b[38;5;241;43m=\u001b[39;49m\u001b[38;5;241;43m42\u001b[39;49m\u001b[43m)\u001b[49m\u001b[38;5;241;43m.\u001b[39;49m\u001b[43mfit_transform\u001b[49m\u001b[43m(\u001b[49m\u001b[43membeddings\u001b[49m\u001b[43m)\u001b[49m\n\u001b[0;32m     94\u001b[0m \u001b[38;5;66;03m# Visualize with plotly\u001b[39;00m\n\u001b[0;32m     95\u001b[0m df \u001b[38;5;241m=\u001b[39m pd\u001b[38;5;241m.\u001b[39mDataFrame(\n\u001b[0;32m     96\u001b[0m     {\n\u001b[0;32m     97\u001b[0m         \u001b[38;5;124m\"\u001b[39m\u001b[38;5;124mx\u001b[39m\u001b[38;5;124m\"\u001b[39m: embeddings[:, \u001b[38;5;241m0\u001b[39m],\n\u001b[1;32m   (...)\u001b[0m\n\u001b[0;32m    102\u001b[0m     }\n\u001b[0;32m    103\u001b[0m )\n",
      "File \u001b[1;32mc:\\dev\\getfocus_assignment\\venv\\Lib\\site-packages\\umap\\umap_.py:2891\u001b[0m, in \u001b[0;36mUMAP.fit_transform\u001b[1;34m(self, X, y, force_all_finite)\u001b[0m\n\u001b[0;32m   2855\u001b[0m \u001b[38;5;28;01mdef\u001b[39;00m \u001b[38;5;21mfit_transform\u001b[39m(\u001b[38;5;28mself\u001b[39m, X, y\u001b[38;5;241m=\u001b[39m\u001b[38;5;28;01mNone\u001b[39;00m, force_all_finite\u001b[38;5;241m=\u001b[39m\u001b[38;5;28;01mTrue\u001b[39;00m):\n\u001b[0;32m   2856\u001b[0m \u001b[38;5;250m    \u001b[39m\u001b[38;5;124;03m\"\"\"Fit X into an embedded space and return that transformed\u001b[39;00m\n\u001b[0;32m   2857\u001b[0m \u001b[38;5;124;03m    output.\u001b[39;00m\n\u001b[0;32m   2858\u001b[0m \n\u001b[1;32m   (...)\u001b[0m\n\u001b[0;32m   2889\u001b[0m \u001b[38;5;124;03m        Local radii of data points in the embedding (log-transformed).\u001b[39;00m\n\u001b[0;32m   2890\u001b[0m \u001b[38;5;124;03m    \"\"\"\u001b[39;00m\n\u001b[1;32m-> 2891\u001b[0m     \u001b[38;5;28;43mself\u001b[39;49m\u001b[38;5;241;43m.\u001b[39;49m\u001b[43mfit\u001b[49m\u001b[43m(\u001b[49m\u001b[43mX\u001b[49m\u001b[43m,\u001b[49m\u001b[43m \u001b[49m\u001b[43my\u001b[49m\u001b[43m,\u001b[49m\u001b[43m \u001b[49m\u001b[43mforce_all_finite\u001b[49m\u001b[43m)\u001b[49m\n\u001b[0;32m   2892\u001b[0m     \u001b[38;5;28;01mif\u001b[39;00m \u001b[38;5;28mself\u001b[39m\u001b[38;5;241m.\u001b[39mtransform_mode \u001b[38;5;241m==\u001b[39m \u001b[38;5;124m\"\u001b[39m\u001b[38;5;124membedding\u001b[39m\u001b[38;5;124m\"\u001b[39m:\n\u001b[0;32m   2893\u001b[0m         \u001b[38;5;28;01mif\u001b[39;00m \u001b[38;5;28mself\u001b[39m\u001b[38;5;241m.\u001b[39moutput_dens:\n",
      "File \u001b[1;32mc:\\dev\\getfocus_assignment\\venv\\Lib\\site-packages\\umap\\umap_.py:2784\u001b[0m, in \u001b[0;36mUMAP.fit\u001b[1;34m(self, X, y, force_all_finite)\u001b[0m\n\u001b[0;32m   2780\u001b[0m \u001b[38;5;28;01mif\u001b[39;00m \u001b[38;5;28mself\u001b[39m\u001b[38;5;241m.\u001b[39mtransform_mode \u001b[38;5;241m==\u001b[39m \u001b[38;5;124m\"\u001b[39m\u001b[38;5;124membedding\u001b[39m\u001b[38;5;124m\"\u001b[39m:\n\u001b[0;32m   2781\u001b[0m     epochs \u001b[38;5;241m=\u001b[39m (\n\u001b[0;32m   2782\u001b[0m         \u001b[38;5;28mself\u001b[39m\u001b[38;5;241m.\u001b[39mn_epochs_list \u001b[38;5;28;01mif\u001b[39;00m \u001b[38;5;28mself\u001b[39m\u001b[38;5;241m.\u001b[39mn_epochs_list \u001b[38;5;129;01mis\u001b[39;00m \u001b[38;5;129;01mnot\u001b[39;00m \u001b[38;5;28;01mNone\u001b[39;00m \u001b[38;5;28;01melse\u001b[39;00m \u001b[38;5;28mself\u001b[39m\u001b[38;5;241m.\u001b[39mn_epochs\n\u001b[0;32m   2783\u001b[0m     )\n\u001b[1;32m-> 2784\u001b[0m     \u001b[38;5;28mself\u001b[39m\u001b[38;5;241m.\u001b[39membedding_, aux_data \u001b[38;5;241m=\u001b[39m \u001b[38;5;28;43mself\u001b[39;49m\u001b[38;5;241;43m.\u001b[39;49m\u001b[43m_fit_embed_data\u001b[49m\u001b[43m(\u001b[49m\n\u001b[0;32m   2785\u001b[0m \u001b[43m        \u001b[49m\u001b[38;5;28;43mself\u001b[39;49m\u001b[38;5;241;43m.\u001b[39;49m\u001b[43m_raw_data\u001b[49m\u001b[43m[\u001b[49m\u001b[43mindex\u001b[49m\u001b[43m]\u001b[49m\u001b[43m,\u001b[49m\n\u001b[0;32m   2786\u001b[0m \u001b[43m        \u001b[49m\u001b[43mepochs\u001b[49m\u001b[43m,\u001b[49m\n\u001b[0;32m   2787\u001b[0m \u001b[43m        \u001b[49m\u001b[43minit\u001b[49m\u001b[43m,\u001b[49m\n\u001b[0;32m   2788\u001b[0m \u001b[43m        \u001b[49m\u001b[43mrandom_state\u001b[49m\u001b[43m,\u001b[49m\u001b[43m  \u001b[49m\u001b[38;5;66;43;03m# JH why raw data?\u001b[39;49;00m\n\u001b[0;32m   2789\u001b[0m \u001b[43m    \u001b[49m\u001b[43m)\u001b[49m\n\u001b[0;32m   2791\u001b[0m     \u001b[38;5;28;01mif\u001b[39;00m \u001b[38;5;28mself\u001b[39m\u001b[38;5;241m.\u001b[39mn_epochs_list \u001b[38;5;129;01mis\u001b[39;00m \u001b[38;5;129;01mnot\u001b[39;00m \u001b[38;5;28;01mNone\u001b[39;00m:\n\u001b[0;32m   2792\u001b[0m         \u001b[38;5;28;01mif\u001b[39;00m \u001b[38;5;124m\"\u001b[39m\u001b[38;5;124membedding_list\u001b[39m\u001b[38;5;124m\"\u001b[39m \u001b[38;5;129;01mnot\u001b[39;00m \u001b[38;5;129;01min\u001b[39;00m aux_data:\n",
      "File \u001b[1;32mc:\\dev\\getfocus_assignment\\venv\\Lib\\site-packages\\umap\\umap_.py:2830\u001b[0m, in \u001b[0;36mUMAP._fit_embed_data\u001b[1;34m(self, X, n_epochs, init, random_state)\u001b[0m\n\u001b[0;32m   2826\u001b[0m \u001b[38;5;28;01mdef\u001b[39;00m \u001b[38;5;21m_fit_embed_data\u001b[39m(\u001b[38;5;28mself\u001b[39m, X, n_epochs, init, random_state):\n\u001b[0;32m   2827\u001b[0m \u001b[38;5;250m    \u001b[39m\u001b[38;5;124;03m\"\"\"A method wrapper for simplicial_set_embedding that can be\u001b[39;00m\n\u001b[0;32m   2828\u001b[0m \u001b[38;5;124;03m    replaced by subclasses.\u001b[39;00m\n\u001b[0;32m   2829\u001b[0m \u001b[38;5;124;03m    \"\"\"\u001b[39;00m\n\u001b[1;32m-> 2830\u001b[0m     \u001b[38;5;28;01mreturn\u001b[39;00m \u001b[43msimplicial_set_embedding\u001b[49m\u001b[43m(\u001b[49m\n\u001b[0;32m   2831\u001b[0m \u001b[43m        \u001b[49m\u001b[43mX\u001b[49m\u001b[43m,\u001b[49m\n\u001b[0;32m   2832\u001b[0m \u001b[43m        \u001b[49m\u001b[38;5;28;43mself\u001b[39;49m\u001b[38;5;241;43m.\u001b[39;49m\u001b[43mgraph_\u001b[49m\u001b[43m,\u001b[49m\n\u001b[0;32m   2833\u001b[0m \u001b[43m        \u001b[49m\u001b[38;5;28;43mself\u001b[39;49m\u001b[38;5;241;43m.\u001b[39;49m\u001b[43mn_components\u001b[49m\u001b[43m,\u001b[49m\n\u001b[0;32m   2834\u001b[0m \u001b[43m        \u001b[49m\u001b[38;5;28;43mself\u001b[39;49m\u001b[38;5;241;43m.\u001b[39;49m\u001b[43m_initial_alpha\u001b[49m\u001b[43m,\u001b[49m\n\u001b[0;32m   2835\u001b[0m \u001b[43m        \u001b[49m\u001b[38;5;28;43mself\u001b[39;49m\u001b[38;5;241;43m.\u001b[39;49m\u001b[43m_a\u001b[49m\u001b[43m,\u001b[49m\n\u001b[0;32m   2836\u001b[0m \u001b[43m        \u001b[49m\u001b[38;5;28;43mself\u001b[39;49m\u001b[38;5;241;43m.\u001b[39;49m\u001b[43m_b\u001b[49m\u001b[43m,\u001b[49m\n\u001b[0;32m   2837\u001b[0m \u001b[43m        \u001b[49m\u001b[38;5;28;43mself\u001b[39;49m\u001b[38;5;241;43m.\u001b[39;49m\u001b[43mrepulsion_strength\u001b[49m\u001b[43m,\u001b[49m\n\u001b[0;32m   2838\u001b[0m \u001b[43m        \u001b[49m\u001b[38;5;28;43mself\u001b[39;49m\u001b[38;5;241;43m.\u001b[39;49m\u001b[43mnegative_sample_rate\u001b[49m\u001b[43m,\u001b[49m\n\u001b[0;32m   2839\u001b[0m \u001b[43m        \u001b[49m\u001b[43mn_epochs\u001b[49m\u001b[43m,\u001b[49m\n\u001b[0;32m   2840\u001b[0m \u001b[43m        \u001b[49m\u001b[43minit\u001b[49m\u001b[43m,\u001b[49m\n\u001b[0;32m   2841\u001b[0m \u001b[43m        \u001b[49m\u001b[43mrandom_state\u001b[49m\u001b[43m,\u001b[49m\n\u001b[0;32m   2842\u001b[0m \u001b[43m        \u001b[49m\u001b[38;5;28;43mself\u001b[39;49m\u001b[38;5;241;43m.\u001b[39;49m\u001b[43m_input_distance_func\u001b[49m\u001b[43m,\u001b[49m\n\u001b[0;32m   2843\u001b[0m \u001b[43m        \u001b[49m\u001b[38;5;28;43mself\u001b[39;49m\u001b[38;5;241;43m.\u001b[39;49m\u001b[43m_metric_kwds\u001b[49m\u001b[43m,\u001b[49m\n\u001b[0;32m   2844\u001b[0m \u001b[43m        \u001b[49m\u001b[38;5;28;43mself\u001b[39;49m\u001b[38;5;241;43m.\u001b[39;49m\u001b[43mdensmap\u001b[49m\u001b[43m,\u001b[49m\n\u001b[0;32m   2845\u001b[0m \u001b[43m        \u001b[49m\u001b[38;5;28;43mself\u001b[39;49m\u001b[38;5;241;43m.\u001b[39;49m\u001b[43m_densmap_kwds\u001b[49m\u001b[43m,\u001b[49m\n\u001b[0;32m   2846\u001b[0m \u001b[43m        \u001b[49m\u001b[38;5;28;43mself\u001b[39;49m\u001b[38;5;241;43m.\u001b[39;49m\u001b[43moutput_dens\u001b[49m\u001b[43m,\u001b[49m\n\u001b[0;32m   2847\u001b[0m \u001b[43m        \u001b[49m\u001b[38;5;28;43mself\u001b[39;49m\u001b[38;5;241;43m.\u001b[39;49m\u001b[43m_output_distance_func\u001b[49m\u001b[43m,\u001b[49m\n\u001b[0;32m   2848\u001b[0m \u001b[43m        \u001b[49m\u001b[38;5;28;43mself\u001b[39;49m\u001b[38;5;241;43m.\u001b[39;49m\u001b[43m_output_metric_kwds\u001b[49m\u001b[43m,\u001b[49m\n\u001b[0;32m   2849\u001b[0m \u001b[43m        \u001b[49m\u001b[38;5;28;43mself\u001b[39;49m\u001b[38;5;241;43m.\u001b[39;49m\u001b[43moutput_metric\u001b[49m\u001b[43m \u001b[49m\u001b[38;5;129;43;01min\u001b[39;49;00m\u001b[43m \u001b[49m\u001b[43m(\u001b[49m\u001b[38;5;124;43m\"\u001b[39;49m\u001b[38;5;124;43meuclidean\u001b[39;49m\u001b[38;5;124;43m\"\u001b[39;49m\u001b[43m,\u001b[49m\u001b[43m \u001b[49m\u001b[38;5;124;43m\"\u001b[39;49m\u001b[38;5;124;43ml2\u001b[39;49m\u001b[38;5;124;43m\"\u001b[39;49m\u001b[43m)\u001b[49m\u001b[43m,\u001b[49m\n\u001b[0;32m   2850\u001b[0m \u001b[43m        \u001b[49m\u001b[38;5;28;43mself\u001b[39;49m\u001b[38;5;241;43m.\u001b[39;49m\u001b[43mrandom_state\u001b[49m\u001b[43m \u001b[49m\u001b[38;5;129;43;01mis\u001b[39;49;00m\u001b[43m \u001b[49m\u001b[38;5;28;43;01mNone\u001b[39;49;00m\u001b[43m,\u001b[49m\n\u001b[0;32m   2851\u001b[0m \u001b[43m        \u001b[49m\u001b[38;5;28;43mself\u001b[39;49m\u001b[38;5;241;43m.\u001b[39;49m\u001b[43mverbose\u001b[49m\u001b[43m,\u001b[49m\n\u001b[0;32m   2852\u001b[0m \u001b[43m        \u001b[49m\u001b[43mtqdm_kwds\u001b[49m\u001b[38;5;241;43m=\u001b[39;49m\u001b[38;5;28;43mself\u001b[39;49m\u001b[38;5;241;43m.\u001b[39;49m\u001b[43mtqdm_kwds\u001b[49m\u001b[43m,\u001b[49m\n\u001b[0;32m   2853\u001b[0m \u001b[43m    \u001b[49m\u001b[43m)\u001b[49m\n",
      "File \u001b[1;32mc:\\dev\\getfocus_assignment\\venv\\Lib\\site-packages\\umap\\umap_.py:1087\u001b[0m, in \u001b[0;36msimplicial_set_embedding\u001b[1;34m(data, graph, n_components, initial_alpha, a, b, gamma, negative_sample_rate, n_epochs, init, random_state, metric, metric_kwds, densmap, densmap_kwds, output_dens, output_metric, output_metric_kwds, euclidean_output, parallel, verbose, tqdm_kwds)\u001b[0m\n\u001b[0;32m   1084\u001b[0m n_epochs_max \u001b[38;5;241m=\u001b[39m \u001b[38;5;28mmax\u001b[39m(n_epochs) \u001b[38;5;28;01mif\u001b[39;00m \u001b[38;5;28misinstance\u001b[39m(n_epochs, \u001b[38;5;28mlist\u001b[39m) \u001b[38;5;28;01melse\u001b[39;00m n_epochs\n\u001b[0;32m   1086\u001b[0m \u001b[38;5;28;01mif\u001b[39;00m n_epochs_max \u001b[38;5;241m>\u001b[39m \u001b[38;5;241m10\u001b[39m:\n\u001b[1;32m-> 1087\u001b[0m     graph\u001b[38;5;241m.\u001b[39mdata[graph\u001b[38;5;241m.\u001b[39mdata \u001b[38;5;241m<\u001b[39m (\u001b[43mgraph\u001b[49m\u001b[38;5;241;43m.\u001b[39;49m\u001b[43mdata\u001b[49m\u001b[38;5;241;43m.\u001b[39;49m\u001b[43mmax\u001b[49m\u001b[43m(\u001b[49m\u001b[43m)\u001b[49m \u001b[38;5;241m/\u001b[39m \u001b[38;5;28mfloat\u001b[39m(n_epochs_max))] \u001b[38;5;241m=\u001b[39m \u001b[38;5;241m0.0\u001b[39m\n\u001b[0;32m   1088\u001b[0m \u001b[38;5;28;01melse\u001b[39;00m:\n\u001b[0;32m   1089\u001b[0m     graph\u001b[38;5;241m.\u001b[39mdata[graph\u001b[38;5;241m.\u001b[39mdata \u001b[38;5;241m<\u001b[39m (graph\u001b[38;5;241m.\u001b[39mdata\u001b[38;5;241m.\u001b[39mmax() \u001b[38;5;241m/\u001b[39m \u001b[38;5;28mfloat\u001b[39m(default_epochs))] \u001b[38;5;241m=\u001b[39m \u001b[38;5;241m0.0\u001b[39m\n",
      "File \u001b[1;32mc:\\dev\\getfocus_assignment\\venv\\Lib\\site-packages\\numpy\\core\\_methods.py:41\u001b[0m, in \u001b[0;36m_amax\u001b[1;34m(a, axis, out, keepdims, initial, where)\u001b[0m\n\u001b[0;32m     39\u001b[0m \u001b[38;5;28;01mdef\u001b[39;00m \u001b[38;5;21m_amax\u001b[39m(a, axis\u001b[38;5;241m=\u001b[39m\u001b[38;5;28;01mNone\u001b[39;00m, out\u001b[38;5;241m=\u001b[39m\u001b[38;5;28;01mNone\u001b[39;00m, keepdims\u001b[38;5;241m=\u001b[39m\u001b[38;5;28;01mFalse\u001b[39;00m,\n\u001b[0;32m     40\u001b[0m           initial\u001b[38;5;241m=\u001b[39m_NoValue, where\u001b[38;5;241m=\u001b[39m\u001b[38;5;28;01mTrue\u001b[39;00m):\n\u001b[1;32m---> 41\u001b[0m     \u001b[38;5;28;01mreturn\u001b[39;00m \u001b[43mumr_maximum\u001b[49m\u001b[43m(\u001b[49m\u001b[43ma\u001b[49m\u001b[43m,\u001b[49m\u001b[43m \u001b[49m\u001b[43maxis\u001b[49m\u001b[43m,\u001b[49m\u001b[43m \u001b[49m\u001b[38;5;28;43;01mNone\u001b[39;49;00m\u001b[43m,\u001b[49m\u001b[43m \u001b[49m\u001b[43mout\u001b[49m\u001b[43m,\u001b[49m\u001b[43m \u001b[49m\u001b[43mkeepdims\u001b[49m\u001b[43m,\u001b[49m\u001b[43m \u001b[49m\u001b[43minitial\u001b[49m\u001b[43m,\u001b[49m\u001b[43m \u001b[49m\u001b[43mwhere\u001b[49m\u001b[43m)\u001b[49m\n",
      "\u001b[1;31mValueError\u001b[0m: zero-size array to reduction operation maximum which has no identity"
     ]
    }
   ],
   "source": [
    "topic_model.visualize_topics()"
   ]
  }
 ],
 "metadata": {
  "kernelspec": {
   "display_name": "venv",
   "language": "python",
   "name": "python3"
  },
  "language_info": {
   "codemirror_mode": {
    "name": "ipython",
    "version": 3
   },
   "file_extension": ".py",
   "mimetype": "text/x-python",
   "name": "python",
   "nbconvert_exporter": "python",
   "pygments_lexer": "ipython3",
   "version": "3.12.3"
  }
 },
 "nbformat": 4,
 "nbformat_minor": 2
}
