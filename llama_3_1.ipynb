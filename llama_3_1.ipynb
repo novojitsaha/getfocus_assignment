{
 "cells": [
  {
   "cell_type": "markdown",
   "id": "6680da6d-baef-4c5c-a4e6-6aa90379f1bc",
   "metadata": {},
   "source": [
    "### Topic Modelling with Llama-3.1-8B-Instruct Model\n",
    "Source: https://huggingface.co/meta-llama/Meta-Llama-3.1-8B-Instruct"
   ]
  },
  {
   "cell_type": "code",
   "execution_count": null,
   "id": "31688ec5",
   "metadata": {},
   "outputs": [],
   "source": [
    "import transformers\n",
    "import torch\n",
    "import pandas as pd\n",
    "import time"
   ]
  },
  {
   "cell_type": "code",
   "execution_count": 12,
   "id": "1e02518c-0f59-4724-9033-0cc6b0197db3",
   "metadata": {
    "tags": []
   },
   "outputs": [],
   "source": [
    "# load data\n",
    "df = pd.read_csv('./abstracts_2.csv')\n",
    "abstracts = df['abstract'].tolist()"
   ]
  },
  {
   "cell_type": "code",
   "execution_count": 13,
   "id": "bc061027-f3d9-4cca-8910-bd8ce1423e39",
   "metadata": {
    "tags": []
   },
   "outputs": [
    {
     "data": {
      "application/vnd.jupyter.widget-view+json": {
       "model_id": "2d3cc464def54cb1aff455031e6b6a01",
       "version_major": 2,
       "version_minor": 0
      },
      "text/plain": [
       "Loading checkpoint shards:   0%|          | 0/4 [00:00<?, ?it/s]"
      ]
     },
     "metadata": {},
     "output_type": "display_data"
    },
    {
     "name": "stderr",
     "output_type": "stream",
     "text": [
      "huggingface/tokenizers: The current process just got forked, after parallelism has already been used. Disabling parallelism to avoid deadlocks...\n",
      "To disable this warning, you can either:\n",
      "\t- Avoid using `tokenizers` before the fork if possible\n",
      "\t- Explicitly set the environment variable TOKENIZERS_PARALLELISM=(true | false)\n"
     ]
    }
   ],
   "source": [
    "model_id = \"meta-llama/Meta-Llama-3.1-8B-Instruct\"\n",
    "\n",
    "pipeline = transformers.pipeline(\n",
    "    \"text-generation\",\n",
    "    model=model_id,\n",
    "    model_kwargs={\"torch_dtype\": torch.bfloat16},\n",
    "    device_map=\"auto\",\n",
    ")"
   ]
  },
  {
   "cell_type": "code",
   "execution_count": 14,
   "id": "5576b54e-44c2-4f37-89be-ca18c1771a72",
   "metadata": {
    "tags": []
   },
   "outputs": [
    {
     "name": "stderr",
     "output_type": "stream",
     "text": [
      "Setting `pad_token_id` to `eos_token_id`:128001 for open-end generation.\n",
      "Setting `pad_token_id` to `eos_token_id`:128001 for open-end generation.\n"
     ]
    },
    {
     "name": "stdout",
     "output_type": "stream",
     "text": [
      "Document  0 :  1. Hybrid Vehicle Technology\n",
      "2. Regenerative Braking System\n",
      "3. Energy Efficiency Improvement\n",
      "4. Compressed Air Management\n"
     ]
    },
    {
     "name": "stderr",
     "output_type": "stream",
     "text": [
      "Setting `pad_token_id` to `eos_token_id`:128001 for open-end generation.\n"
     ]
    },
    {
     "name": "stdout",
     "output_type": "stream",
     "text": [
      "Document  1 :  1. Mechanical Systems\n",
      "2. Automotive Technology\n",
      "3. Gearbox Components\n",
      "4. Hybrid Vehicles\n",
      "5. Engineering Design\n"
     ]
    },
    {
     "name": "stderr",
     "output_type": "stream",
     "text": [
      "Setting `pad_token_id` to `eos_token_id`:128001 for open-end generation.\n"
     ]
    },
    {
     "name": "stdout",
     "output_type": "stream",
     "text": [
      "Document  2 :  1. Vehicle Design\n",
      "2. Traction System\n",
      "3. Propulsion Mechanics\n"
     ]
    },
    {
     "name": "stderr",
     "output_type": "stream",
     "text": [
      "Setting `pad_token_id` to `eos_token_id`:128001 for open-end generation.\n"
     ]
    },
    {
     "name": "stdout",
     "output_type": "stream",
     "text": [
      "Document  3 :  1. Automotive Engineering\n",
      "2. Hybrid Power System\n",
      "3. Gearbox Design\n"
     ]
    },
    {
     "name": "stderr",
     "output_type": "stream",
     "text": [
      "Setting `pad_token_id` to `eos_token_id`:128001 for open-end generation.\n"
     ]
    },
    {
     "name": "stdout",
     "output_type": "stream",
     "text": [
      "Document  4 :  1. Gearbox Design\n",
      "2. Planetary Gear Sets\n",
      "3. Electrical Machines\n",
      "4. Kinematics Improvement\n"
     ]
    },
    {
     "name": "stderr",
     "output_type": "stream",
     "text": [
      "Setting `pad_token_id` to `eos_token_id`:128001 for open-end generation.\n"
     ]
    },
    {
     "name": "stdout",
     "output_type": "stream",
     "text": [
      "Document  5 :  Topic 1: Hybrid Vehicles\n",
      "Topic 2: Fuel Economy\n",
      "Topic 3: Vehicle Control Systems\n",
      "Topic 4: Engine Management\n"
     ]
    },
    {
     "name": "stderr",
     "output_type": "stream",
     "text": [
      "Setting `pad_token_id` to `eos_token_id`:128001 for open-end generation.\n"
     ]
    },
    {
     "name": "stdout",
     "output_type": "stream",
     "text": [
      "Document  6 :  Topic 1: Automatic Transmission\n",
      "Topic 2: Engine Starting Mechanism\n",
      "Topic 3: Fuel Conservation\n"
     ]
    },
    {
     "name": "stderr",
     "output_type": "stream",
     "text": [
      "Setting `pad_token_id` to `eos_token_id`:128001 for open-end generation.\n"
     ]
    },
    {
     "name": "stdout",
     "output_type": "stream",
     "text": [
      "Document  7 :  Topic 1: Hybrid Engine\n",
      "Topic 2: Engine Control System\n",
      "Topic 3: Vehicle Energy Management\n"
     ]
    },
    {
     "name": "stderr",
     "output_type": "stream",
     "text": [
      "Setting `pad_token_id` to `eos_token_id`:128001 for open-end generation.\n"
     ]
    },
    {
     "name": "stdout",
     "output_type": "stream",
     "text": [
      "Document  8 :  1. Fiber Optic Connection\n",
      "2. Hybrid Cable Assembly\n",
      "3. Optical Connection Method\n"
     ]
    },
    {
     "name": "stderr",
     "output_type": "stream",
     "text": [
      "Setting `pad_token_id` to `eos_token_id`:128001 for open-end generation.\n"
     ]
    },
    {
     "name": "stdout",
     "output_type": "stream",
     "text": [
      "Document  9 :  Topic 1: Vehicle Holding Control\n",
      "Topic 2: Power Consumption\n",
      "Topic 3: Motor Control\n",
      "Topic 4: Hill Holding Mechanism\n"
     ]
    },
    {
     "name": "stderr",
     "output_type": "stream",
     "text": [
      "Setting `pad_token_id` to `eos_token_id`:128001 for open-end generation.\n"
     ]
    },
    {
     "name": "stdout",
     "output_type": "stream",
     "text": [
      "Document  10 :  1. Hybrid Electric Vehicle\n",
      "2. Power Assembly Coupling\n",
      "3. Gearbox Mechanism\n",
      "4. Motor Engine Connection\n"
     ]
    },
    {
     "name": "stderr",
     "output_type": "stream",
     "text": [
      "Setting `pad_token_id` to `eos_token_id`:128001 for open-end generation.\n"
     ]
    },
    {
     "name": "stdout",
     "output_type": "stream",
     "text": [
      "Document  11 :  1. Vehicle Power Transmission\n",
      "2. Electrical Machine Components\n",
      "3. Synchronous Rotation\n"
     ]
    },
    {
     "name": "stderr",
     "output_type": "stream",
     "text": [
      "Setting `pad_token_id` to `eos_token_id`:128001 for open-end generation.\n"
     ]
    },
    {
     "name": "stdout",
     "output_type": "stream",
     "text": [
      "Document  12 :  Topic 1: Hybrid Power Systems\n",
      "Topic 2: Electric Vehicle Control\n",
      "Topic 3: Vehicle Efficiency Improvement\n"
     ]
    },
    {
     "name": "stderr",
     "output_type": "stream",
     "text": [
      "Setting `pad_token_id` to `eos_token_id`:128001 for open-end generation.\n"
     ]
    },
    {
     "name": "stdout",
     "output_type": "stream",
     "text": [
      "Document  13 :  1. Machine Components\n",
      "2. Drive Arrangement\n",
      "3. Transmission Systems\n"
     ]
    },
    {
     "name": "stderr",
     "output_type": "stream",
     "text": [
      "Setting `pad_token_id` to `eos_token_id`:128001 for open-end generation.\n"
     ]
    },
    {
     "name": "stdout",
     "output_type": "stream",
     "text": [
      "Document  14 :  Topic 1: Hybrid Power System\n",
      "Topic 2: Power Control Method\n",
      "Topic 3: Automobile Chassis Modification\n"
     ]
    },
    {
     "name": "stderr",
     "output_type": "stream",
     "text": [
      "Setting `pad_token_id` to `eos_token_id`:128001 for open-end generation.\n"
     ]
    },
    {
     "name": "stdout",
     "output_type": "stream",
     "text": [
      "Document  15 :  1. Mechanical Transmission \n",
      "2. Power Synthesis\n"
     ]
    },
    {
     "name": "stderr",
     "output_type": "stream",
     "text": [
      "Setting `pad_token_id` to `eos_token_id`:128001 for open-end generation.\n"
     ]
    },
    {
     "name": "stdout",
     "output_type": "stream",
     "text": [
      "Document  16 :  1. Hybrid Vehicles\n",
      "2. Propulsion Systems\n",
      "3. Air Density Detection\n",
      "4. Driving Modes\n"
     ]
    },
    {
     "name": "stderr",
     "output_type": "stream",
     "text": [
      "Setting `pad_token_id` to `eos_token_id`:128001 for open-end generation.\n"
     ]
    },
    {
     "name": "stdout",
     "output_type": "stream",
     "text": [
      "Document  17 :  Topic 1: Power Generation\n",
      "Topic 2: Transmission System\n",
      "Topic 3: Structural Optimization\n"
     ]
    },
    {
     "name": "stderr",
     "output_type": "stream",
     "text": [
      "Setting `pad_token_id` to `eos_token_id`:128001 for open-end generation.\n"
     ]
    },
    {
     "name": "stdout",
     "output_type": "stream",
     "text": [
      "Document  18 :  Topic 1: Hybrid Electric Cars\n",
      "Topic 2: Fuel Efficiency\n",
      "Topic 3: Engine Control\n"
     ]
    },
    {
     "name": "stderr",
     "output_type": "stream",
     "text": [
      "Setting `pad_token_id` to `eos_token_id`:128001 for open-end generation.\n"
     ]
    },
    {
     "name": "stdout",
     "output_type": "stream",
     "text": [
      "Document  19 :  Automotive Technology \n",
      "Powertrain Control \n",
      "Engine Management \n",
      "Electric Vehicle Systems\n"
     ]
    },
    {
     "name": "stderr",
     "output_type": "stream",
     "text": [
      "Setting `pad_token_id` to `eos_token_id`:128001 for open-end generation.\n"
     ]
    },
    {
     "name": "stdout",
     "output_type": "stream",
     "text": [
      "Document  20 :  Topic 1: Hybrid Power System\n",
      "Topic 2: Vehicle Transmission\n",
      "Topic 3: Gear System Design\n",
      "Topic 4: Motor Integration\n",
      "Topic 5: Operating Mode Flexibility\n"
     ]
    },
    {
     "name": "stderr",
     "output_type": "stream",
     "text": [
      "Setting `pad_token_id` to `eos_token_id`:128001 for open-end generation.\n"
     ]
    },
    {
     "name": "stdout",
     "output_type": "stream",
     "text": [
      "Document  21 :  1. Energy Recycling\n",
      "2. Vehicle Efficiency\n",
      "3. Fuel Consumption\n"
     ]
    },
    {
     "name": "stderr",
     "output_type": "stream",
     "text": [
      "Setting `pad_token_id` to `eos_token_id`:128001 for open-end generation.\n"
     ]
    },
    {
     "name": "stdout",
     "output_type": "stream",
     "text": [
      "Document  22 :  Topic 1: Vehicle Design\n",
      "Topic 2: Drive Train Technology\n",
      "Topic 3: Renewable Energy Conversion\n"
     ]
    },
    {
     "name": "stderr",
     "output_type": "stream",
     "text": [
      "Setting `pad_token_id` to `eos_token_id`:128001 for open-end generation.\n"
     ]
    },
    {
     "name": "stdout",
     "output_type": "stream",
     "text": [
      "Document  23 :  Topic 1: Hybrid Vehicle\n",
      "Topic 2: Motor Drive Controller\n",
      "Topic 3: Electric Vehicle Technology\n"
     ]
    },
    {
     "name": "stderr",
     "output_type": "stream",
     "text": [
      "Setting `pad_token_id` to `eos_token_id`:128001 for open-end generation.\n"
     ]
    },
    {
     "name": "stdout",
     "output_type": "stream",
     "text": [
      "Document  24 :  1. Hybrid Vehicle Control\n",
      "2. Engine Start/Stop Control\n",
      "3. Automatic Transmission\n",
      "4. Clutch and Coordination Control\n",
      "5. Fuel Consumption Optimization\n"
     ]
    },
    {
     "name": "stderr",
     "output_type": "stream",
     "text": [
      "Setting `pad_token_id` to `eos_token_id`:128001 for open-end generation.\n"
     ]
    },
    {
     "name": "stdout",
     "output_type": "stream",
     "text": [
      "Document  25 :  1. Mobile Device Security\n",
      "2. Hybrid Mode Operation\n",
      "3. Portable Electronics Management\n",
      "4. System Enablement/Disabling\n"
     ]
    },
    {
     "name": "stderr",
     "output_type": "stream",
     "text": [
      "Setting `pad_token_id` to `eos_token_id`:128001 for open-end generation.\n"
     ]
    },
    {
     "name": "stdout",
     "output_type": "stream",
     "text": [
      "Document  26 :  1. Electric Vehicle Technology\n",
      "2. Energy Harvesting\n",
      "3. Battery Charging\n",
      "4. Vehicle Controls\n"
     ]
    },
    {
     "name": "stderr",
     "output_type": "stream",
     "text": [
      "Setting `pad_token_id` to `eos_token_id`:128001 for open-end generation.\n"
     ]
    },
    {
     "name": "stdout",
     "output_type": "stream",
     "text": [
      "Document  27 :  Topic 1: Hybrid Electric Vehicle\n",
      "Topic 2: Power Transmission Apparatus\n",
      "Topic 3: Gearbox Components\n"
     ]
    },
    {
     "name": "stderr",
     "output_type": "stream",
     "text": [
      "Setting `pad_token_id` to `eos_token_id`:128001 for open-end generation.\n"
     ]
    },
    {
     "name": "stdout",
     "output_type": "stream",
     "text": [
      "Document  28 :  Topic 1: Hybrid Vehicle Transmission\n",
      "Topic 2: Drive Mechanism Components\n",
      "Topic 3: Speed Switching Device\n"
     ]
    },
    {
     "name": "stderr",
     "output_type": "stream",
     "text": [
      "Setting `pad_token_id` to `eos_token_id`:128001 for open-end generation.\n"
     ]
    },
    {
     "name": "stdout",
     "output_type": "stream",
     "text": [
      "Document  29 :  1. Vehicle Transmission\n",
      "2. Electrical Machine\n",
      "3. Engine Technology\n"
     ]
    },
    {
     "name": "stderr",
     "output_type": "stream",
     "text": [
      "Setting `pad_token_id` to `eos_token_id`:128001 for open-end generation.\n"
     ]
    },
    {
     "name": "stdout",
     "output_type": "stream",
     "text": [
      "Document  30 :  1. Vehicle Safety Systems\n",
      "2. Controller Communication\n",
      "3. Fault Detection\n",
      "4. Fail-Safe Function\n"
     ]
    },
    {
     "name": "stderr",
     "output_type": "stream",
     "text": [
      "Setting `pad_token_id` to `eos_token_id`:128001 for open-end generation.\n"
     ]
    },
    {
     "name": "stdout",
     "output_type": "stream",
     "text": [
      "Document  31 :  Topic 1: Diesel Engine\n",
      "Topic 2: Particle Filter\n",
      "Topic 3: Regeneration Process\n",
      "Topic 4: Electric Motors and Generators\n"
     ]
    },
    {
     "name": "stderr",
     "output_type": "stream",
     "text": [
      "Setting `pad_token_id` to `eos_token_id`:128001 for open-end generation.\n"
     ]
    },
    {
     "name": "stdout",
     "output_type": "stream",
     "text": [
      "Document  32 :  1. Hydraulic Coupling\n",
      "2. Electric Machine\n",
      "3. Drive System\n",
      "4. Cooling System\n"
     ]
    },
    {
     "name": "stderr",
     "output_type": "stream",
     "text": [
      "Setting `pad_token_id` to `eos_token_id`:128001 for open-end generation.\n"
     ]
    },
    {
     "name": "stdout",
     "output_type": "stream",
     "text": [
      "Document  33 :  1. Electric Drive Systems\n",
      "2. Reversible Electric Machines\n",
      "3. Vehicle Propulsion\n",
      "4. Multi-Module Vehicles\n",
      "5. Power Generation Devices\n"
     ]
    },
    {
     "name": "stderr",
     "output_type": "stream",
     "text": [
      "Setting `pad_token_id` to `eos_token_id`:128001 for open-end generation.\n"
     ]
    },
    {
     "name": "stdout",
     "output_type": "stream",
     "text": [
      "Document  34 :  Topic 1: Hybrid Electric Vehicle\n",
      "Topic 2: Engine Shutdown\n",
      "Topic 3: Emission Control System\n"
     ]
    },
    {
     "name": "stderr",
     "output_type": "stream",
     "text": [
      "Setting `pad_token_id` to `eos_token_id`:128001 for open-end generation.\n"
     ]
    },
    {
     "name": "stdout",
     "output_type": "stream",
     "text": [
      "Document  35 :  1. Hybrid Vehicle\n",
      "2. Engine Starting\n",
      "3. Drive Train Mechanism\n",
      "4. Electric Machine Control\n",
      "5. Internal Combustion Engine\n"
     ]
    },
    {
     "name": "stderr",
     "output_type": "stream",
     "text": [
      "Setting `pad_token_id` to `eos_token_id`:128001 for open-end generation.\n"
     ]
    },
    {
     "name": "stdout",
     "output_type": "stream",
     "text": [
      "Document  36 :  1. Electric Vehicle Technology\n",
      "2. Regenerative Generator Design\n",
      "3. Energy Accumulation Systems\n",
      "4. Automotive Propulsion Systems\n"
     ]
    },
    {
     "name": "stderr",
     "output_type": "stream",
     "text": [
      "Setting `pad_token_id` to `eos_token_id`:128001 for open-end generation.\n"
     ]
    },
    {
     "name": "stdout",
     "output_type": "stream",
     "text": [
      "Document  37 :  Topic 1: In-Wheel Motor Technology\n",
      "Topic 2: All-Wheel-Drive Vehicle Systems\n",
      "Topic 3: Power Transmission Mechanisms\n"
     ]
    },
    {
     "name": "stderr",
     "output_type": "stream",
     "text": [
      "Setting `pad_token_id` to `eos_token_id`:128001 for open-end generation.\n"
     ]
    },
    {
     "name": "stdout",
     "output_type": "stream",
     "text": [
      "Document  38 :  Topic 1: Tax Filings\n",
      "Topic 2: Electronic Data\n"
     ]
    },
    {
     "name": "stderr",
     "output_type": "stream",
     "text": [
      "Setting `pad_token_id` to `eos_token_id`:128001 for open-end generation.\n"
     ]
    },
    {
     "name": "stdout",
     "output_type": "stream",
     "text": [
      "Document  39 :  1. Hybrid Power Transmission\n",
      "2. Planetary Gear Train\n",
      "3. Vehicle Locking System\n"
     ]
    },
    {
     "name": "stderr",
     "output_type": "stream",
     "text": [
      "Setting `pad_token_id` to `eos_token_id`:128001 for open-end generation.\n"
     ]
    },
    {
     "name": "stdout",
     "output_type": "stream",
     "text": [
      "Document  40 :  Topic 1: Application Data\n",
      "Topic 2: Electronic Filing\n",
      "Topic 3: Abstract Data\n"
     ]
    },
    {
     "name": "stderr",
     "output_type": "stream",
     "text": [
      "Setting `pad_token_id` to `eos_token_id`:128001 for open-end generation.\n"
     ]
    },
    {
     "name": "stdout",
     "output_type": "stream",
     "text": [
      "Document  41 :  1. Vehicle Design\n",
      "2. Hybrid Power System\n",
      "3. Noise Reduction\n",
      "4. Vibration Control\n"
     ]
    },
    {
     "name": "stderr",
     "output_type": "stream",
     "text": [
      "Setting `pad_token_id` to `eos_token_id`:128001 for open-end generation.\n"
     ]
    },
    {
     "name": "stdout",
     "output_type": "stream",
     "text": [
      "Document  42 :  Topic 1: Electric Vehicle Control\n",
      "Topic 2: Rotating Electric Machine\n",
      "Topic 3: Stall State Detection\n"
     ]
    },
    {
     "name": "stderr",
     "output_type": "stream",
     "text": [
      "Setting `pad_token_id` to `eos_token_id`:128001 for open-end generation.\n"
     ]
    },
    {
     "name": "stdout",
     "output_type": "stream",
     "text": [
      "Document  43 :  1. Gas Turbine\n",
      "2. Mechanical Transmission\n",
      "3. Vehicle Design\n",
      "4. Power Distribution\n"
     ]
    },
    {
     "name": "stderr",
     "output_type": "stream",
     "text": [
      "Setting `pad_token_id` to `eos_token_id`:128001 for open-end generation.\n"
     ]
    },
    {
     "name": "stdout",
     "output_type": "stream",
     "text": [
      "Document  44 :  1. Hybrid Power Unit\n",
      "2. Energy Storage\n",
      "3. Engine Performance Boost\n",
      "4. Clutch Function\n"
     ]
    },
    {
     "name": "stderr",
     "output_type": "stream",
     "text": [
      "Setting `pad_token_id` to `eos_token_id`:128001 for open-end generation.\n"
     ]
    },
    {
     "name": "stdout",
     "output_type": "stream",
     "text": [
      "Document  45 :  1. Automotive Mechanics\n",
      "2. Hybrid Vehicle Design\n",
      "3. Engine Lubrication System\n",
      "4. Transmission Mechanism\n",
      "5. Crankshaft Components\n"
     ]
    },
    {
     "name": "stderr",
     "output_type": "stream",
     "text": [
      "Setting `pad_token_id` to `eos_token_id`:128001 for open-end generation.\n"
     ]
    },
    {
     "name": "stdout",
     "output_type": "stream",
     "text": [
      "Document  46 :  1. Mechanical Efficiency\n",
      "2. Energy Amplification\n",
      "3. Mechanical Systems Design\n",
      "4. Power Transmission\n",
      "5. Energy Conservation\n"
     ]
    },
    {
     "name": "stderr",
     "output_type": "stream",
     "text": [
      "Setting `pad_token_id` to `eos_token_id`:128001 for open-end generation.\n"
     ]
    },
    {
     "name": "stdout",
     "output_type": "stream",
     "text": [
      "Document  47 :  Automotive Technology \n",
      "Hybrid Powertrain Systems \n",
      "Engine Start Control \n",
      "Vibration Dampening \n",
      "Torque Control\n"
     ]
    },
    {
     "name": "stderr",
     "output_type": "stream",
     "text": [
      "Setting `pad_token_id` to `eos_token_id`:128001 for open-end generation.\n"
     ]
    },
    {
     "name": "stdout",
     "output_type": "stream",
     "text": [
      "Document  48 :  Automotive Gearbox \n",
      "Automatic Transmission \n",
      "Gearbox Control \n",
      "Planetary Gear System \n",
      "Motor Vehicle Components \n",
      "Drive Train Technology \n",
      "Gearbox Design \n",
      "Speed Dependent Switching\n",
      "Document  49 :  1. Vehicle Transmission Systems\n",
      "2. Power Transmission Apparatus\n",
      "3. Torque Conversion Devices\n",
      "Time to process 50 docs:  139.46169519424438\n"
     ]
    }
   ],
   "source": [
    "start = time.time()\n",
    "counter = 0\n",
    "for doc in abstracts:\n",
    "    prompt = f'''Do topic modelling for the following document and generate an appropriate number of short topic labels. If the document\n",
    "    does not contain enough information, return -1. Make sure the topic labels highly suit the document. The document is as follows:\n",
    "\n",
    "    {doc}'''\n",
    "    \n",
    "    messages = [\n",
    "        {\"role\": \"system\", \"content\": \"You are a helpful topic labelling modelling assistant. You must only output the topic labels.\"},\n",
    "        {\"role\": \"user\", \"content\": f\"{prompt}\"},\n",
    "    ]\n",
    "    outputs = pipeline(\n",
    "    messages,\n",
    "    max_new_tokens=256,\n",
    "    )\n",
    "    print('Document ',counter, ': ', outputs[0][\"generated_text\"][-1]['content'].strip())\n",
    "    counter += 1\n",
    "    \n",
    "end = time.time()\n",
    "print('Time to process 50 docs: ', end - start)"
   ]
  }
 ],
 "metadata": {
  "kernelspec": {
   "display_name": "Python",
   "language": "python",
   "name": "python3"
  },
  "language_info": {
   "codemirror_mode": {
    "name": "ipython",
    "version": 3
   },
   "file_extension": ".py",
   "mimetype": "text/x-python",
   "name": "python",
   "nbconvert_exporter": "python",
   "pygments_lexer": "ipython3",
   "version": "3.8.10"
  }
 },
 "nbformat": 4,
 "nbformat_minor": 5
}
