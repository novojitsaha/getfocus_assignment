{
 "cells": [
  {
   "cell_type": "markdown",
   "metadata": {},
   "source": [
    "### Imports"
   ]
  },
  {
   "cell_type": "code",
   "execution_count": 18,
   "metadata": {},
   "outputs": [],
   "source": [
    "import nltk\n",
    "import json\n",
    "import xml.etree.ElementTree as ET\n"
   ]
  },
  {
   "cell_type": "code",
   "execution_count": 36,
   "metadata": {},
   "outputs": [
    {
     "name": "stdout",
     "output_type": "stream",
     "text": [
      "{'family_id': 40372123, 'ipcr': ['B60K6/42', 'B60K6/24'], 'ucid': 'KR-100872632-B1', 'invention_title': {'lang': 'EN', 'load_source': 'docdb', 'text': '<invention-title>HYDRAULIC REGENEATIVE BRAKING AND POWER ASSIST APPARATUS FOR HEV</invention-title>'}, 'abstract': {'lang': 'EN', 'load_source': 'docdb', 'text': '<abstract><p>A hydraulic regenerative braking and power support device for the hybrid vehicle is provided to improve the total efficiency of the hybrid vehicle since the unavailable energy generated in the internal combustion engine is utilized in order to maintain the isothermal condition in the compression and expansion of the compressed air. A hydraulic regenerative braking and power support device for the hybrid vehicle comprises a high pressure storage tank(10) in which the compressed air is charged on the top of the tank inside, and the working fluid is stored in the lower part of the tank inside, a heat exchanger which heat-exchanges he compressed air(11) on the top of the inside of the high pressure storage tank, a fluid compressor which raises the pressure of the working fluid flowed in from the low pressure storage tank, and transfers and stores the working fluid to the high pressure storage tank. The risen temperature of the compressed air is cooled by the heat exchanger in the working fluid storage at the high pressure storage tank.</p></abstract>'}, 'claims': {'lang': 'EN', 'load_source': 'google', 'text': '<claims><claim num=\"1\"><claim-text>In hydraulic regenerative braking and power assist device for hybrid vehicle,</claim-text><claim-text>The upper portion of the tank is filled with compressed air, the lower portion of the tank inside the high pressure storage tank for storing the operating oil;</claim-text><claim-text>A heat exchanger installed to exchange heat with compressed air at an upper portion of the inside of the high pressure storage tank;</claim-text><claim-text>Low pressure storage tank in which a certain amount of working oil is stored; And</claim-text><claim-text>A fluid compressor that receives power from an engine during regenerative braking, boosts hydraulic oil introduced from the low pressure storage tank, and transfers and stores the hydraulic oil to a high pressure storage tank;</claim-text><claim-text>It is configured to include, the hydraulic regenerative braking and power assistance device for a hybrid vehicle, characterized in that the temperature rise of the compressed air when the operating oil stored in the high pressure storage tank is cooled by a heat exchanger.</claim-text></claim><claim num=\"2\"><claim-text>The method according to claim 1,</claim-text><claim-text>The heat exchanger is supplied with cooling water cooled by a radiator, and hydraulic regenerative braking and power assist device for a hybrid vehicle, characterized in that the three-way valve is installed in the low-temperature side cooling water circulation pipe to open and close the flow rate of the cooling water.</claim-text></claim><claim num=\"3\"><claim-text>The method according to claim 2,</claim-text><claim-text>Hydraulic regenerative braking and power assistance device for a hybrid vehicle, characterized in that the flow rate control valve is installed in the pipe connected between the high pressure storage tank and the fluid compressor to control the flow rate of the working oil stored in the high pressure storage tank.</claim-text></claim><claim num=\"4\"><claim-text>The method according to claim 3,</claim-text><claim-text>In order to receive the driving force of the engine, the fluid compressor includes an electromagnetic clutch, a hydraulic regenerative braking and power assistance device for a hybrid vehicle, characterized in that it comprises a belt or chain connecting the drive pulley and the electronic clutch of the engine driven shaft.</claim-text></claim><claim num=\"5\"><claim-text>The method according to claim 4,</claim-text><claim-text>The flow regulating valve, the three-way valve and the electromagnetic clutch is hydraulic regenerative braking and power assist device for a hybrid vehicle, characterized in that the operation is controlled by receiving a control signal from the ECU.</claim-text></claim><claim num=\"6\"><claim-text>In hydraulic regenerative braking and power assist device for hybrid vehicle,</claim-text><claim-text>The upper portion of the tank is filled with compressed air, the lower portion of the tank inside the high pressure storage tank for storing the operating oil;</claim-text><claim-text>A heat exchanger installed to exchange heat with compressed air at an upper portion of the inside of the high pressure storage tank;</claim-text><claim-text>Low pressure storage tank in which a certain amount of working oil is stored; And</claim-text><claim-text>A fluid actuator that receives hydraulic pressure from the high pressure storage tank to generate power in the energy discharge mode, and then transfers and stores the working oil to the low pressure storage tank;</claim-text><claim-text>It is configured to include, the hydraulic regenerative braking and power assistance device for a hybrid vehicle, characterized in that the temperature drop of the compressed air when the hydraulic oil discharged to the high pressure storage tank is heated by a heat exchanger.</claim-text></claim><claim num=\"7\"><claim-text>The method according to claim 6,</claim-text><claim-text>The heat exchanger is supplied with the coolant heated in the engine, the hydraulic regenerative braking and power assist device for a hybrid vehicle, characterized in that the three-way valve is installed in the high-temperature side cooling water circulation pipe to open and close the flow rate of the cooling water.</claim-text></claim><claim num=\"8\"><claim-text>The method according to claim 7,</claim-text><claim-text>Hydraulic regenerative braking and power assistance device for a hybrid vehicle, characterized in that the flow rate control valve is installed in the pipe connected between the high pressure storage tank and the fluid actuator to control the flow rate of the working oil stored in the high pressure storage tank.</claim-text></claim><claim num=\"9\"><claim-text>The method according to claim 8,</claim-text><claim-text>The hydraulic actuator for transmitting power to the engine, the hydraulic regenerative braking and power assist device for a hybrid vehicle, characterized in that it comprises an electronic clutch, a belt or chain connecting the drive pulley and the electronic clutch of the engine driven shaft.</claim-text></claim><claim num=\"10\"><claim-text>The method according to claim 9,</claim-text><claim-text>The flow regulating valve, the three-way valve and the electromagnetic clutch is hydraulic regenerative braking and power assist device for a hybrid vehicle, characterized in that the operation is controlled by receiving a control signal from the ECU.</claim-text></claim></claims>'}}\n"
     ]
    }
   ],
   "source": [
    "with open(\"./data/sample_data.json\", \"r\") as json_file:\n",
    "    \n",
    "    lines = json_file.readlines() # each line contains one json object\n",
    "\n",
    "    # for obj in lines:\n",
    "\n",
    "    data = json.loads(lines[0])\n",
    "    print(data)\n"
   ]
  },
  {
   "cell_type": "code",
   "execution_count": 37,
   "metadata": {},
   "outputs": [],
   "source": [
    "invention_title = data['invention_title']['text']\n",
    "abstract = data['abstract']['text']\n",
    "claims = data['claims']['text']"
   ]
  },
  {
   "cell_type": "code",
   "execution_count": 39,
   "metadata": {},
   "outputs": [
    {
     "name": "stdout",
     "output_type": "stream",
     "text": [
      "<claims><claim num=\"1\"><claim-text>In hydraulic regenerative braking and power assist device for hybrid vehicle,</claim-text><claim-text>The upper portion of the tank is filled with compressed air, the lower portion of the tank inside the high pressure storage tank for storing the operating oil;</claim-text><claim-text>A heat exchanger installed to exchange heat with compressed air at an upper portion of the inside of the high pressure storage tank;</claim-text><claim-text>Low pressure storage tank in which a certain amount of working oil is stored; And</claim-text><claim-text>A fluid compressor that receives power from an engine during regenerative braking, boosts hydraulic oil introduced from the low pressure storage tank, and transfers and stores the hydraulic oil to a high pressure storage tank;</claim-text><claim-text>It is configured to include, the hydraulic regenerative braking and power assistance device for a hybrid vehicle, characterized in that the temperature rise of the compressed air when the operating oil stored in the high pressure storage tank is cooled by a heat exchanger.</claim-text></claim><claim num=\"2\"><claim-text>The method according to claim 1,</claim-text><claim-text>The heat exchanger is supplied with cooling water cooled by a radiator, and hydraulic regenerative braking and power assist device for a hybrid vehicle, characterized in that the three-way valve is installed in the low-temperature side cooling water circulation pipe to open and close the flow rate of the cooling water.</claim-text></claim><claim num=\"3\"><claim-text>The method according to claim 2,</claim-text><claim-text>Hydraulic regenerative braking and power assistance device for a hybrid vehicle, characterized in that the flow rate control valve is installed in the pipe connected between the high pressure storage tank and the fluid compressor to control the flow rate of the working oil stored in the high pressure storage tank.</claim-text></claim><claim num=\"4\"><claim-text>The method according to claim 3,</claim-text><claim-text>In order to receive the driving force of the engine, the fluid compressor includes an electromagnetic clutch, a hydraulic regenerative braking and power assistance device for a hybrid vehicle, characterized in that it comprises a belt or chain connecting the drive pulley and the electronic clutch of the engine driven shaft.</claim-text></claim><claim num=\"5\"><claim-text>The method according to claim 4,</claim-text><claim-text>The flow regulating valve, the three-way valve and the electromagnetic clutch is hydraulic regenerative braking and power assist device for a hybrid vehicle, characterized in that the operation is controlled by receiving a control signal from the ECU.</claim-text></claim><claim num=\"6\"><claim-text>In hydraulic regenerative braking and power assist device for hybrid vehicle,</claim-text><claim-text>The upper portion of the tank is filled with compressed air, the lower portion of the tank inside the high pressure storage tank for storing the operating oil;</claim-text><claim-text>A heat exchanger installed to exchange heat with compressed air at an upper portion of the inside of the high pressure storage tank;</claim-text><claim-text>Low pressure storage tank in which a certain amount of working oil is stored; And</claim-text><claim-text>A fluid actuator that receives hydraulic pressure from the high pressure storage tank to generate power in the energy discharge mode, and then transfers and stores the working oil to the low pressure storage tank;</claim-text><claim-text>It is configured to include, the hydraulic regenerative braking and power assistance device for a hybrid vehicle, characterized in that the temperature drop of the compressed air when the hydraulic oil discharged to the high pressure storage tank is heated by a heat exchanger.</claim-text></claim><claim num=\"7\"><claim-text>The method according to claim 6,</claim-text><claim-text>The heat exchanger is supplied with the coolant heated in the engine, the hydraulic regenerative braking and power assist device for a hybrid vehicle, characterized in that the three-way valve is installed in the high-temperature side cooling water circulation pipe to open and close the flow rate of the cooling water.</claim-text></claim><claim num=\"8\"><claim-text>The method according to claim 7,</claim-text><claim-text>Hydraulic regenerative braking and power assistance device for a hybrid vehicle, characterized in that the flow rate control valve is installed in the pipe connected between the high pressure storage tank and the fluid actuator to control the flow rate of the working oil stored in the high pressure storage tank.</claim-text></claim><claim num=\"9\"><claim-text>The method according to claim 8,</claim-text><claim-text>The hydraulic actuator for transmitting power to the engine, the hydraulic regenerative braking and power assist device for a hybrid vehicle, characterized in that it comprises an electronic clutch, a belt or chain connecting the drive pulley and the electronic clutch of the engine driven shaft.</claim-text></claim><claim num=\"10\"><claim-text>The method according to claim 9,</claim-text><claim-text>The flow regulating valve, the three-way valve and the electromagnetic clutch is hydraulic regenerative braking and power assist device for a hybrid vehicle, characterized in that the operation is controlled by receiving a control signal from the ECU.</claim-text></claim></claims>\n"
     ]
    }
   ],
   "source": [
    "print(claims)"
   ]
  },
  {
   "cell_type": "code",
   "execution_count": 40,
   "metadata": {},
   "outputs": [],
   "source": [
    "xml = ET.fromstring(claims)"
   ]
  },
  {
   "cell_type": "code",
   "execution_count": 41,
   "metadata": {},
   "outputs": [
    {
     "name": "stdout",
     "output_type": "stream",
     "text": [
      "claims\n"
     ]
    }
   ],
   "source": [
    "print(xml.tag)"
   ]
  },
  {
   "cell_type": "code",
   "execution_count": 42,
   "metadata": {},
   "outputs": [
    {
     "name": "stdout",
     "output_type": "stream",
     "text": [
      "{}\n"
     ]
    }
   ],
   "source": [
    "print(xml.attrib)"
   ]
  },
  {
   "cell_type": "code",
   "execution_count": 48,
   "metadata": {},
   "outputs": [
    {
     "name": "stdout",
     "output_type": "stream",
     "text": [
      "claim-text {} In hydraulic regenerative braking and power assist device for hybrid vehicle,\n",
      "claim-text {} The upper portion of the tank is filled with compressed air, the lower portion of the tank inside the high pressure storage tank for storing the operating oil;\n",
      "claim-text {} A heat exchanger installed to exchange heat with compressed air at an upper portion of the inside of the high pressure storage tank;\n",
      "claim-text {} Low pressure storage tank in which a certain amount of working oil is stored; And\n",
      "claim-text {} A fluid compressor that receives power from an engine during regenerative braking, boosts hydraulic oil introduced from the low pressure storage tank, and transfers and stores the hydraulic oil to a high pressure storage tank;\n",
      "claim-text {} It is configured to include, the hydraulic regenerative braking and power assistance device for a hybrid vehicle, characterized in that the temperature rise of the compressed air when the operating oil stored in the high pressure storage tank is cooled by a heat exchanger.\n",
      "claim-text {} The method according to claim 1,\n",
      "claim-text {} The heat exchanger is supplied with cooling water cooled by a radiator, and hydraulic regenerative braking and power assist device for a hybrid vehicle, characterized in that the three-way valve is installed in the low-temperature side cooling water circulation pipe to open and close the flow rate of the cooling water.\n",
      "claim-text {} The method according to claim 2,\n",
      "claim-text {} Hydraulic regenerative braking and power assistance device for a hybrid vehicle, characterized in that the flow rate control valve is installed in the pipe connected between the high pressure storage tank and the fluid compressor to control the flow rate of the working oil stored in the high pressure storage tank.\n",
      "claim-text {} The method according to claim 3,\n",
      "claim-text {} In order to receive the driving force of the engine, the fluid compressor includes an electromagnetic clutch, a hydraulic regenerative braking and power assistance device for a hybrid vehicle, characterized in that it comprises a belt or chain connecting the drive pulley and the electronic clutch of the engine driven shaft.\n",
      "claim-text {} The method according to claim 4,\n",
      "claim-text {} The flow regulating valve, the three-way valve and the electromagnetic clutch is hydraulic regenerative braking and power assist device for a hybrid vehicle, characterized in that the operation is controlled by receiving a control signal from the ECU.\n",
      "claim-text {} In hydraulic regenerative braking and power assist device for hybrid vehicle,\n",
      "claim-text {} The upper portion of the tank is filled with compressed air, the lower portion of the tank inside the high pressure storage tank for storing the operating oil;\n",
      "claim-text {} A heat exchanger installed to exchange heat with compressed air at an upper portion of the inside of the high pressure storage tank;\n",
      "claim-text {} Low pressure storage tank in which a certain amount of working oil is stored; And\n",
      "claim-text {} A fluid actuator that receives hydraulic pressure from the high pressure storage tank to generate power in the energy discharge mode, and then transfers and stores the working oil to the low pressure storage tank;\n",
      "claim-text {} It is configured to include, the hydraulic regenerative braking and power assistance device for a hybrid vehicle, characterized in that the temperature drop of the compressed air when the hydraulic oil discharged to the high pressure storage tank is heated by a heat exchanger.\n",
      "claim-text {} The method according to claim 6,\n",
      "claim-text {} The heat exchanger is supplied with the coolant heated in the engine, the hydraulic regenerative braking and power assist device for a hybrid vehicle, characterized in that the three-way valve is installed in the high-temperature side cooling water circulation pipe to open and close the flow rate of the cooling water.\n",
      "claim-text {} The method according to claim 7,\n",
      "claim-text {} Hydraulic regenerative braking and power assistance device for a hybrid vehicle, characterized in that the flow rate control valve is installed in the pipe connected between the high pressure storage tank and the fluid actuator to control the flow rate of the working oil stored in the high pressure storage tank.\n",
      "claim-text {} The method according to claim 8,\n",
      "claim-text {} The hydraulic actuator for transmitting power to the engine, the hydraulic regenerative braking and power assist device for a hybrid vehicle, characterized in that it comprises an electronic clutch, a belt or chain connecting the drive pulley and the electronic clutch of the engine driven shaft.\n",
      "claim-text {} The method according to claim 9,\n",
      "claim-text {} The flow regulating valve, the three-way valve and the electromagnetic clutch is hydraulic regenerative braking and power assist device for a hybrid vehicle, characterized in that the operation is controlled by receiving a control signal from the ECU.\n"
     ]
    }
   ],
   "source": [
    "for child in xml:\n",
    "    # print(child.tag, child.attrib, child.text)\n",
    "    for c in child:\n",
    "        print(c.tag, c.attrib, c.text)"
   ]
  },
  {
   "cell_type": "code",
   "execution_count": null,
   "metadata": {},
   "outputs": [],
   "source": []
  }
 ],
 "metadata": {
  "kernelspec": {
   "display_name": "venv",
   "language": "python",
   "name": "python3"
  },
  "language_info": {
   "codemirror_mode": {
    "name": "ipython",
    "version": 3
   },
   "file_extension": ".py",
   "mimetype": "text/x-python",
   "name": "python",
   "nbconvert_exporter": "python",
   "pygments_lexer": "ipython3",
   "version": "3.12.3"
  }
 },
 "nbformat": 4,
 "nbformat_minor": 2
}
